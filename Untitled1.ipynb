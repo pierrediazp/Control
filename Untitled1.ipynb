{
 "cells": [
  {
   "cell_type": "code",
   "execution_count": 2,
   "id": "aefafdaa",
   "metadata": {},
   "outputs": [],
   "source": [
    "import sympy \n",
    "sympy.init_printing()\n",
    "%matplotlib inline\n",
    "\n",
    "import pandas as pd\n",
    "import numpy as np\n",
    "import matplotlib.pyplot as plt\n",
    "import control\n",
    "\n",
    "\n",
    "import scipy.optimize\n",
    "from tbcontrol.responses import fopdt, sopdt\n",
    "from ipywidgets import interact\n",
    "\n",
    "def resultplot1(K, tau, theta, y0):\n",
    "    plt.figure(figsize=(21, 7))\n",
    "    plt.scatter(ts, ym)\n",
    "    plt.plot(ts, fopdt(ts, K, tau, theta, y0), color='red')\n",
    "    plt.grid(True)\n",
    "\n",
    "def resultplot2(K, tau, zeta, theta, y0):\n",
    "    plt.figure(figsize=(21, 7))\n",
    "    plt.scatter(ts, ym)\n",
    "    plt.plot(ts, sopdt(ts, K, tau, zeta,theta, y0), color='red')\n",
    "    plt.grid(True)"
   ]
  },
  {
   "cell_type": "code",
   "execution_count": 3,
   "id": "8496c6a7",
   "metadata": {},
   "outputs": [
    {
     "data": {
      "text/latex": [
       "$$\\frac{s + 2}{2 s^3 + 3 s^2 + 4 s + 1}$$"
      ],
      "text/plain": [
       "TransferFunction(array([1, 2]), array([2, 3, 4, 1]))"
      ]
     },
     "execution_count": 3,
     "metadata": {},
     "output_type": "execute_result"
    }
   ],
   "source": [
    "GP = control.tf([1, 2], [2, 3, 4, 1])\n",
    "GP"
   ]
  },
  {
   "cell_type": "code",
   "execution_count": 5,
   "id": "8de0b4d1",
   "metadata": {},
   "outputs": [
    {
     "data": {
      "text/latex": [
       "$$\\frac{0.7449 s^2 + 2.707 s + 2.46}{0.0003025 s^2 + 1.1 s}$$"
      ],
      "text/plain": [
       "TransferFunction(array([0.74489415, 2.7066765 , 2.46      ]), array([3.025e-04, 1.100e+00, 0.000e+00]))"
      ]
     },
     "execution_count": 5,
     "metadata": {},
     "output_type": "execute_result"
    }
   ],
   "source": [
    "Ku = 4.1\n",
    "Pu = 2.2\n",
    "KC3 = 0.6*Ku\n",
    "TI3 = 0.5*Pu\n",
    "TD3 = 0.125*Pu\n",
    "GC_PID3 = KC3*(1 + control.tf(1,[TI3,0]) + control.tf([TD3,0],[0.001*TD3,1]))\n",
    "GC_PID3"
   ]
  },
  {
   "cell_type": "markdown",
   "id": "288e419a",
   "metadata": {},
   "source": [
    "ziegler nichols lazo cerrado\n",
    "\n",
    "Con estos valores se encuentran los parámetros del PID\n",
    "\n",
    "| Controlador   |\t$K_p$   |\t $\\tau_I$       |  $\\tau_d$     |\n",
    "|---------------|-----------|-------------------|---------------|\n",
    "| P\t            | $0.5K_u$  | \t$\\infty$        |\t$0$         |\n",
    "| PI\t        | $0.45K_u$ |$\\frac{1}{1.2}P_u$ | \t$0 $        |\n",
    "| PID\t        | $0.6K_u$  | $0.5P_u$          |  $0.125P_u$     |"
   ]
  },
  {
   "cell_type": "code",
   "execution_count": 4,
   "id": "1a545b70",
   "metadata": {},
   "outputs": [
    {
     "name": "stdout",
     "output_type": "stream",
     "text": [
      "Requirement already satisfied: python-snap7==0.5 in c:\\users\\usuario\\.conda\\envs\\sistdin\\lib\\site-packages (0.5)\n"
     ]
    }
   ],
   "source": [
    "!pip install python-snap7==0.5\n",
    "# va en version 1.1\n",
    "import snap7.client as c\n",
    "from snap7.util import * #set_int   set_bool\n",
    "from snap7.snap7types import * # areas\n",
    "import time\n",
    "# !pip install keyboard \n",
    "import keyboard  # using module keyboard\n",
    "import os\n",
    "import math\n",
    "import numpy as np\n",
    "import matplotlib.pyplot as plt\n",
    "import pandas as pd"
   ]
  },
  {
   "cell_type": "code",
   "execution_count": null,
   "id": "76d04822",
   "metadata": {},
   "outputs": [],
   "source": [
    "tm = 0.5 # periodo de muestreo\n",
    "tf = 300 # tiempo final del experimento\n",
    "t = np.linspace(0.0 ,tf, round(tf/tm) + 1)\n",
    "t0,v0,vf = 10,5,10\n",
    "r = np.where(t>=t0,vf,v0)\n",
    "plt.plot(t,r) "
   ]
  }
 ],
 "metadata": {
  "kernelspec": {
   "display_name": "Python 3",
   "language": "python",
   "name": "python3"
  },
  "language_info": {
   "codemirror_mode": {
    "name": "ipython",
    "version": 3
   },
   "file_extension": ".py",
   "mimetype": "text/x-python",
   "name": "python",
   "nbconvert_exporter": "python",
   "pygments_lexer": "ipython3",
   "version": "3.7.3"
  },
  "latex_envs": {
   "LaTeX_envs_menu_present": true,
   "autoclose": false,
   "autocomplete": true,
   "bibliofile": "biblio.bib",
   "cite_by": "apalike",
   "current_citInitial": 1,
   "eqLabelWithNumbers": true,
   "eqNumInitial": 1,
   "hotkeys": {
    "equation": "Ctrl-E",
    "itemize": "Ctrl-I"
   },
   "labels_anchors": false,
   "latex_user_defs": false,
   "report_style_numbering": false,
   "user_envs_cfg": false
  },
  "varInspector": {
   "cols": {
    "lenName": 16,
    "lenType": 16,
    "lenVar": 40
   },
   "kernels_config": {
    "python": {
     "delete_cmd_postfix": "",
     "delete_cmd_prefix": "del ",
     "library": "var_list.py",
     "varRefreshCmd": "print(var_dic_list())"
    },
    "r": {
     "delete_cmd_postfix": ") ",
     "delete_cmd_prefix": "rm(",
     "library": "var_list.r",
     "varRefreshCmd": "cat(var_dic_list()) "
    }
   },
   "types_to_exclude": [
    "module",
    "function",
    "builtin_function_or_method",
    "instance",
    "_Feature"
   ],
   "window_display": false
  }
 },
 "nbformat": 4,
 "nbformat_minor": 5
}
