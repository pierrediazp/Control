{
 "cells": [
  {
   "cell_type": "markdown",
   "id": "f9a61b9e",
   "metadata": {},
   "source": [
    "Control\n",
    "=============\n",
    "# Control\n",
    "- Contiene una colección de notebooks de [Jupyter](https://jupyter.org/) con notas y ejemplos con el contenido propuesto para los cursos **Control análogo** y **Control digital**.\n",
    "\n",
    "- Estas notas fueron escritas por [Jean Pierre DÍAZ-PAZ](https://www.ecoprofe.com/JPDP).\n",
    "\n",
    "- Los notebooks contienen código en [IPython 3](http://ipython.org/).\n"
   ]
  },
  {
   "cell_type": "markdown",
   "id": "397b94ff",
   "metadata": {},
   "source": [
    "## 0  Introducción\n",
    "\n",
    "- [Introducción a la programación con Python y Jupyter](PythonJupyter.ipynb)\n",
    "- [Cálculos en ingeniería con Sympy y Jupyter Notebooks](SympyJupyter.ipynb)\n",
    "- [Ejercicio: Análisis de un circuito con Sympy](EjercicioSympy.ipynb)\n",
    "- [Señales Estándar](SenalesEstandar.ipynb)\n",
    "- [Caracterización de Sistemas LTI en el Dominio del Tiempo](CaracterizacionLTI.ipynb)\n",
    "\n"
   ]
  },
  {
   "cell_type": "markdown",
   "id": "0c4d05a7",
   "metadata": {},
   "source": [
    "## 1  Modelos dinámicos en tiempo continuo\n",
    "\n",
    "- [Generalidades de la transformada de Laplace](Transformada_Laplace.ipynb)\n",
    "- [Respuesta dinámica](RespuestaDinamica.ipynb)\n",
    "- [Simulación de funciones de transferencia arbitrarias](Simulacion.ipynb)\n",
    "- [Modelo dinámico de un circuito RLC](CircuitoRLC.ipynb)\n",
    "- [Modelo dinámico de un sistema mecánico](Mecanico.ipynb)\n",
    "- [Modelo dinámico de un sistema de nivel](Fluidos.ipynb)\n",
    "- [Ejercicio: Análisis de un circuito con almacenamiento de energía](EjercicioCircuito.ipynb)\n",
    "- [Ejercicio: Analisis de un sistema mecánico](Ejercicio_mecanico.ipynb)\n",
    "- [Identificación de sistemas](Identificacion.ipynb)\n",
    "- [Ejercicio: Identificación de sistemas](Ejercicio_Identificacion.ipynb)\n",
    "- [Ejercicio: Identificación de sistemas en laboratorio](CapturaDatosPLC_Siemens.ipynb)"
   ]
  },
  {
   "cell_type": "markdown",
   "id": "6a993173",
   "metadata": {},
   "source": [
    "## 2  Sistemas realimentados\n",
    "\n",
    "- [Bucle de control en tiempo continuo](Bucle_control.ipynb)\n",
    "- [Diagramas de bloques](Diagramas_bloques.ipynb)\n",
    "- [Ejercicio: Diagramas de bloques](EjercicioBloques.ipynb)\n",
    "- [Efectos de la realimentación](EfectosLazoCerrado.ipynb)\n",
    "- [Ejercicio: Efectos de la realimentación](Ejercicio_EfectoLC.ipynb)\n",
    "- [Error de estado estable](ErrorEstadoEstable.ipynb)\n"
   ]
  },
  {
   "cell_type": "markdown",
   "id": "8d7cc94c",
   "metadata": {},
   "source": [
    "## 3 Lugar geométrico de las raíces\n",
    "\n",
    "\n",
    "- [Criterio de Routh](Routh.ipynb)\n",
    "- [Lugar geométrico de las raíces](LGDR.ipynb)\n",
    "- [Diseño de controladores mediante Lugar Geométrico de las Raíces](controlLGDR.ipynb)\n",
    "- [Ejercicio: Lugar geométrico de las raíces en modelos](LGDR-ejercicio.ipynb)\n",
    "- [Ejercicio: Lugar geométrico de las raíces en laboratorio](LGDR_PLC_Siemens.ipynb)\n"
   ]
  },
  {
   "cell_type": "markdown",
   "id": "4e92b811",
   "metadata": {},
   "source": [
    "## 4 PID\n",
    "\n",
    "\n",
    "- [Sintonización de controladores PID](PID.ipynb)\n",
    "- [Ejercicio: PID en modelos](PID-ejercicio.ipynb)\n",
    "- [Ejercicio: PID en laboratorio](PID_PLC_Siemens.ipynb)\n"
   ]
  },
  {
   "cell_type": "markdown",
   "id": "8d639fcd",
   "metadata": {},
   "source": [
    "## 5 Análisis en frecuencia\n",
    "\n",
    "\n",
    "- [Análisis de la respuesta en frecuencia](Frecuencia.ipynb)\n",
    "\n"
   ]
  },
  {
   "cell_type": "markdown",
   "id": "1054c6cd",
   "metadata": {},
   "source": [
    "## 6 Espacio de estados\n",
    "- [Modelos en espacios de estados](EspacioEstados.ipynb)"
   ]
  },
  {
   "cell_type": "code",
   "execution_count": null,
   "id": "d0406631",
   "metadata": {},
   "outputs": [],
   "source": []
  }
 ],
 "metadata": {
  "kernelspec": {
   "display_name": "Python 3",
   "language": "python",
   "name": "python3"
  },
  "language_info": {
   "codemirror_mode": {
    "name": "ipython",
    "version": 3
   },
   "file_extension": ".py",
   "mimetype": "text/x-python",
   "name": "python",
   "nbconvert_exporter": "python",
   "pygments_lexer": "ipython3",
   "version": "3.7.3"
  },
  "latex_envs": {
   "bibliofile": "biblio.bib",
   "cite_by": "apalike",
   "current_citInitial": 1,
   "eqLabelWithNumbers": true,
   "eqNumInitial": 0
  },
  "toc": {
   "base_numbering": 1,
   "nav_menu": {},
   "number_sections": true,
   "sideBar": true,
   "skip_h1_title": false,
   "title_cell": "Table of Contents",
   "title_sidebar": "Contents",
   "toc_cell": false,
   "toc_position": {},
   "toc_section_display": true,
   "toc_window_display": false
  },
  "varInspector": {
   "cols": {
    "lenName": 16,
    "lenType": 16,
    "lenVar": 40
   },
   "kernels_config": {
    "python": {
     "delete_cmd_postfix": "",
     "delete_cmd_prefix": "del ",
     "library": "var_list.py",
     "varRefreshCmd": "print(var_dic_list())"
    },
    "r": {
     "delete_cmd_postfix": ") ",
     "delete_cmd_prefix": "rm(",
     "library": "var_list.r",
     "varRefreshCmd": "cat(var_dic_list()) "
    }
   },
   "types_to_exclude": [
    "module",
    "function",
    "builtin_function_or_method",
    "instance",
    "_Feature"
   ],
   "window_display": false
  }
 },
 "nbformat": 4,
 "nbformat_minor": 5
}
