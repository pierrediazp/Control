{
 "cells": [
  {
   "cell_type": "code",
   "execution_count": 1,
   "id": "845287fa",
   "metadata": {},
   "outputs": [],
   "source": [
    "import numpy as np\n",
    "import matplotlib.pyplot as plt\n",
    "%matplotlib inline\n",
    "import control\n",
    "from ipywidgets import interact\n",
    "\n",
    "ts = np.linspace(0, 10, 1000)\n",
    "\n",
    "def pzmap_k(kc):\n",
    "    plt.rcParams['figure.figsize'] = 10,4\n",
    "\n",
    "    print(kc)\n",
    "    ax_pzmap = plt.subplot2grid((1, 2), (0, 0))\n",
    "    ax_resp = plt.subplot2grid((1, 2), (0, 1))\n",
    "\n",
    "    gLC = control.feedback(kc*Gp,1)\n",
    "    _, yLC = control.step_response(gLC, ts)\n",
    "\n",
    "    pLC = gLC.pole()\n",
    "    cLC = gLC.zero()\n",
    "    \n",
    "    \n",
    "    ax_pzmap.plot(pLA.real, pLA.imag, 'rx',\n",
    "                  cLA.real, cLA.imag, 'ro',\n",
    "                  pLC.real, pLC.imag, 'bx',\n",
    "                  cLC.real, cLC.imag, 'bo')\n",
    "    ax_pzmap.legend(('p LA', 'c LA', 'p LC','c LC'))\n",
    "    ax_pzmap.axis(visualizacion_s)\n",
    "    ax_pzmap.grid()\n",
    "    ax_resp.plot(ts,yLA,'r',ts,yLC,'b')\n",
    "    ax_resp.axis(visualizacion_t)\n",
    "    ax_resp.grid()\n",
    "\n",
    "\n",
    "def rlocus_int(kc):\n",
    "    print(kc)\n",
    "    plt.rcParams['figure.figsize'] = 10,4\n",
    "    ax_pzmap = plt.subplot2grid((1, 2), (0, 0))\n",
    "    ax_resp = plt.subplot2grid((1, 2), (0, 1))\n",
    "    _, y = control.step_response(Gp, ts)\n",
    "\n",
    "    gLC = control.feedback(kc*Gp,1)\n",
    "    _, yLC = control.step_response(gLC, ts)\n",
    "\n",
    "    rlist,klist = control.root_locus(Gp,plot = False);\n",
    "    \n",
    "    pLC = gLC.pole()\n",
    "    cLC = gLC.zero()\n",
    "    \n",
    "    \n",
    "    ax_pzmap.plot(pLA.real, pLA.imag, 'rx',\n",
    "                  cLA.real, cLA.imag, 'ro',\n",
    "                  pLC.real, pLC.imag, 'bx',\n",
    "                  cLC.real, cLC.imag, 'bo',\n",
    "                  rlist.real, rlist.imag, '-k')\n",
    "    ax_pzmap.legend(('p LA', 'c LA', 'p LC','c LC','LGDR'))\n",
    "    ax_pzmap.axis(visualizacion_s)\n",
    "    ax_pzmap.grid()\n",
    "    ax_resp.plot(ts,yLA,'r',ts,yLC,'b')\n",
    "    ax_resp.axis(visualizacion_t)\n",
    "    ax_resp.grid()\n"
   ]
  },
  {
   "cell_type": "markdown",
   "id": "c0fbdab3",
   "metadata": {},
   "source": [
    "# Lugar Geométrico de las Raíces\n",
    "\n"
   ]
  },
  {
   "cell_type": "markdown",
   "id": "d8f7ea41",
   "metadata": {},
   "source": [
    "\n",
    "![bucle](figuras/bucle.PNG)\n",
    "\n",
    "\n",
    "Dado el bucle de control y cosideraciones en los sistemas que lo componen, la función de transferencia de un proceso controlado es:\n",
    "\n",
    "\\begin{equation}\n",
    "\\frac{C(s)}{R(s)} = \\frac{G_c(s)G_p(s)}{1 + G_c(s)G_p(s)H(s)}\n",
    "\\end{equation}\n",
    "\n",
    "Para efectos prácticos considere que $H(s)=1$. Si además se tiene en cuenta que los sistemas son LTI, puede considerarse que sus modelos corresponden a una fracción de polinomios.\n",
    "\n",
    "$$G_c(s)= \\frac{N_c(s)}{D_c(s)}$$\n",
    "$$G_p(s)= \\frac{N_p(s)}{D_p(s)}$$\n",
    "\n",
    "Y la función de transferencia de lazo cerrado queda:\n",
    "\n",
    "$$\\frac{C(s)}{R(s)} = \\frac{\\frac{N_c(s)N_p(s)}{D_c(s)D_p(s)}}{\\frac{D_c(s)D_p(s) + N_c(s)N_p(s)}{D_c(s)D_p(s)}} = \\frac{N_c(s)N_p(s)}{D_c(s)D_p(s) + N_c(s)N_p(s)}$$\n",
    "\n",
    "\n",
    "Cuando se considera que $G_c(s)=k_c$, la función de transferencia de lazo cerrado se reduce a:\n",
    "\n",
    "\\begin{equation}\n",
    "\\frac{C(s)}{R(s)} = \\frac{k_c G_p(s)}{1 + k_c G_p(s)}\n",
    "\\end{equation}\n",
    "\n",
    "o\n",
    "\n",
    "$$\\frac{C(s)}{R(s)} = \\frac{k_cN_p(s)}{D_p(s) + k_cN_p(s)}$$\n",
    "\n",
    "\n",
    "Observe que:\n",
    "- Los polos del sistema en lazo cerrado dependen de qué valor tome $k_c$.\n",
    "- Los ceros del sistema en lazo cerrado son los mismos que en lazo abierto al menos si $k_c   \\neq 0$.\n",
    "\n",
    "\n",
    "\n",
    "\n",
    "**¿Cómo varía la ubicación de los polos en función de $k_c$?**\n"
   ]
  },
  {
   "cell_type": "markdown",
   "id": "3546a9a2",
   "metadata": {},
   "source": [
    "**Ejemplo**\n",
    "\n",
    "Suponga un proceso modelado por:\n",
    "\n",
    "$$G_p(s) = \\frac{1}{s - 1}$$\n",
    "\n",
    "y una estrategia de contro definida por:\n",
    "\n",
    "$$G_c(s) = k_c$$\n"
   ]
  },
  {
   "cell_type": "code",
   "execution_count": 9,
   "id": "63dddc2f",
   "metadata": {},
   "outputs": [
    {
     "data": {
      "text/latex": [
       "$$\\frac{1}{s - 1}$$"
      ],
      "text/plain": [
       "TransferFunction(array([1]), array([ 1, -1]))"
      ]
     },
     "execution_count": 9,
     "metadata": {},
     "output_type": "execute_result"
    }
   ],
   "source": [
    "# Se define la función de transferencia del proceso\n",
    "Gp = control.tf([1], [1,-1])\n",
    "Gp"
   ]
  },
  {
   "cell_type": "markdown",
   "id": "ee90ab07",
   "metadata": {},
   "source": [
    "Varíe $k_c$ y observe cómo varía la posición de los polos del sistema."
   ]
  },
  {
   "cell_type": "code",
   "execution_count": 10,
   "id": "98c7247b",
   "metadata": {},
   "outputs": [
    {
     "data": {
      "application/vnd.jupyter.widget-view+json": {
       "model_id": "c140e6d7cc9f4f0ca312d25419f03154",
       "version_major": 2,
       "version_minor": 0
      },
      "text/plain": [
       "interactive(children=(FloatSlider(value=0.0, description='kc', max=10.0, min=-10.0), Output()), _dom_classes=(…"
      ]
     },
     "metadata": {},
     "output_type": "display_data"
    },
    {
     "data": {
      "text/plain": [
       "<function __main__.pzmap_k(kc)>"
      ]
     },
     "execution_count": 10,
     "metadata": {},
     "output_type": "execute_result"
    }
   ],
   "source": [
    "visualizacion_s = [-10, 10, -5, 5]\n",
    "visualizacion_t = [0, 10, -2, 2]\n",
    "\n",
    "pLA = Gp.pole()\n",
    "cLA = Gp.zero()\n",
    "_, yLA = control.step_response(Gp, ts)\n",
    "\n",
    "interact(pzmap_k, \n",
    "         kc=(-10., 10.))"
   ]
  },
  {
   "cell_type": "markdown",
   "id": "3272554e",
   "metadata": {},
   "source": [
    "¿Qué pasa con un sistema de segundo orden?"
   ]
  },
  {
   "cell_type": "code",
   "execution_count": 14,
   "id": "de5fb1b1",
   "metadata": {},
   "outputs": [
    {
     "data": {
      "text/latex": [
       "$$\\frac{2}{s^3 + 3 s^2 + 2 s}$$"
      ],
      "text/plain": [
       "TransferFunction(array([2]), array([1, 3, 2, 0]))"
      ]
     },
     "execution_count": 14,
     "metadata": {},
     "output_type": "execute_result"
    }
   ],
   "source": [
    "# Se define la función de transferencia del proceso\n",
    "#Gp = control.tf(2, [1,4,1])\n",
    "Gp = control.tf(2, [1,3,2,0])\n",
    "\n",
    "Gp\n"
   ]
  },
  {
   "cell_type": "code",
   "execution_count": 15,
   "id": "7f77ecd8",
   "metadata": {},
   "outputs": [
    {
     "data": {
      "application/vnd.jupyter.widget-view+json": {
       "model_id": "f7658e1b06174a82819a21cf35c52c29",
       "version_major": 2,
       "version_minor": 0
      },
      "text/plain": [
       "interactive(children=(FloatSlider(value=5.0, description='kc', max=10.0), Output()), _dom_classes=('widget-int…"
      ]
     },
     "metadata": {},
     "output_type": "display_data"
    },
    {
     "data": {
      "text/plain": [
       "<function __main__.pzmap_k(kc)>"
      ]
     },
     "execution_count": 15,
     "metadata": {},
     "output_type": "execute_result"
    }
   ],
   "source": [
    "visualizacion_s = [-10, 10, -5, 5]\n",
    "visualizacion_t = [0, 10, -2, 2]\n",
    "\n",
    "pLA = Gp.pole()\n",
    "cLA = Gp.zero()\n",
    "_, yLA = control.step_response(Gp, ts)\n",
    "\n",
    "interact(pzmap_k, \n",
    "         kc=(0., 10.))"
   ]
  },
  {
   "cell_type": "markdown",
   "id": "9e7354a7",
   "metadata": {},
   "source": [
    "Observe que en ambos casos, al variar el parámetro $k_c>0$,los polos del sistema en lazo cerrado describen trayectorias contiguas en el plano complejo $s$. A estas trayectorias se les conoce como [**Lugar Geométrico de las Raíces**](https://en.wikipedia.org/wiki/Root_locus).\n",
    "\n",
    "En este caso se ha variado el valor $k_c$, sin embargo es posible generar lugares variando un parámetro diferente dentro de $G_c(s)$ o $H(s)$.\n",
    "\n",
    "Hay técnicas numéricas para dibujar una aproximación del Lugar Geométrico de las Raíces, sin embargo, se usarán técnicas computacionales."
   ]
  },
  {
   "cell_type": "markdown",
   "id": "0d4fadd1",
   "metadata": {},
   "source": [
    "**Ejemplo**\n",
    "\n",
    "Considere un sistema de orden 3.\n",
    "\n",
    "$$G_p(s) = \\frac{2}{s \\left ( s^2 + 3s + 2\\right ) }$$\n",
    "\n",
    "Construya el Lugar de las raíces."
   ]
  },
  {
   "cell_type": "code",
   "execution_count": 44,
   "id": "f4e5105d",
   "metadata": {},
   "outputs": [
    {
     "data": {
      "text/latex": [
       "$$\\frac{2}{s^5 + 2 s^4 + 3 s^3 + 3 s^2 + 2 s + 1}$$"
      ],
      "text/plain": [
       "TransferFunction(array([2]), array([1, 2, 3, 3, 2, 1]))"
      ]
     },
     "execution_count": 44,
     "metadata": {},
     "output_type": "execute_result"
    }
   ],
   "source": [
    "# Se define la función de transferencia del proceso\n",
    "Gp = control.tf([2], [1,2,3,3,2,1])\n",
    "Gp"
   ]
  },
  {
   "cell_type": "code",
   "execution_count": 45,
   "id": "b303c997",
   "metadata": {},
   "outputs": [
    {
     "data": {
      "text/plain": [
       "array([-1.00000000e+00+0.j       , -5.55111512e-17+1.j       ,\n",
       "       -5.55111512e-17-1.j       , -5.00000000e-01+0.8660254j,\n",
       "       -5.00000000e-01-0.8660254j])"
      ]
     },
     "execution_count": 45,
     "metadata": {},
     "output_type": "execute_result"
    }
   ],
   "source": [
    "Gp.pole()"
   ]
  },
  {
   "cell_type": "code",
   "execution_count": 47,
   "id": "1d3b75b8",
   "metadata": {},
   "outputs": [
    {
     "name": "stdout",
     "output_type": "stream",
     "text": [
      "3\n"
     ]
    },
    {
     "data": {
      "image/png": "[encoded data removed]",
      "text/plain": [
       "<Figure size 720x288 with 2 Axes>"
      ]
     },
     "metadata": {
      "needs_background": "light"
     },
     "output_type": "display_data"
    }
   ],
   "source": [
    "visualizacion_s = [-5, 5, -5, 5]\n",
    "visualizacion_t = [0, 100, -2, 4]\n",
    "\n",
    "pLA = Gp.pole()\n",
    "cLA = Gp.zero()\n",
    "_, yLA = control.step_response(Gp, ts)\n",
    "\n",
    "rlocus_int(3)"
   ]
  },
  {
   "cell_type": "code",
   "execution_count": 29,
   "id": "94ee907e",
   "metadata": {},
   "outputs": [
    {
     "data": {
      "application/vnd.jupyter.widget-view+json": {
       "model_id": "673abb61c2b3457980a03a0d6592a194",
       "version_major": 2,
       "version_minor": 0
      },
      "text/plain": [
       "interactive(children=(FloatSlider(value=2.5, description='kc', max=5.0), Output()), _dom_classes=('widget-inte…"
      ]
     },
     "metadata": {},
     "output_type": "display_data"
    },
    {
     "data": {
      "text/plain": [
       "<function __main__.rlocus_int(kc)>"
      ]
     },
     "execution_count": 29,
     "metadata": {},
     "output_type": "execute_result"
    }
   ],
   "source": [
    "visualizacion_s = [-5, 5, -5, 5]\n",
    "visualizacion_t = [0, 10, -2, 4]\n",
    "\n",
    "pLA = Gp.pole()\n",
    "cLA = Gp.zero()\n",
    "_, yLA = control.step_response(Gp, ts)\n",
    "\n",
    "interact(rlocus_int, \n",
    "         kc=(0., 5.))"
   ]
  },
  {
   "cell_type": "markdown",
   "id": "9a2d08e9",
   "metadata": {},
   "source": [
    "Observe:\n",
    "- Este sistema es inestable en lazo abierto.\n",
    "- Al cerrar el lazo, el sistema se estabiliza pero si la ganancia sobrepasa un valor, se vuelve inestable nuevamente.\n",
    "\n",
    "Retomando la expresión\n",
    "\n",
    "$$\\frac{C(s)}{R(s)} = \\frac{k_cN_p(s)}{D_p(s) + k_cN_p(s)}$$\n",
    "\n",
    "Se llama ecuación característica a $D_p(s) + k_cN_p(s) = 0$. Esta permite definir la ubicación de los polos de lazo cerrado. \n",
    "\n",
    "**Preguntas**\n",
    "\n",
    "- ¿Hacia dónde se mueven los polos de lazo cerrado cuando $k_c \\rightarrow \\infty$?\n",
    "- ¿Puede encontrar los rangos de $k_c$ que hacen estable al sistema?"
   ]
  },
  {
   "cell_type": "markdown",
   "id": "6b60fcc0",
   "metadata": {},
   "source": [
    "Repita los análisis realizados con:\n",
    "\n",
    "$$G_p(s) = \\frac{s+3}{\\left (s+2 \\right )\\left (s+1 \\right )} $$"
   ]
  },
  {
   "cell_type": "code",
   "execution_count": 48,
   "id": "7c221697",
   "metadata": {},
   "outputs": [],
   "source": [
    "rlist,klist = control.root_locus(Gp,plot = False)"
   ]
  },
  {
   "cell_type": "code",
   "execution_count": 50,
   "id": "32fab457",
   "metadata": {},
   "outputs": [
    {
     "data": {
      "text/plain": [
       "array([0.00000000e+00, 0.00000000e+00, 2.52815140e-01, 5.05630280e-01,\n",
       "       7.58445420e-01, 1.01126056e+00, 2.02252112e+00, 3.03378168e+00,\n",
       "       4.04504224e+00, 8.09008448e+00, 1.21351267e+01, 1.61801690e+01,\n",
       "       3.23603379e+01, 4.85405069e+01, 6.47206759e+01, 8.09008448e+01,\n",
       "       9.70810138e+01, 1.13261183e+02, 1.29441352e+02, 1.45621521e+02,\n",
       "       1.61801690e+02, 1.77981859e+02, 1.94162028e+02, 2.10342197e+02,\n",
       "       2.26522366e+02, 2.42702534e+02, 2.58882703e+02, 2.75062872e+02,\n",
       "       2.91243041e+02, 3.07423210e+02, 3.23603379e+02, 3.39783548e+02,\n",
       "       3.55963717e+02, 3.72143886e+02, 3.88324055e+02, 4.04504224e+02,\n",
       "       4.20684393e+02, 4.36864562e+02, 4.53044731e+02, 4.69224900e+02,\n",
       "       4.85405069e+02, 5.01585238e+02, 5.17765407e+02, 5.33945576e+02,\n",
       "       5.50125745e+02, 5.66305914e+02, 5.82486083e+02, 5.98666252e+02,\n",
       "       6.14846421e+02, 6.31026590e+02, 6.47206759e+02, 6.63386928e+02,\n",
       "       6.79567097e+02, 6.95747265e+02, 7.11927434e+02, 7.28107603e+02,\n",
       "       7.44287772e+02, 7.60467941e+02, 7.76648110e+02, 7.92828279e+02,\n",
       "       7.92828279e+03, 7.92828279e+04, 7.92828279e+05])"
      ]
     },
     "execution_count": 50,
     "metadata": {},
     "output_type": "execute_result"
    }
   ],
   "source": [
    "klist"
   ]
  }
 ],
 "metadata": {
  "kernelspec": {
   "display_name": "Python 3",
   "language": "python",
   "name": "python3"
  },
  "language_info": {
   "codemirror_mode": {
    "name": "ipython",
    "version": 3
   },
   "file_extension": ".py",
   "mimetype": "text/x-python",
   "name": "python",
   "nbconvert_exporter": "python",
   "pygments_lexer": "ipython3",
   "version": "3.7.3"
  },
  "latex_envs": {
   "LaTeX_envs_menu_present": true,
   "autoclose": false,
   "autocomplete": true,
   "bibliofile": "biblio.bib",
   "cite_by": "apalike",
   "current_citInitial": 1,
   "eqLabelWithNumbers": true,
   "eqNumInitial": 0,
   "hotkeys": {
    "equation": "Ctrl-E",
    "itemize": "Ctrl-I"
   },
   "labels_anchors": false,
   "latex_user_defs": false,
   "report_style_numbering": false,
   "user_envs_cfg": false
  },
  "varInspector": {
   "cols": {
    "lenName": 16,
    "lenType": 16,
    "lenVar": 40
   },
   "kernels_config": {
    "python": {
     "delete_cmd_postfix": "",
     "delete_cmd_prefix": "del ",
     "library": "var_list.py",
     "varRefreshCmd": "print(var_dic_list())"
    },
    "r": {
     "delete_cmd_postfix": ") ",
     "delete_cmd_prefix": "rm(",
     "library": "var_list.r",
     "varRefreshCmd": "cat(var_dic_list()) "
    }
   },
   "types_to_exclude": [
    "module",
    "function",
    "builtin_function_or_method",
    "instance",
    "_Feature"
   ],
   "window_display": false
  }
 },
 "nbformat": 4,
 "nbformat_minor": 5
}
