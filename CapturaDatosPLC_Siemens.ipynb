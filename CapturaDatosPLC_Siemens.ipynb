{
 "cells": [
  {
   "cell_type": "code",
   "execution_count": 1,
   "id": "25964de8",
   "metadata": {
    "code_folding": [],
    "scrolled": true
   },
   "outputs": [],
   "source": [
    "# !pip install python-snap7==0.5\n",
    "# va en version 1.1\n",
    "import snap7.client as c\n",
    "from snap7.util import * #set_int   set_bool\n",
    "from snap7.snap7types import * # areas\n",
    "import time\n",
    "# !pip install keyboard \n",
    "import keyboard  # using module keyboard\n",
    "import os\n",
    "import math\n",
    "import numpy as np\n",
    "import matplotlib.pyplot as plt\n",
    "import pandas as pd"
   ]
  },
  {
   "cell_type": "markdown",
   "id": "4958d302",
   "metadata": {},
   "source": [
    "# Excitación del módulo  multivariable SIEMENS del PCJIC\n",
    "\n",
    "En el laboratorio de automática del Politécnico Colombiano Jaime Isaza Cadavid se encuentra un módulo multivariable que está controlado con un PLC  SIEMENS. Por esta razón, se utiliza el módulo `SNAP7` para interactuar con el PLC desde el notebook.\n",
    "\n",
    "Para instalar `SNAP7`:\n",
    "- Use la instrucción \n",
    "~~~\n",
    "!pip install python-snap7==0.5\n",
    "~~~\n",
    "\n",
    "- Descargue la librería completa de [https://sourceforge.net/projects/snap7/files/1.2.1/](https://sourceforge.net/projects/snap7/files/1.2.1/)\n",
    "\n",
    "- Copie `snap7.dll` y `snap7.lib` a su carpeta `System32`.\n",
    "\n"
   ]
  },
  {
   "cell_type": "markdown",
   "id": "5bf45a62",
   "metadata": {},
   "source": [
    "## 1. Establezca conexión con el PLC.\n",
    "\n",
    "El PLC tiene configurada la dirección IP **192.168.0.1**. Este funcionará como un servidor al cuál debe conectar su PC configurándole una dirección estática dentro de la subred del PLC.  Su dirección puede ser **192.168.0.2**, por ejemplo. Una vez su equipo haya establecido comunicación con el PLC, establezca conexión desde el notebook con las siguientes instrucciones."
   ]
  },
  {
   "cell_type": "code",
   "execution_count": 2,
   "id": "1068da4a",
   "metadata": {
    "code_folding": [],
    "scrolled": false
   },
   "outputs": [],
   "source": [
    "#Conexión con el PLC\n",
    "plc = c.Client()\n",
    "IP_PLC = '192.168.0.1'"
   ]
  },
  {
   "cell_type": "code",
   "execution_count": 3,
   "id": "0f3263de",
   "metadata": {},
   "outputs": [
    {
     "name": "stdout",
     "output_type": "stream",
     "text": [
      "Conectado\n"
     ]
    }
   ],
   "source": [
    "try:\n",
    "    plc.connect(IP_PLC,0,1)\n",
    "    print(\"Conectado\")\n",
    "except:\n",
    "    print(\"Algo no funcionó\")"
   ]
  },
  {
   "cell_type": "markdown",
   "id": "b6aed829",
   "metadata": {},
   "source": [
    "## 2. Identifique actuadores y sensores.\n",
    "\n",
    "Con `SNAP7` puede manipular los actuadores del sistema y capturar los datos de los sensores. Se han construido algunas funciones para facilitar la interacción con el PLC. \n",
    "\n",
    "Tenga en cuenta la siguiente información, que le orientará en cómo se ha conectado el sistema al PLC.\n",
    "\n",
    "|Elemento   |  Punto  |\n",
    "|-----------|---------|\n",
    "| Presión \t|    IW96 |\n",
    "| Flujo\t\t|    IW98 |\n",
    "| Nivel\t\t|   IW100 |\n",
    "| Run Bomba\t|    Q0.5 |\n",
    "| Bomba\t\t|    QW80 |\n",
    "| Válvula H20 |  QW96 |"
   ]
  },
  {
   "cell_type": "code",
   "execution_count": 4,
   "id": "75ee6d0b",
   "metadata": {},
   "outputs": [],
   "source": [
    "#ESCRIBIR SALIDA BOOLEANA\n",
    "def escr_sal_bool(byte, bit, valor):\n",
    "    lectura = plc.ab_read(byte, bit)\n",
    "    set_bool(lectura, byte, bit, valor)\n",
    "    plc.ab_write(0, lectura)\n",
    "#escr_sal_bool(0,1,1)\n",
    "\n",
    "#ESCRIBIR SALIDA ENTERO\n",
    "def escr_sal_ent(byte,valor):\n",
    "    lectura = plc.read_area(areas['PA'], 0, byte, 2) #PA: salidas, 0: bloque de datos, dirección, # bytes.\n",
    "    # print(lectura)\n",
    "    set_int(lectura, 0, valor)  # se da formato al valor deseado, en este caso entero\n",
    "    plc.write_area(areas['PA'], 0, byte, lectura)  # Escribe en la dirección definida\n",
    "#escr_sal_ent(90,9000)\n",
    "\n",
    "#LEER MARCA ENTERA\n",
    "def leer_ent_ent(byte):\n",
    "    leer = plc.read_area(areas['PE'],0,byte,2) #PE: entradas, 0: bloque de datos, dirección, # bytes.\n",
    "    leer_ent = get_int(leer,0) #Comando get_int(_bytearray, byte_index)\n",
    "    return leer_ent\n",
    "\n",
    "def AbrirValvulaQW96(valvulap):\n",
    "    # Abre la valvula en QW96 a un porcentaje determinado\n",
    "    valvula = ((7800 / 71.5) * (valvulap - 7.4)) + 6200\n",
    "    escr_sal_ent(96,valvula)\n",
    "    \n",
    "\n",
    "def BombaQW80(motobombaHz):\n",
    "    #Poner bomba en 60Hz salida QW80\n",
    "    motobomba = motobombaHz * (22118 / 60) + 5530\n",
    "    escr_sal_ent(80,motobomba)\n",
    "\n",
    "def leerNivelPLCIW100():\n",
    "    nivelplc = leer_ent_ent(100)\n",
    "    nivelcm = ((60 / 15105) * (nivelplc - 10125)) + 20\n",
    "    # print(nivelplc, nivelcm)\n",
    "    return nivelcm\n",
    "\n",
    "def leerPresionPLCIW96():\n",
    "    presionplc = leer_ent_ent(96)\n",
    "    # 0.64 5679\n",
    "    # 0.4  5623\n",
    "    mp = (0.64-0.4)/(5679-5623)\n",
    "    presion =  mp* presionplc - mp *5623+0.4\n",
    "    # print(presionplc, presion)\n",
    "    return presion\n",
    "\n",
    "\n",
    "def leerFlujoPLCIW98():\n",
    "    flujoplc = leer_ent_ent(98)\n",
    "    # 4.67 8773 \n",
    "    # 16.52  16957 \n",
    "    mf = (4.67-16.52)/(8773-16957)\n",
    "    flujo =  mf* flujoplc - mf *16957+16.52\n",
    "    # print(flujoplc, flujo)\n",
    "    return flujo\n",
    "\n",
    "def leerNada():\n",
    "    return np.random.rand(1)[0]"
   ]
  },
  {
   "cell_type": "markdown",
   "id": "7f38c08f",
   "metadata": {},
   "source": [
    "## 3. Inicie el experimento.\n",
    "\n",
    "El módulo multivariable tiene:\n",
    "- 2 actuadores:\n",
    "    - Motobomba\n",
    "    - Válvula\n",
    "- 3 sensores:\n",
    "    - Flujo\n",
    "    - Presión\n",
    "    - Nivel\n",
    "\n",
    "3.1 Escoja una variable como salida y un actuador para su experimento.\n",
    "\n",
    "3.2 Ponga un punto de operación para el otro actuador.\n",
    "\n",
    "**Establecer un punto para la bomba**\n",
    "~~~\n",
    "BombaQW80(60)\n",
    "~~~\n",
    "\n",
    "**Establecer un punto para la válvula**\n",
    "~~~\n",
    "AbrirValvulaQW96(100)\n",
    "~~~"
   ]
  },
  {
   "cell_type": "code",
   "execution_count": 48,
   "id": "e451acff",
   "metadata": {
    "scrolled": false
   },
   "outputs": [],
   "source": [
    "escr_sal_bool(0,5,1)#Habilitar RUN motobomba\n",
    "# Complete para establecer un punto de operación\n",
    "BombaQW80(60)\n",
    "AbrirValvulaQW96(20)"
   ]
  },
  {
   "cell_type": "code",
   "execution_count": 49,
   "id": "9069bde7",
   "metadata": {},
   "outputs": [
    {
     "data": {
      "text/plain": [
       "(4.008571428571431, 18.959285004965242, -0.014109237536654717)"
      ]
     },
     "execution_count": 49,
     "metadata": {},
     "output_type": "execute_result"
    }
   ],
   "source": [
    "leerPresionPLCIW96(),leerNivelPLCIW100(),leerFlujoPLCIW98()"
   ]
  },
  {
   "cell_type": "markdown",
   "id": "bfa6cc9b",
   "metadata": {},
   "source": [
    "## 5. Defina la entrada del sistema\n",
    "\n",
    "Esta vez se configura una entrada en forma de un escalón.\n",
    "\n",
    "\\begin{equation}\n",
    "U(t) = \\begin{cases} V_0 & \\forall t<t_0 \\\\  V_f &  \\forall t > t_0 \\end{cases}\n",
    "\\end{equation}\n",
    "\n",
    "Defina:\n",
    "- Tiempo de muestreo $t_m$\n",
    "- Duración para el experimento $t_f$\n",
    "- Valor inicial para el actuador $V_0$\n",
    "- Valor final para el actuador $V_f$"
   ]
  },
  {
   "cell_type": "markdown",
   "id": "26c85284",
   "metadata": {},
   "source": [
    "**Lista de tiempos $t$**"
   ]
  },
  {
   "cell_type": "code",
   "execution_count": 50,
   "id": "97600fdf",
   "metadata": {
    "scrolled": true
   },
   "outputs": [
    {
     "data": {
      "text/plain": [
       "array([  0. ,   0.5,   1. ,   1.5,   2. ,   2.5,   3. ,   3.5,   4. ,\n",
       "         4.5,   5. ,   5.5,   6. ,   6.5,   7. ,   7.5,   8. ,   8.5,\n",
       "         9. ,   9.5,  10. ,  10.5,  11. ,  11.5,  12. ,  12.5,  13. ,\n",
       "        13.5,  14. ,  14.5,  15. ,  15.5,  16. ,  16.5,  17. ,  17.5,\n",
       "        18. ,  18.5,  19. ,  19.5,  20. ,  20.5,  21. ,  21.5,  22. ,\n",
       "        22.5,  23. ,  23.5,  24. ,  24.5,  25. ,  25.5,  26. ,  26.5,\n",
       "        27. ,  27.5,  28. ,  28.5,  29. ,  29.5,  30. ,  30.5,  31. ,\n",
       "        31.5,  32. ,  32.5,  33. ,  33.5,  34. ,  34.5,  35. ,  35.5,\n",
       "        36. ,  36.5,  37. ,  37.5,  38. ,  38.5,  39. ,  39.5,  40. ,\n",
       "        40.5,  41. ,  41.5,  42. ,  42.5,  43. ,  43.5,  44. ,  44.5,\n",
       "        45. ,  45.5,  46. ,  46.5,  47. ,  47.5,  48. ,  48.5,  49. ,\n",
       "        49.5,  50. ,  50.5,  51. ,  51.5,  52. ,  52.5,  53. ,  53.5,\n",
       "        54. ,  54.5,  55. ,  55.5,  56. ,  56.5,  57. ,  57.5,  58. ,\n",
       "        58.5,  59. ,  59.5,  60. ,  60.5,  61. ,  61.5,  62. ,  62.5,\n",
       "        63. ,  63.5,  64. ,  64.5,  65. ,  65.5,  66. ,  66.5,  67. ,\n",
       "        67.5,  68. ,  68.5,  69. ,  69.5,  70. ,  70.5,  71. ,  71.5,\n",
       "        72. ,  72.5,  73. ,  73.5,  74. ,  74.5,  75. ,  75.5,  76. ,\n",
       "        76.5,  77. ,  77.5,  78. ,  78.5,  79. ,  79.5,  80. ,  80.5,\n",
       "        81. ,  81.5,  82. ,  82.5,  83. ,  83.5,  84. ,  84.5,  85. ,\n",
       "        85.5,  86. ,  86.5,  87. ,  87.5,  88. ,  88.5,  89. ,  89.5,\n",
       "        90. ,  90.5,  91. ,  91.5,  92. ,  92.5,  93. ,  93.5,  94. ,\n",
       "        94.5,  95. ,  95.5,  96. ,  96.5,  97. ,  97.5,  98. ,  98.5,\n",
       "        99. ,  99.5, 100. , 100.5, 101. , 101.5, 102. , 102.5, 103. ,\n",
       "       103.5, 104. , 104.5, 105. , 105.5, 106. , 106.5, 107. , 107.5,\n",
       "       108. , 108.5, 109. , 109.5, 110. , 110.5, 111. , 111.5, 112. ,\n",
       "       112.5, 113. , 113.5, 114. , 114.5, 115. , 115.5, 116. , 116.5,\n",
       "       117. , 117.5, 118. , 118.5, 119. , 119.5, 120. , 120.5, 121. ,\n",
       "       121.5, 122. , 122.5, 123. , 123.5, 124. , 124.5, 125. , 125.5,\n",
       "       126. , 126.5, 127. , 127.5, 128. , 128.5, 129. , 129.5, 130. ,\n",
       "       130.5, 131. , 131.5, 132. , 132.5, 133. , 133.5, 134. , 134.5,\n",
       "       135. , 135.5, 136. , 136.5, 137. , 137.5, 138. , 138.5, 139. ,\n",
       "       139.5, 140. , 140.5, 141. , 141.5, 142. , 142.5, 143. , 143.5,\n",
       "       144. , 144.5, 145. , 145.5, 146. , 146.5, 147. , 147.5, 148. ,\n",
       "       148.5, 149. , 149.5, 150. , 150.5, 151. , 151.5, 152. , 152.5,\n",
       "       153. , 153.5, 154. , 154.5, 155. , 155.5, 156. , 156.5, 157. ,\n",
       "       157.5, 158. , 158.5, 159. , 159.5, 160. , 160.5, 161. , 161.5,\n",
       "       162. , 162.5, 163. , 163.5, 164. , 164.5, 165. , 165.5, 166. ,\n",
       "       166.5, 167. , 167.5, 168. , 168.5, 169. , 169.5, 170. , 170.5,\n",
       "       171. , 171.5, 172. , 172.5, 173. , 173.5, 174. , 174.5, 175. ,\n",
       "       175.5, 176. , 176.5, 177. , 177.5, 178. , 178.5, 179. , 179.5,\n",
       "       180. , 180.5, 181. , 181.5, 182. , 182.5, 183. , 183.5, 184. ,\n",
       "       184.5, 185. , 185.5, 186. , 186.5, 187. , 187.5, 188. , 188.5,\n",
       "       189. , 189.5, 190. , 190.5, 191. , 191.5, 192. , 192.5, 193. ,\n",
       "       193.5, 194. , 194.5, 195. , 195.5, 196. , 196.5, 197. , 197.5,\n",
       "       198. , 198.5, 199. , 199.5, 200. , 200.5, 201. , 201.5, 202. ,\n",
       "       202.5, 203. , 203.5, 204. , 204.5, 205. , 205.5, 206. , 206.5,\n",
       "       207. , 207.5, 208. , 208.5, 209. , 209.5, 210. , 210.5, 211. ,\n",
       "       211.5, 212. , 212.5, 213. , 213.5, 214. , 214.5, 215. , 215.5,\n",
       "       216. , 216.5, 217. , 217.5, 218. , 218.5, 219. , 219.5, 220. ,\n",
       "       220.5, 221. , 221.5, 222. , 222.5, 223. , 223.5, 224. , 224.5,\n",
       "       225. , 225.5, 226. , 226.5, 227. , 227.5, 228. , 228.5, 229. ,\n",
       "       229.5, 230. , 230.5, 231. , 231.5, 232. , 232.5, 233. , 233.5,\n",
       "       234. , 234.5, 235. , 235.5, 236. , 236.5, 237. , 237.5, 238. ,\n",
       "       238.5, 239. , 239.5, 240. , 240.5, 241. , 241.5, 242. , 242.5,\n",
       "       243. , 243.5, 244. , 244.5, 245. , 245.5, 246. , 246.5, 247. ,\n",
       "       247.5, 248. , 248.5, 249. , 249.5, 250. , 250.5, 251. , 251.5,\n",
       "       252. , 252.5, 253. , 253.5, 254. , 254.5, 255. , 255.5, 256. ,\n",
       "       256.5, 257. , 257.5, 258. , 258.5, 259. , 259.5, 260. , 260.5,\n",
       "       261. , 261.5, 262. , 262.5, 263. , 263.5, 264. , 264.5, 265. ,\n",
       "       265.5, 266. , 266.5, 267. , 267.5, 268. , 268.5, 269. , 269.5,\n",
       "       270. , 270.5, 271. , 271.5, 272. , 272.5, 273. , 273.5, 274. ,\n",
       "       274.5, 275. , 275.5, 276. , 276.5, 277. , 277.5, 278. , 278.5,\n",
       "       279. , 279.5, 280. , 280.5, 281. , 281.5, 282. , 282.5, 283. ,\n",
       "       283.5, 284. , 284.5, 285. , 285.5, 286. , 286.5, 287. , 287.5,\n",
       "       288. , 288.5, 289. , 289.5, 290. , 290.5, 291. , 291.5, 292. ,\n",
       "       292.5, 293. , 293.5, 294. , 294.5, 295. , 295.5, 296. , 296.5,\n",
       "       297. , 297.5, 298. , 298.5, 299. , 299.5, 300. ])"
      ]
     },
     "execution_count": 50,
     "metadata": {},
     "output_type": "execute_result"
    }
   ],
   "source": [
    "tm = 0.5\n",
    "tf = 300\n",
    "t = np.linspace(0.0 ,tf, round(tf/tm) + 1)\n",
    "t"
   ]
  },
  {
   "cell_type": "markdown",
   "id": "931b304f",
   "metadata": {},
   "source": [
    "**Señal de entrada $U(t)$**"
   ]
  },
  {
   "cell_type": "code",
   "execution_count": 51,
   "id": "f502b195",
   "metadata": {},
   "outputs": [
    {
     "data": {
      "text/plain": [
       "array([20, 20, 20, 20, 20, 20, 20, 20, 20, 20, 20, 20, 20, 20, 20, 20, 20,\n",
       "       20, 20, 20, 20, 20, 20, 20, 20, 20, 20, 20, 20, 20, 20, 20, 20, 20,\n",
       "       20, 20, 20, 20, 20, 20, 20, 20, 20, 20, 20, 20, 20, 20, 20, 20, 20,\n",
       "       20, 20, 20, 20, 20, 20, 20, 20, 20, 20, 20, 20, 20, 20, 20, 20, 20,\n",
       "       20, 20, 20, 20, 20, 20, 20, 20, 20, 20, 20, 20, 20, 20, 20, 20, 20,\n",
       "       20, 20, 20, 20, 20, 20, 20, 20, 20, 20, 20, 20, 20, 20, 20, 80, 80,\n",
       "       80, 80, 80, 80, 80, 80, 80, 80, 80, 80, 80, 80, 80, 80, 80, 80, 80,\n",
       "       80, 80, 80, 80, 80, 80, 80, 80, 80, 80, 80, 80, 80, 80, 80, 80, 80,\n",
       "       80, 80, 80, 80, 80, 80, 80, 80, 80, 80, 80, 80, 80, 80, 80, 80, 80,\n",
       "       80, 80, 80, 80, 80, 80, 80, 80, 80, 80, 80, 80, 80, 80, 80, 80, 80,\n",
       "       80, 80, 80, 80, 80, 80, 80, 80, 80, 80, 80, 80, 80, 80, 80, 80, 80,\n",
       "       80, 80, 80, 80, 80, 80, 80, 80, 80, 80, 80, 80, 80, 80, 80, 80, 80,\n",
       "       80, 80, 80, 80, 80, 80, 80, 80, 80, 80, 80, 80, 80, 80, 80, 80, 80,\n",
       "       80, 80, 80, 80, 80, 80, 80, 80, 80, 80, 80, 80, 80, 80, 80, 80, 80,\n",
       "       80, 80, 80, 80, 80, 80, 80, 80, 80, 80, 80, 80, 80, 80, 80, 80, 80,\n",
       "       80, 80, 80, 80, 80, 80, 80, 80, 80, 80, 80, 80, 80, 80, 80, 80, 80,\n",
       "       80, 80, 80, 80, 80, 80, 80, 80, 80, 80, 80, 80, 80, 80, 80, 80, 80,\n",
       "       80, 80, 80, 80, 80, 80, 80, 80, 80, 80, 80, 80, 80, 80, 80, 80, 80,\n",
       "       80, 80, 80, 80, 80, 80, 80, 80, 80, 80, 80, 80, 80, 80, 80, 80, 80,\n",
       "       80, 80, 80, 80, 80, 80, 80, 80, 80, 80, 80, 80, 80, 80, 80, 80, 80,\n",
       "       80, 80, 80, 80, 80, 80, 80, 80, 80, 80, 80, 80, 80, 80, 80, 80, 80,\n",
       "       80, 80, 80, 80, 80, 80, 80, 80, 80, 80, 80, 80, 80, 80, 80, 80, 80,\n",
       "       80, 80, 80, 80, 80, 80, 80, 80, 80, 80, 80, 80, 80, 80, 80, 80, 80,\n",
       "       80, 80, 80, 80, 80, 80, 80, 80, 80, 80, 80, 80, 80, 80, 80, 80, 80,\n",
       "       80, 80, 80, 80, 80, 80, 80, 80, 80, 80, 80, 80, 80, 80, 80, 80, 80,\n",
       "       80, 80, 80, 80, 80, 80, 80, 80, 80, 80, 80, 80, 80, 80, 80, 80, 80,\n",
       "       80, 80, 80, 80, 80, 80, 80, 80, 80, 80, 80, 80, 80, 80, 80, 80, 80,\n",
       "       80, 80, 80, 80, 80, 80, 80, 80, 80, 80, 80, 80, 80, 80, 80, 80, 80,\n",
       "       80, 80, 80, 80, 80, 80, 80, 80, 80, 80, 80, 80, 80, 80, 80, 80, 80,\n",
       "       80, 80, 80, 80, 80, 80, 80, 80, 80, 80, 80, 80, 80, 80, 80, 80, 80,\n",
       "       80, 80, 80, 80, 80, 80, 80, 80, 80, 80, 80, 80, 80, 80, 80, 80, 80,\n",
       "       80, 80, 80, 80, 80, 80, 80, 80, 80, 80, 80, 80, 80, 80, 80, 80, 80,\n",
       "       80, 80, 80, 80, 80, 80, 80, 80, 80, 80, 80, 80, 80, 80, 80, 80, 80,\n",
       "       80, 80, 80, 80, 80, 80, 80, 80, 80, 80, 80, 80, 80, 80, 80, 80, 80,\n",
       "       80, 80, 80, 80, 80, 80, 80, 80, 80, 80, 80, 80, 80, 80, 80, 80, 80,\n",
       "       80, 80, 80, 80, 80, 80])"
      ]
     },
     "execution_count": 51,
     "metadata": {},
     "output_type": "execute_result"
    }
   ],
   "source": [
    "t0 = 50\n",
    "v0 = 20\n",
    "vf = 80\n",
    "U = np.where(t>=t0,vf,v0)\n",
    "U"
   ]
  },
  {
   "cell_type": "markdown",
   "id": "4b358404",
   "metadata": {},
   "source": [
    "**Gráfica de la señal**"
   ]
  },
  {
   "cell_type": "code",
   "execution_count": 52,
   "id": "4fe579a9",
   "metadata": {
    "scrolled": false
   },
   "outputs": [
    {
     "data": {
      "text/plain": [
       "[<matplotlib.lines.Line2D at 0x226b83c46d8>]"
      ]
     },
     "execution_count": 52,
     "metadata": {},
     "output_type": "execute_result"
    },
    {
     "data": {
      "image/png": "[encoded data removed]",
      "text/plain": [
       "<Figure size 432x288 with 1 Axes>"
      ]
     },
     "metadata": {
      "needs_background": "light"
     },
     "output_type": "display_data"
    }
   ],
   "source": [
    "plt.plot(t,U)"
   ]
  },
  {
   "cell_type": "markdown",
   "id": "38e873e6",
   "metadata": {},
   "source": [
    "## 6. Realice el experimento y guarde\n",
    "\n",
    "Entregue los valores definidos para $U(t)$ en el actuador cada $t_m$ segundos, lea el sensor apropiado para su caso y guarde la información necesaria. Para esto puede crear un archivo `csv` a partir de un **dataframe**.\n",
    "\n",
    "Para leer los sensores se han definido las siguientes funciones:\n",
    "\n",
    "~~~\n",
    "leerNivelPLCIW100()\n",
    "leerPresionPLCIW96()\n",
    "leerFlujoPLCIW98()\n",
    "~~~"
   ]
  },
  {
   "cell_type": "code",
   "execution_count": 53,
   "id": "5b9327cc",
   "metadata": {},
   "outputs": [
    {
     "name": "stdout",
     "output_type": "stream",
     "text": [
      "Para abortar el experimento presione ESPACIO\n"
     ]
    }
   ],
   "source": [
    "Y = []\n",
    "print('Para abortar el experimento presione ESPACIO')\n",
    "abortado = False\n",
    "for idt,ti in enumerate(t):\n",
    "    Entrada = U[idt]\n",
    "    # Poner el valor en el actuador\n",
    "    AbrirValvulaQW96(Entrada)\n",
    "    #BombaQW80(Entrada)\n",
    "    Y.append(leerNivelPLCIW100())\n",
    "    if keyboard.is_pressed(' '):\n",
    "        print('Abortando el experimento a los ' + \n",
    "              str(ti) +' segundos')\n",
    "        abortado = True\n",
    "        escr_sal_bool(0,5,0)\n",
    "        BombaQW80(5)\n",
    "        AbrirValvulaQW96(0)\n",
    "        \n",
    "        break\n",
    "    time.sleep(tm)\n",
    "    \n",
    "if abortado:\n",
    "    Y = Y + [np.nan]*(len(U)-len(Y))\n",
    "d = {'Tiempo': t, 'Entrada': U, 'Salida': Y}\n",
    "\n",
    "df = pd.DataFrame(data=d)\n",
    "df.head()\n",
    "escr_sal_bool(0,5,0)\n",
    "AbrirValvulaQW96(0)\n"
   ]
  },
  {
   "cell_type": "code",
   "execution_count": 54,
   "id": "5514e9bd",
   "metadata": {
    "scrolled": false
   },
   "outputs": [
    {
     "data": {
      "text/plain": [
       "[<matplotlib.lines.Line2D at 0x226b8420940>,\n",
       " <matplotlib.lines.Line2D at 0x226b8420a90>]"
      ]
     },
     "execution_count": 54,
     "metadata": {},
     "output_type": "execute_result"
    },
    {
     "data": {
      "image/png": "[encoded data removed]",
      "text/plain": [
       "<Figure size 432x288 with 1 Axes>"
      ]
     },
     "metadata": {
      "needs_background": "light"
     },
     "output_type": "display_data"
    }
   ],
   "source": [
    "# Gráfica de entrada y salida\n",
    "plt.plot(df[\"Tiempo\"],df[\"Entrada\"],\n",
    "         df[\"Tiempo\"],10*df[\"Salida\"])"
   ]
  },
  {
   "cell_type": "code",
   "execution_count": 55,
   "id": "7d82c84e",
   "metadata": {},
   "outputs": [],
   "source": [
    "# Guarda datos\n",
    "archivo = \"Datos/m_Rafael_Ceballos.csv\"\n",
    "df.to_csv(archivo, index=False)"
   ]
  },
  {
   "cell_type": "code",
   "execution_count": null,
   "id": "25292a06",
   "metadata": {},
   "outputs": [],
   "source": []
  },
  {
   "cell_type": "code",
   "execution_count": null,
   "id": "a4dac9b4",
   "metadata": {},
   "outputs": [],
   "source": []
  },
  {
   "cell_type": "code",
   "execution_count": null,
   "id": "24ea7fa6",
   "metadata": {},
   "outputs": [],
   "source": []
  }
 ],
 "metadata": {
  "kernelspec": {
   "display_name": "Python 3",
   "language": "python",
   "name": "python3"
  },
  "language_info": {
   "codemirror_mode": {
    "name": "ipython",
    "version": 3
   },
   "file_extension": ".py",
   "mimetype": "text/x-python",
   "name": "python",
   "nbconvert_exporter": "python",
   "pygments_lexer": "ipython3",
   "version": "3.7.3"
  },
  "latex_envs": {
   "LaTeX_envs_menu_present": true,
   "autoclose": false,
   "autocomplete": true,
   "bibliofile": "biblio.bib",
   "cite_by": "apalike",
   "current_citInitial": 1,
   "eqLabelWithNumbers": true,
   "eqNumInitial": 0,
   "hotkeys": {
    "equation": "Ctrl-E",
    "itemize": "Ctrl-I"
   },
   "labels_anchors": false,
   "latex_user_defs": false,
   "report_style_numbering": false,
   "user_envs_cfg": false
  },
  "varInspector": {
   "cols": {
    "lenName": 16,
    "lenType": 16,
    "lenVar": 40
   },
   "kernels_config": {
    "python": {
     "delete_cmd_postfix": "",
     "delete_cmd_prefix": "del ",
     "library": "var_list.py",
     "varRefreshCmd": "print(var_dic_list())"
    },
    "r": {
     "delete_cmd_postfix": ") ",
     "delete_cmd_prefix": "rm(",
     "library": "var_list.r",
     "varRefreshCmd": "cat(var_dic_list()) "
    }
   },
   "types_to_exclude": [
    "module",
    "function",
    "builtin_function_or_method",
    "instance",
    "_Feature"
   ],
   "window_display": false
  }
 },
 "nbformat": 4,
 "nbformat_minor": 5
}
