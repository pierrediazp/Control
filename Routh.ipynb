{
 "cells": [
  {
   "cell_type": "code",
   "execution_count": 2,
   "id": "845287fa",
   "metadata": {},
   "outputs": [],
   "source": [
    "import numpy as np\n",
    "import sympy as sym\n",
    "import matplotlib.pyplot as plt\n",
    "%matplotlib inline\n",
    "import control"
   ]
  },
  {
   "cell_type": "markdown",
   "id": "c0fbdab3",
   "metadata": {},
   "source": [
    "# Criterio de estabilidad de Routh\n",
    "\n"
   ]
  },
  {
   "cell_type": "markdown",
   "id": "d8f7ea41",
   "metadata": {},
   "source": [
    "Hasta el momento se ha mostrado que se puede identificar si un sistema LTI es estable o no al encontrar los polos del sistema, pues si TODOS los polos del sistema tienen  parte real negativa, el sistema es estable. Además, se ha evidenciado que al realimentar negativamente un sistema, los polos del sistema se desplazan a nuevas ubicaciones.\n",
    "\n",
    "El [Criterio de estabilidad de Routh-Hurwitz](https://en.wikipedia.org/wiki/Routh%E2%80%93Hurwitz_stability_criterion) es una forma de determinar la estabilidad del sistema sin tener que calcular sus raíces. Además, al evitar el cálculo de las raíces, se evaden posibles errores al trabajar con polinomios de orden elevado."
   ]
  },
  {
   "cell_type": "markdown",
   "id": "3546a9a2",
   "metadata": {},
   "source": [
    "**Ejemplo**\n",
    "\n",
    "Suponga un proceso modelado por:\n",
    "\n",
    "$$G_p(s) = \\frac{1}{\\left (s + 1\\right )^{10}}$$\n",
    "\n",
    "Las raíces del sistema son:\n",
    "\n",
    "$$s_{1,2,3...,10} = -1$$"
   ]
  },
  {
   "cell_type": "code",
   "execution_count": 3,
   "id": "63dddc2f",
   "metadata": {},
   "outputs": [
    {
     "data": {
      "text/latex": [
       "$$\\frac{1}{s^{10} + 10 s^9 + 45 s^8 + 120 s^7 + 210 s^6 + 252 s^5 + 210 s^4 + 120 s^3 + 45 s^2 + 10 s + 1}$$"
      ],
      "text/plain": [
       "TransferFunction(array([1]), array([  1,  10,  45, 120, 210, 252, 210, 120,  45,  10,   1]))"
      ]
     },
     "execution_count": 3,
     "metadata": {},
     "output_type": "execute_result"
    }
   ],
   "source": [
    "# Se define la función de transferencia del proceso\n",
    "Gp = control.tf(1, [1,1])\n",
    "Gp10 = Gp*Gp*Gp*Gp*Gp*Gp*Gp*Gp*Gp*Gp\n",
    "Gp10"
   ]
  },
  {
   "cell_type": "code",
   "execution_count": 4,
   "id": "aac0f587",
   "metadata": {},
   "outputs": [
    {
     "data": {
      "text/plain": [
       "array([-1.05835839+0.j        , -1.04656789+0.03476893j,\n",
       "       -1.04656789-0.03476893j, -1.01659732+0.05502978j,\n",
       "       -1.01659732-0.05502978j, -0.98133256+0.05352511j,\n",
       "       -0.98133256-0.05352511j, -0.95422344+0.0323362j ,\n",
       "       -0.95422344-0.0323362j , -0.9441992 +0.j        ])"
      ]
     },
     "execution_count": 4,
     "metadata": {},
     "output_type": "execute_result"
    }
   ],
   "source": [
    "Gp10.pole()"
   ]
  },
  {
   "cell_type": "code",
   "execution_count": 5,
   "id": "107f6714",
   "metadata": {},
   "outputs": [
    {
     "data": {
      "text/plain": [
       "array([], dtype=float64)"
      ]
     },
     "execution_count": 5,
     "metadata": {},
     "output_type": "execute_result"
    }
   ],
   "source": [
    "ceros = Gp10.zero()\n",
    "ceros"
   ]
  },
  {
   "cell_type": "code",
   "execution_count": 9,
   "id": "98c7247b",
   "metadata": {},
   "outputs": [
    {
     "data": {
      "text/plain": [
       "array([-1.00026013+0.j        , -0.99999997+0.00026011j,\n",
       "       -0.99999997-0.00026011j, -0.99973992+0.j        ])"
      ]
     },
     "execution_count": 9,
     "metadata": {},
     "output_type": "execute_result"
    }
   ],
   "source": [
    "polos = (Gp*Gp*Gp*Gp).pole()\n",
    "polos"
   ]
  },
  {
   "cell_type": "markdown",
   "id": "3272554e",
   "metadata": {},
   "source": [
    "Observe que los polos no están ubicados en $s=-1$. Estos errores se deben a las representaciones discretas de los números."
   ]
  },
  {
   "cell_type": "markdown",
   "id": "74690c9c",
   "metadata": {},
   "source": [
    "La función `routh` permite encontrar la matriz de Routh a partir de un objeto tipo `Poly` de `Sympy`\n"
   ]
  },
  {
   "cell_type": "code",
   "execution_count": 10,
   "id": "1961843e",
   "metadata": {},
   "outputs": [
    {
     "name": "stdout",
     "output_type": "stream",
     "text": [
      "Requirement already satisfied: tbcontrol in c:\\users\\usuario\\.conda\\envs\\sistdin\\lib\\site-packages (0.2.1)\n",
      "Requirement already satisfied: tqdm in c:\\users\\usuario\\.conda\\envs\\sistdin\\lib\\site-packages (from tbcontrol) (4.62.3)\n",
      "Requirement already satisfied: scipy in c:\\users\\usuario\\.conda\\envs\\sistdin\\lib\\site-packages (from tbcontrol) (1.3.0)\n",
      "Requirement already satisfied: packaging in c:\\users\\usuario\\.conda\\envs\\sistdin\\lib\\site-packages (from tbcontrol) (21.0)\n",
      "Requirement already satisfied: numpy in c:\\users\\usuario\\.conda\\envs\\sistdin\\lib\\site-packages (from tbcontrol) (1.21.5)\n",
      "Requirement already satisfied: pyparsing>=2.0.2 in c:\\users\\usuario\\.conda\\envs\\sistdin\\lib\\site-packages (from packaging->tbcontrol) (2.4.7)\n",
      "Requirement already satisfied: colorama in c:\\users\\usuario\\.conda\\envs\\sistdin\\lib\\site-packages (from tqdm->tbcontrol) (0.4.4)\n",
      "Help on function routh in module tbcontrol.symbolic:\n",
      "\n",
      "routh(p)\n",
      "    Construct the Routh-Hurwitz array given a polynomial in s\n",
      "    \n",
      "    Input: p - a sympy.Poly object\n",
      "    Output: The Routh-Hurwitz array as a sympy.Matrix object\n",
      "\n"
     ]
    }
   ],
   "source": [
    "!pip install tbcontrol\n",
    "from tbcontrol.symbolic import routh\n",
    "help(routh)"
   ]
  },
  {
   "cell_type": "code",
   "execution_count": 11,
   "id": "de5fb1b1",
   "metadata": {},
   "outputs": [
    {
     "data": {
      "text/latex": [
       "$\\displaystyle \\operatorname{Poly}{\\left( a_{6} s^{6} + a_{5} s^{5} + a_{4} s^{4} + a_{3} s^{3} + a_{2} s^{2} + a_{1} s + a_{0}, s, domain=\\mathbb{Z}\\left[a_{0}, a_{1}, a_{2}, a_{3}, a_{4}, a_{5}, a_{6}\\right] \\right)}$"
      ],
      "text/plain": [
       "Poly(a_6*s**6 + a_5*s**5 + a_4*s**4 + a_3*s**3 + a_2*s**2 + a_1*s + a_0, s, domain='ZZ[a_0,a_1,a_2,a_3,a_4,a_5,a_6]')"
      ]
     },
     "execution_count": 11,
     "metadata": {},
     "output_type": "execute_result"
    }
   ],
   "source": [
    "s = sym.Symbol('s')\n",
    "\n",
    "a0, a1, a2, a3, a4,a5,a6,a7,a8,a9,a10 = sym.symbols('a_0:11')\n",
    "p = (a0 + a1*s**1 + a2*s**2 + a3*s**3 + a4*s**4 + a5*s**5 + \n",
    "     a6*s**6)\n",
    "p = sym.Poly(p, s)\n",
    "p"
   ]
  },
  {
   "cell_type": "code",
   "execution_count": 12,
   "id": "feda53f0",
   "metadata": {},
   "outputs": [
    {
     "data": {
      "text/latex": [
       "$\\displaystyle \\left[\\begin{matrix}a_{6} & a_{4} & a_{2} & a_{0}\\\\a_{5} & a_{3} & a_{1} & 0\\\\- \\frac{a_{3} a_{6}}{a_{5}} + a_{4} & - \\frac{a_{1} a_{6}}{a_{5}} + a_{2} & a_{0} & 0\\\\\\frac{a_{3} \\left(a_{3} a_{6} - a_{4} a_{5}\\right) + a_{5} \\left(- a_{1} a_{6} + a_{2} a_{5}\\right)}{a_{3} a_{6} - a_{4} a_{5}} & \\frac{a_{0} a_{5}^{2} + a_{1} \\left(a_{3} a_{6} - a_{4} a_{5}\\right)}{a_{3} a_{6} - a_{4} a_{5}} & 0 & 0\\\\\\frac{\\left(a_{0} a_{5}^{2} + a_{1} \\left(a_{3} a_{6} - a_{4} a_{5}\\right)\\right) \\left(a_{3} a_{6} - a_{4} a_{5}\\right) - \\left(a_{1} a_{6} - a_{2} a_{5}\\right) \\left(a_{3} \\left(a_{3} a_{6} - a_{4} a_{5}\\right) - a_{5} \\left(a_{1} a_{6} - a_{2} a_{5}\\right)\\right)}{a_{5} \\left(a_{3} \\left(a_{3} a_{6} - a_{4} a_{5}\\right) - a_{5} \\left(a_{1} a_{6} - a_{2} a_{5}\\right)\\right)} & a_{0} & 0 & 0\\\\\\frac{- a_{0} a_{5} \\left(a_{3} \\left(a_{3} a_{6} - a_{4} a_{5}\\right) - a_{5} \\left(a_{1} a_{6} - a_{2} a_{5}\\right)\\right)^{2} + \\left(a_{0} a_{5}^{2} + a_{1} \\left(a_{3} a_{6} - a_{4} a_{5}\\right)\\right) \\left(\\left(a_{0} a_{5}^{2} + a_{1} \\left(a_{3} a_{6} - a_{4} a_{5}\\right)\\right) \\left(a_{3} a_{6} - a_{4} a_{5}\\right) - \\left(a_{1} a_{6} - a_{2} a_{5}\\right) \\left(a_{3} \\left(a_{3} a_{6} - a_{4} a_{5}\\right) - a_{5} \\left(a_{1} a_{6} - a_{2} a_{5}\\right)\\right)\\right)}{\\left(a_{3} a_{6} - a_{4} a_{5}\\right) \\left(\\left(a_{0} a_{5}^{2} + a_{1} \\left(a_{3} a_{6} - a_{4} a_{5}\\right)\\right) \\left(a_{3} a_{6} - a_{4} a_{5}\\right) - \\left(a_{1} a_{6} - a_{2} a_{5}\\right) \\left(a_{3} \\left(a_{3} a_{6} - a_{4} a_{5}\\right) - a_{5} \\left(a_{1} a_{6} - a_{2} a_{5}\\right)\\right)\\right)} & 0 & 0 & 0\\\\a_{0} & 0 & 0 & 0\\end{matrix}\\right]$"
      ],
      "text/plain": [
       "Matrix([\n",
       "[                                                                                                                                                                                                                                                                                                                                                                                                           a_6,                                                        a_4, a_2, a_0],\n",
       "[                                                                                                                                                                                                                                                                                                                                                                                                           a_5,                                                        a_3, a_1,   0],\n",
       "[                                                                                                                                                                                                                                                                                                                                                                                            -a_3*a_6/a_5 + a_4,                                         -a_1*a_6/a_5 + a_2, a_0,   0],\n",
       "[                                                                                                                                                                                                                                                                                                                                      (a_3*(a_3*a_6 - a_4*a_5) + a_5*(-a_1*a_6 + a_2*a_5))/(a_3*a_6 - a_4*a_5), (a_0*a_5**2 + a_1*(a_3*a_6 - a_4*a_5))/(a_3*a_6 - a_4*a_5),   0,   0],\n",
       "[                                                                                                                                                                                                              ((a_0*a_5**2 + a_1*(a_3*a_6 - a_4*a_5))*(a_3*a_6 - a_4*a_5) - (a_1*a_6 - a_2*a_5)*(a_3*(a_3*a_6 - a_4*a_5) - a_5*(a_1*a_6 - a_2*a_5)))/(a_5*(a_3*(a_3*a_6 - a_4*a_5) - a_5*(a_1*a_6 - a_2*a_5))),                                                        a_0,   0,   0],\n",
       "[(-a_0*a_5*(a_3*(a_3*a_6 - a_4*a_5) - a_5*(a_1*a_6 - a_2*a_5))**2 + (a_0*a_5**2 + a_1*(a_3*a_6 - a_4*a_5))*((a_0*a_5**2 + a_1*(a_3*a_6 - a_4*a_5))*(a_3*a_6 - a_4*a_5) - (a_1*a_6 - a_2*a_5)*(a_3*(a_3*a_6 - a_4*a_5) - a_5*(a_1*a_6 - a_2*a_5))))/((a_3*a_6 - a_4*a_5)*((a_0*a_5**2 + a_1*(a_3*a_6 - a_4*a_5))*(a_3*a_6 - a_4*a_5) - (a_1*a_6 - a_2*a_5)*(a_3*(a_3*a_6 - a_4*a_5) - a_5*(a_1*a_6 - a_2*a_5)))),                                                          0,   0,   0],\n",
       "[                                                                                                                                                                                                                                                                                                                                                                                                           a_0,                                                          0,   0,   0]])"
      ]
     },
     "execution_count": 12,
     "metadata": {},
     "output_type": "execute_result"
    }
   ],
   "source": [
    "routh(p)"
   ]
  },
  {
   "cell_type": "markdown",
   "id": "b63a7366",
   "metadata": {},
   "source": [
    "El sistema es estable siempre que los elementos de la primera columna sean del mismo signo."
   ]
  },
  {
   "cell_type": "markdown",
   "id": "1a2f451f",
   "metadata": {},
   "source": [
    "----------------------------------\n",
    "\n",
    "¿Qué pasa con el sistema de décimo orden definido anteriormente?"
   ]
  },
  {
   "cell_type": "code",
   "execution_count": 15,
   "id": "93e27fd0",
   "metadata": {},
   "outputs": [
    {
     "data": {
      "text/latex": [
       "$\\displaystyle \\operatorname{Poly}{\\left( s^{10} + 10 s^{9} + 45 s^{8} + 120 s^{7} + 210 s^{6} + 252 s^{5} + 210 s^{4} + 120 s^{3} + 45 s^{2} + 10 s + 1, s, domain=\\mathbb{Z} \\right)}$"
      ],
      "text/plain": [
       "Poly(s**10 + 10*s**9 + 45*s**8 + 120*s**7 + 210*s**6 + 252*s**5 + 210*s**4 + 120*s**3 + 45*s**2 + 10*s + 1, s, domain='ZZ')"
      ]
     },
     "execution_count": 15,
     "metadata": {},
     "output_type": "execute_result"
    }
   ],
   "source": [
    "Gp10Den"
   ]
  },
  {
   "cell_type": "code",
   "execution_count": 14,
   "id": "c0e49e9b",
   "metadata": {},
   "outputs": [
    {
     "data": {
      "text/latex": [
       "$\\displaystyle \\left[\\begin{matrix}1 & 45 & 210 & 210 & 45 & 1\\\\10 & 120 & 252 & 120 & 10 & 0\\\\33 & \\frac{924}{5} & 198 & 44 & 1 & 0\\\\64 & 192 & \\frac{320}{3} & \\frac{320}{33} & 0 & 0\\\\\\frac{429}{5} & 143 & 39 & 1 & 0 & 0\\\\\\frac{256}{3} & \\frac{2560}{33} & \\frac{1280}{143} & 0 & 0 & 0\\\\65 & 30 & 1 & 0 & 0 & 0\\\\\\frac{16384}{429} & \\frac{16384}{2145} & 0 & 0 & 0 & 0\\\\17 & 1 & 0 & 0 & 0 & 0\\\\\\frac{65536}{12155} & 0 & 0 & 0 & 0 & 0\\\\1 & 0 & 0 & 0 & 0 & 0\\end{matrix}\\right]$"
      ],
      "text/plain": [
       "Matrix([\n",
       "[          1,         45,      210,    210, 45, 1],\n",
       "[         10,        120,      252,    120, 10, 0],\n",
       "[         33,      924/5,      198,     44,  1, 0],\n",
       "[         64,        192,    320/3, 320/33,  0, 0],\n",
       "[      429/5,        143,       39,      1,  0, 0],\n",
       "[      256/3,    2560/33, 1280/143,      0,  0, 0],\n",
       "[         65,         30,        1,      0,  0, 0],\n",
       "[  16384/429, 16384/2145,        0,      0,  0, 0],\n",
       "[         17,          1,        0,      0,  0, 0],\n",
       "[65536/12155,          0,        0,      0,  0, 0],\n",
       "[          1,          0,        0,      0,  0, 0]])"
      ]
     },
     "execution_count": 14,
     "metadata": {},
     "output_type": "execute_result"
    }
   ],
   "source": [
    "Coef_den = Gp10.den[0][0].tolist()\n",
    "orden_den = len(Coef_den)-1\n",
    "Gp10Den = 0\n",
    "for val in Coef_den:\n",
    "    Gp10Den = Gp10Den + val*s**(orden_den)\n",
    "    orden_den = orden_den-1\n",
    "Gp10Den = sym.Poly(Gp10Den, s)\n",
    "routh(Gp10Den)"
   ]
  },
  {
   "cell_type": "code",
   "execution_count": 19,
   "id": "2d2461dd",
   "metadata": {},
   "outputs": [
    {
     "data": {
      "text/latex": [
       "$\\displaystyle \\operatorname{Poly}{\\left( s^{10} + 10 s^{9} + 45 s^{8} + 120 s^{7} + 210 s^{6} + 252 s^{5} + 210 s^{4} + 120 s^{3} + 45 s^{2} + 10 s + 1, s, domain=\\mathbb{Z} \\right)}$"
      ],
      "text/plain": [
       "Poly(s**10 + 10*s**9 + 45*s**8 + 120*s**7 + 210*s**6 + 252*s**5 + 210*s**4 + 120*s**3 + 45*s**2 + 10*s + 1, s, domain='ZZ')"
      ]
     },
     "execution_count": 19,
     "metadata": {},
     "output_type": "execute_result"
    }
   ],
   "source": [
    "Gp10Den"
   ]
  },
  {
   "cell_type": "markdown",
   "id": "ad8a3c1a",
   "metadata": {},
   "source": [
    "Todos los elementos de la primera columna son positivos, por lo cuál el sistema es estable."
   ]
  },
  {
   "cell_type": "markdown",
   "id": "49a249ea",
   "metadata": {},
   "source": [
    "¿y si se realimenta y se configura un controlador $G_c(s) = k_c$?"
   ]
  },
  {
   "cell_type": "code",
   "execution_count": 16,
   "id": "d5f0ce6b",
   "metadata": {},
   "outputs": [
    {
     "data": {
      "text/latex": [
       "$\\displaystyle \\left[\\begin{matrix}1 & 45 & 210 & 210 & 45 & k_{c} + 1\\\\10 & 120 & 252 & 120 & 10 & 0\\\\33 & \\frac{924}{5} & 198 & 44 & k_{c} + 1 & 0\\\\64 & 192 & \\frac{320}{3} & \\frac{320}{33} - \\frac{10 k_{c}}{33} & 0 & 0\\\\\\frac{429}{5} & 143 & \\frac{5 k_{c}}{32} + 39 & k_{c} + 1 & 0 & 0\\\\\\frac{256}{3} & \\frac{2560}{33} - \\frac{50 k_{c}}{429} & \\frac{1280}{143} - \\frac{150 k_{c}}{143} & 0 & 0 & 0\\\\\\frac{15 k_{c}}{128} + 65 & \\frac{155 k_{c}}{128} + 30 & k_{c} + 1 & 0 & 0 & 0\\\\- \\frac{150 k_{c}^{2} + 1118208 k_{c} - 27262976}{1287 k_{c} + 713856} & - \\frac{6750 k_{c}^{2} + 8372224 k_{c} - 27262976}{6435 k_{c} + 3569280} & 0 & 0 & 0 & 0\\\\\\frac{375 k_{c}^{3} + 17193696 k_{c}^{2} - 1722679296 k_{c} - 7415529472}{32 \\left(75 k_{c}^{2} + 559104 k_{c} - 13631488\\right)} & k_{c} + 1 & 0 & 0 & 0 & 0\\\\- \\frac{6250 k_{c}^{4} + 785920000 k_{c}^{3} - 154662862848 k_{c}^{2} - 1078036791296 k_{c} + 2199023255552}{20625 k_{c}^{3} + 945653280 k_{c}^{2} - 94747361280 k_{c} - 407854120960} & 0 & 0 & 0 & 0 & 0\\\\k_{c} + 1 & 0 & 0 & 0 & 0 & 0\\end{matrix}\\right]$"
      ],
      "text/plain": [
       "Matrix([\n",
       "[                                                                                                                                                             1,                                                           45,                    210,                210,      45, k_c + 1],\n",
       "[                                                                                                                                                            10,                                                          120,                    252,                120,      10,       0],\n",
       "[                                                                                                                                                            33,                                                        924/5,                    198,                 44, k_c + 1,       0],\n",
       "[                                                                                                                                                            64,                                                          192,                  320/3, 320/33 - 10*k_c/33,       0,       0],\n",
       "[                                                                                                                                                         429/5,                                                          143,          5*k_c/32 + 39,            k_c + 1,       0,       0],\n",
       "[                                                                                                                                                         256/3,                                         2560/33 - 50*k_c/429, 1280/143 - 150*k_c/143,                  0,       0,       0],\n",
       "[                                                                                                                                               15*k_c/128 + 65,                                             155*k_c/128 + 30,                k_c + 1,                  0,       0,       0],\n",
       "[                                                                                                    -(150*k_c**2 + 1118208*k_c - 27262976)/(1287*k_c + 713856), -(6750*k_c**2 + 8372224*k_c - 27262976)/(6435*k_c + 3569280),                      0,                  0,       0,       0],\n",
       "[                                                         (375*k_c**3 + 17193696*k_c**2 - 1722679296*k_c - 7415529472)/(32*(75*k_c**2 + 559104*k_c - 13631488)),                                                      k_c + 1,                      0,                  0,       0,       0],\n",
       "[-(6250*k_c**4 + 785920000*k_c**3 - 154662862848*k_c**2 - 1078036791296*k_c + 2199023255552)/(20625*k_c**3 + 945653280*k_c**2 - 94747361280*k_c - 407854120960),                                                            0,                      0,                  0,       0,       0],\n",
       "[                                                                                                                                                       k_c + 1,                                                            0,                      0,                  0,       0,       0]])"
      ]
     },
     "execution_count": 16,
     "metadata": {},
     "output_type": "execute_result"
    }
   ],
   "source": [
    "kc = sym.symbols('k_c', real=True,positive = True)\n",
    "\n",
    "##########################################\n",
    "Coef_num = Gp10.num[0][0].tolist()\n",
    "orden_num = len(Coef_num)-1\n",
    "Gp10Num = 0\n",
    "for val in Coef_num:\n",
    "    Gp10Num = Gp10Num + val*s**(orden_num)\n",
    "    orden_num = orden_num-1\n",
    "Gp10Num = sym.Poly(Gp10Num, s)\n",
    "##########################################\n",
    "Coef_den = Gp10.den[0][0].tolist()\n",
    "orden_den = len(Coef_den)-1\n",
    "Gp10Den = 0\n",
    "for val in Coef_den:\n",
    "    Gp10Den = Gp10Den + val*s**(orden_den)\n",
    "    orden_den = orden_den-1\n",
    "Gp10Den = sym.Poly(Gp10Den, s)\n",
    "#########################################3\n",
    "### DenominadorLC = Nc*Np + Dc*Dp\n",
    "A = routh(kc*Gp10Num + Gp10Den)\n",
    "A"
   ]
  },
  {
   "cell_type": "code",
   "execution_count": 28,
   "id": "1b61497c",
   "metadata": {},
   "outputs": [
    {
     "data": {
      "text/latex": [
       "$\\displaystyle \\left(k_{c} < - \\frac{93184}{25} + \\frac{45056 \\sqrt{39}}{75} \\vee 32 \\operatorname{CRootOf} {\\left(375 k_{c}^{3} + 537303 k_{c}^{2} - 1682304 k_{c} - 226304, 2\\right)} < k_{c}\\right) \\wedge \\left(\\left(k_{c} < \\frac{5632 \\sqrt{5}}{125} + \\frac{512}{5} \\wedge 32 \\operatorname{CRootOf} {\\left(375 k_{c}^{3} + 537303 k_{c}^{2} - 1682304 k_{c} - 226304, 2\\right)} < k_{c}\\right) \\vee k_{c} < -62976 + 28160 \\sqrt{5} \\vee k_{c} < \\frac{512}{5} - \\frac{5632 \\sqrt{5}}{125}\\right) \\wedge k_{c} < - \\frac{93184}{25} + \\frac{45056 \\sqrt{39}}{75}$"
      ],
      "text/plain": [
       "(k_c < -93184/25 + 45056*sqrt(39)/75) & ((k_c < -93184/25 + 45056*sqrt(39)/75) | (32*CRootOf(375*k_c**3 + 537303*k_c**2 - 1682304*k_c - 226304, 2) < k_c)) & ((k_c < -62976 + 28160*sqrt(5)) | (k_c < 512/5 - 5632*sqrt(5)/125) | ((k_c < 5632*sqrt(5)/125 + 512/5) & (32*CRootOf(375*k_c**3 + 537303*k_c**2 - 1682304*k_c - 226304, 2) < k_c)))"
      ]
     },
     "execution_count": 28,
     "metadata": {},
     "output_type": "execute_result"
    }
   ],
   "source": [
    "resp = sym.solve([e > 0 for e in A[:, 0]], kc)\n",
    "resp"
   ]
  },
  {
   "cell_type": "code",
   "execution_count": 31,
   "id": "b01ffaee",
   "metadata": {},
   "outputs": [
    {
     "data": {
      "text/latex": [
       "$\\displaystyle \\left(k_{c} < - \\frac{93184}{25} + \\frac{45056 \\sqrt{39}}{75} \\vee 32 \\operatorname{CRootOf} {\\left(375 k_{c}^{3} + 537303 k_{c}^{2} - 1682304 k_{c} - 226304, 2\\right)} < k_{c}\\right) \\wedge \\left(\\left(k_{c} < \\frac{5632 \\sqrt{5}}{125} + \\frac{512}{5} \\wedge 32 \\operatorname{CRootOf} {\\left(375 k_{c}^{3} + 537303 k_{c}^{2} - 1682304 k_{c} - 226304, 2\\right)} < k_{c}\\right) \\vee k_{c} < -62976 + 28160 \\sqrt{5} \\vee k_{c} < \\frac{512}{5} - \\frac{5632 \\sqrt{5}}{125}\\right) \\wedge k_{c} < - \\frac{93184}{25} + \\frac{45056 \\sqrt{39}}{75}$"
      ],
      "text/plain": [
       "(k_c < -93184/25 + 45056*sqrt(39)/75) & ((k_c < -93184/25 + 45056*sqrt(39)/75) | (32*CRootOf(375*k_c**3 + 537303*k_c**2 - 1682304*k_c - 226304, 2) < k_c)) & ((k_c < -62976 + 28160*sqrt(5)) | (k_c < 512/5 - 5632*sqrt(5)/125) | ((k_c < 5632*sqrt(5)/125 + 512/5) & (32*CRootOf(375*k_c**3 + 537303*k_c**2 - 1682304*k_c - 226304, 2) < k_c)))"
      ]
     },
     "execution_count": 31,
     "metadata": {},
     "output_type": "execute_result"
    }
   ],
   "source": [
    "resp.as_dummy()"
   ]
  },
  {
   "cell_type": "markdown",
   "id": "1c82af33",
   "metadata": {},
   "source": [
    "Esto indica que $k_c<1.652$ permite obtener un sistema estable en lazo cerrado."
   ]
  },
  {
   "cell_type": "code",
   "execution_count": 32,
   "id": "27e11c4d",
   "metadata": {},
   "outputs": [],
   "source": [
    "k1 = 1.6\n",
    "k2 = 1.7\n",
    "\n",
    "Gp10LC1 = control.feedback(k1*Gp10,1)\n",
    "Gp10LC2 = control.feedback(k2*Gp10,1)\n"
   ]
  },
  {
   "cell_type": "code",
   "execution_count": 33,
   "id": "935ce21c",
   "metadata": {},
   "outputs": [
    {
     "data": {
      "text/latex": [
       "$\\displaystyle \\left[\\begin{matrix}1.0 & 45.0 & 210.0 & 210.0 & 45.0 & 2.6\\\\10.0 & 120.0 & 252.0 & 120.0 & 10.0 & 0\\\\33.0 & 184.8 & 198.0 & 44.0 & 2.6 & 0\\\\64.0 & 192.0 & 106.666666666667 & 9.21212121212121 & 0 & 0\\\\85.8 & 143.0 & 39.25 & 2.6 & 0 & 0\\\\85.3333333333333 & 77.3892773892774 & 7.27272727272727 & 0 & 0 & 0\\\\65.1875 & 31.9375 & 2.6 & 0 & 0 & 0\\\\35.5816711252953 & 3.86921177256748 & 0 & 0 & 0 & 0\\\\24.8488997615212 & 2.6 & 0 & 0 & 0 & 0\\\\0.146216154506988 & 0 & 0 & 0 & 0 & 0\\\\2.6 & 0 & 0 & 0 & 0 & 0\\end{matrix}\\right]$"
      ],
      "text/plain": [
       "Matrix([\n",
       "[              1.0,             45.0,            210.0,            210.0, 45.0, 2.6],\n",
       "[             10.0,            120.0,            252.0,            120.0, 10.0,   0],\n",
       "[             33.0,            184.8,            198.0,             44.0,  2.6,   0],\n",
       "[             64.0,            192.0, 106.666666666667, 9.21212121212121,    0,   0],\n",
       "[             85.8,            143.0,            39.25,              2.6,    0,   0],\n",
       "[ 85.3333333333333, 77.3892773892774, 7.27272727272727,                0,    0,   0],\n",
       "[          65.1875,          31.9375,              2.6,                0,    0,   0],\n",
       "[ 35.5816711252953, 3.86921177256748,                0,                0,    0,   0],\n",
       "[ 24.8488997615212,              2.6,                0,                0,    0,   0],\n",
       "[0.146216154506988,                0,                0,                0,    0,   0],\n",
       "[              2.6,                0,                0,                0,    0,   0]])"
      ]
     },
     "execution_count": 33,
     "metadata": {},
     "output_type": "execute_result"
    }
   ],
   "source": [
    "routh(k1*Gp10Num + Gp10Den)"
   ]
  },
  {
   "cell_type": "code",
   "execution_count": 34,
   "id": "df01bc5d",
   "metadata": {},
   "outputs": [
    {
     "data": {
      "text/latex": [
       "$\\displaystyle \\left[\\begin{matrix}1.0 & 45.0 & 210.0 & 210.0 & 45.0 & 2.7\\\\10.0 & 120.0 & 252.0 & 120.0 & 10.0 & 0\\\\33.0 & 184.8 & 198.0 & 44.0 & 2.7 & 0\\\\64.0 & 192.0 & 106.666666666667 & 9.18181818181818 & 0 & 0\\\\85.8 & 143.0 & 39.265625 & 2.7 & 0 & 0\\\\85.3333333333333 & 77.3776223776224 & 7.16783216783217 & 0 & 0 & 0\\\\65.19921875 & 32.05859375 & 2.7 & 0 & 0 & 0\\\\35.4190419051122 & 3.63404749345675 & 0 & 0 & 0 & 0\\\\25.3690548825024 & 2.7 & 0 & 0 & 0 & 0\\\\-0.135561330629251 & 0 & 0 & 0 & 0 & 0\\\\2.7 & 0 & 0 & 0 & 0 & 0\\end{matrix}\\right]$"
      ],
      "text/plain": [
       "Matrix([\n",
       "[               1.0,             45.0,            210.0,            210.0, 45.0, 2.7],\n",
       "[              10.0,            120.0,            252.0,            120.0, 10.0,   0],\n",
       "[              33.0,            184.8,            198.0,             44.0,  2.7,   0],\n",
       "[              64.0,            192.0, 106.666666666667, 9.18181818181818,    0,   0],\n",
       "[              85.8,            143.0,        39.265625,              2.7,    0,   0],\n",
       "[  85.3333333333333, 77.3776223776224, 7.16783216783217,                0,    0,   0],\n",
       "[       65.19921875,      32.05859375,              2.7,                0,    0,   0],\n",
       "[  35.4190419051122, 3.63404749345675,                0,                0,    0,   0],\n",
       "[  25.3690548825024,              2.7,                0,                0,    0,   0],\n",
       "[-0.135561330629251,                0,                0,                0,    0,   0],\n",
       "[               2.7,                0,                0,                0,    0,   0]])"
      ]
     },
     "execution_count": 34,
     "metadata": {},
     "output_type": "execute_result"
    }
   ],
   "source": [
    "routh(k2*Gp10Num + Gp10Den)"
   ]
  },
  {
   "cell_type": "code",
   "execution_count": 35,
   "id": "358d52a7",
   "metadata": {},
   "outputs": [
    {
     "data": {
      "text/plain": [
       "(array([-1.99682363+0.32388763j, -1.99682363-0.32388763j,\n",
       "        -1.61607088+0.84794883j, -1.61607088-0.84794883j,\n",
       "        -1.        +1.04812239j, -1.        -1.04812239j,\n",
       "        -0.38392912+0.84794883j, -0.38392912-0.84794883j,\n",
       "        -0.00317637+0.32388763j, -0.00317637-0.32388763j]),\n",
       " array([], dtype=float64))"
      ]
     },
     "execution_count": 35,
     "metadata": {},
     "output_type": "execute_result"
    },
    {
     "data": {
      "image/png": "[encoded data removed]",
      "text/plain": [
       "<Figure size 432x288 with 1 Axes>"
      ]
     },
     "metadata": {
      "needs_background": "light"
     },
     "output_type": "display_data"
    }
   ],
   "source": [
    "control.pzmap(Gp10LC1)"
   ]
  },
  {
   "cell_type": "code",
   "execution_count": 36,
   "id": "8fa931a9",
   "metadata": {},
   "outputs": [
    {
     "data": {
      "text/plain": [
       "(array([-2.00288519+0.32585715j, -2.00288519-0.32585715j,\n",
       "        -1.61981713+0.8531051j , -1.61981713-0.8531051j ,\n",
       "        -1.        +1.05449589j, -1.        -1.05449589j,\n",
       "        -0.38018287+0.8531051j , -0.38018287-0.8531051j ,\n",
       "         0.00288519+0.32585715j,  0.00288519-0.32585715j]),\n",
       " array([], dtype=float64))"
      ]
     },
     "execution_count": 36,
     "metadata": {},
     "output_type": "execute_result"
    },
    {
     "data": {
      "image/png": "[encoded data removed]",
      "text/plain": [
       "<Figure size 432x288 with 1 Axes>"
      ]
     },
     "metadata": {
      "needs_background": "light"
     },
     "output_type": "display_data"
    }
   ],
   "source": [
    "control.pzmap(Gp10LC2)"
   ]
  },
  {
   "cell_type": "markdown",
   "id": "9e9761cd",
   "metadata": {},
   "source": [
    "Considere un proceso modelado por:\n",
    "\n",
    "$$G_p(s) = \\frac{s+3}{\\left (s+2 \\right )\\left (s+1 \\right )} $$\n",
    "\n",
    "y un controlador $G_c(s)=k_c$\n",
    "\n",
    "Encuentre qué valores de $k_c$ permiten que el sistema en lazo cerrado sea estable."
   ]
  },
  {
   "cell_type": "code",
   "execution_count": null,
   "id": "47ef4b4d",
   "metadata": {},
   "outputs": [],
   "source": []
  }
 ],
 "metadata": {
  "kernelspec": {
   "display_name": "Python 3",
   "language": "python",
   "name": "python3"
  },
  "language_info": {
   "codemirror_mode": {
    "name": "ipython",
    "version": 3
   },
   "file_extension": ".py",
   "mimetype": "text/x-python",
   "name": "python",
   "nbconvert_exporter": "python",
   "pygments_lexer": "ipython3",
   "version": "3.7.3"
  },
  "latex_envs": {
   "LaTeX_envs_menu_present": true,
   "autoclose": false,
   "autocomplete": true,
   "bibliofile": "biblio.bib",
   "cite_by": "apalike",
   "current_citInitial": 1,
   "eqLabelWithNumbers": true,
   "eqNumInitial": 0,
   "hotkeys": {
    "equation": "Ctrl-E",
    "itemize": "Ctrl-I"
   },
   "labels_anchors": false,
   "latex_user_defs": false,
   "report_style_numbering": false,
   "user_envs_cfg": false
  },
  "varInspector": {
   "cols": {
    "lenName": 16,
    "lenType": 16,
    "lenVar": 40
   },
   "kernels_config": {
    "python": {
     "delete_cmd_postfix": "",
     "delete_cmd_prefix": "del ",
     "library": "var_list.py",
     "varRefreshCmd": "print(var_dic_list())"
    },
    "r": {
     "delete_cmd_postfix": ") ",
     "delete_cmd_prefix": "rm(",
     "library": "var_list.r",
     "varRefreshCmd": "cat(var_dic_list()) "
    }
   },
   "types_to_exclude": [
    "module",
    "function",
    "builtin_function_or_method",
    "instance",
    "_Feature"
   ],
   "window_display": false
  }
 },
 "nbformat": 4,
 "nbformat_minor": 5
}
