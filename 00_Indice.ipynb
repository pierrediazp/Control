{
 "cells": [
  {
   "cell_type": "markdown",
   "id": "f9a61b9e",
   "metadata": {},
   "source": [
    "Control\n",
    "=============\n",
    "- Contiene una colección de notebooks de [Jupyter](https://jupyter.org/) con notas y ejemplos con el contenido propuesto para los cursos **Control análogo** y **Control digital**.\n",
    "\n",
    "- Estas notas fueron escritas por [Jean Pierre DÍAZ-PAZ](https://www.ecoprofe.com/JPDP).\n",
    "\n",
    "- Los notebooks contienen código en [IPython 3](http://ipython.org/).\n"
   ]
  },
  {
   "cell_type": "markdown",
   "id": "397b94ff",
   "metadata": {},
   "source": [
    "## 0  Introducción\n",
    "\n",
    "- [Introducción a la programación con Python y Jupyter](C_Analogo/PythonJupyter.ipynb)\n",
    "- [Cálculos en ingeniería con Sympy y Jupyter Notebooks](C_Analogo/SympyJupyter.ipynb)\n",
    "- [Ejercicio: Análisis de un circuito con Sympy](C_Analogo/EjercicioSympy.ipynb)\n",
    "- [Señales Estándar](C_Analogo/SenalesEstandar.ipynb)\n",
    "- [Caracterización de Sistemas LTI en el Dominio del Tiempo](C_Analogo/CaracterizacionLTI.ipynb)\n",
    "\n"
   ]
  },
  {
   "cell_type": "markdown",
   "id": "0c4d05a7",
   "metadata": {},
   "source": [
    "## 1  Modelos dinámicos en tiempo continuo\n",
    "\n",
    "- [Generalidades de la transformada de Laplace](C_Analogo/Transformada_Laplace.ipynb)\n",
    "- [Respuesta dinámica](C_Analogo/RespuestaDinamica.ipynb)\n",
    "- [Simulación de funciones de transferencia arbitrarias](C_Analogo/Simulacion.ipynb)\n",
    "- [Modelo dinámico de un circuito RLC](C_Analogo/CircuitoRLC.ipynb)\n",
    "- [Modelo dinámico de un sistema mecánico](C_Analogo/Mecanico.ipynb)\n",
    "- [Modelo dinámico de un sistema de nivel](C_Analogo/Fluidos.ipynb)\n",
    "- [Ejercicio: Análisis de un circuito con almacenamiento de energía](C_Analogo/EjercicioCircuito.ipynb)\n",
    "- [Ejercicio: Analisis de un sistema mecánico](C_Analogo/Ejercicio_mecanico.ipynb)\n",
    "- [Identificación de sistemas](C_Analogo/Identificacion.ipynb)\n",
    "- [Ejercicio: Identificación de sistemas](C_Analogo/Ejercicio_Identificacion.ipynb)\n",
    "- [Ejercicio: Identificación de sistemas en laboratorio](C_Analogo/CapturaDatosPLC_Siemens.ipynb)"
   ]
  },
  {
   "cell_type": "markdown",
   "id": "6a993173",
   "metadata": {},
   "source": [
    "## 2  Sistemas realimentados\n",
    "\n",
    "- [Bucle de control en tiempo continuo](C_Analogo/Bucle_control.ipynb)\n",
    "- [Diagramas de bloques](C_Analogo/Diagramas_bloques.ipynb)\n",
    "- [Ejercicio: Diagramas de bloques](C_Analogo/EjercicioBloques.ipynb)\n",
    "- [Efectos de la realimentación](C_Analogo/EfectosLazoCerrado.ipynb)\n",
    "- [Ejercicio: Efectos de la realimentación](C_Analogo/Ejercicio_EfectoLC.ipynb)\n",
    "- [Error de estado estable](C_Analogo/ErrorEstadoEstable.ipynb)\n"
   ]
  },
  {
   "cell_type": "markdown",
   "id": "8d7cc94c",
   "metadata": {},
   "source": [
    "## 3 Lugar geométrico de las raíces\n",
    "\n",
    "\n",
    "- [Criterio de Routh](C_Analogo/Routh.ipynb)\n",
    "- [Lugar geométrico de las raíces](C_Analogo/LGDR.ipynb)\n",
    "- [Diseño de controladores mediante Lugar Geométrico de las Raíces](C_Analogo/controlLGDR.ipynb)\n",
    "- [Ejercicio: Lugar geométrico de las raíces en modelos](C_Analogo/LGDR-ejercicio.ipynb)\n",
    "- [Ejercicio: Lugar geométrico de las raíces en laboratorio](C_Analogo/LGDR_PLC_Siemens.ipynb)\n"
   ]
  },
  {
   "cell_type": "markdown",
   "id": "4e92b811",
   "metadata": {},
   "source": [
    "## 4 PID\n",
    "\n",
    "\n",
    "- [Sintonización de controladores PID](C_Analogo/PID.ipynb)\n",
    "- [Ejercicio: PID en modelos](C_Analogo/PID-ejercicio.ipynb)\n",
    "- [Ejercicio: PID en laboratorio](C_Analogo/PID_PLC_Siemens.ipynb)\n"
   ]
  },
  {
   "cell_type": "markdown",
   "id": "8d639fcd",
   "metadata": {},
   "source": [
    "## 5 Análisis en frecuencia\n",
    "\n",
    "\n",
    "- [Análisis de la respuesta en frecuencia](C_Analogo/Frecuencia.ipynb)\n",
    "\n"
   ]
  },
  {
   "cell_type": "markdown",
   "id": "1054c6cd",
   "metadata": {},
   "source": [
    "## 6 Espacio de estados\n",
    "- [Modelos en espacios de estados](C_Analogo/EspacioEstados.ipynb)"
   ]
  },
  {
   "cell_type": "code",
   "execution_count": null,
   "id": "d0406631",
   "metadata": {},
   "outputs": [],
   "source": []
  }
 ],
 "metadata": {
  "kernelspec": {
   "display_name": "Python 3",
   "language": "python",
   "name": "python3"
  },
  "language_info": {
   "codemirror_mode": {
    "name": "ipython",
    "version": 3
   },
   "file_extension": ".py",
   "mimetype": "text/x-python",
   "name": "python",
   "nbconvert_exporter": "python",
   "pygments_lexer": "ipython3",
   "version": "3.7.3"
  },
  "latex_envs": {
   "LaTeX_envs_menu_present": true,
   "autoclose": false,
   "autocomplete": true,
   "bibliofile": "biblio.bib",
   "cite_by": "apalike",
   "current_citInitial": 1,
   "eqLabelWithNumbers": true,
   "eqNumInitial": 0,
   "hotkeys": {
    "equation": "Ctrl-E",
    "itemize": "Ctrl-I"
   },
   "labels_anchors": false,
   "latex_user_defs": false,
   "report_style_numbering": false,
   "user_envs_cfg": false
  },
  "toc": {
   "base_numbering": 1,
   "nav_menu": {},
   "number_sections": true,
   "sideBar": true,
   "skip_h1_title": false,
   "title_cell": "Table of Contents",
   "title_sidebar": "Contents",
   "toc_cell": false,
   "toc_position": {},
   "toc_section_display": true,
   "toc_window_display": false
  },
  "varInspector": {
   "cols": {
    "lenName": 16,
    "lenType": 16,
    "lenVar": 40
   },
   "kernels_config": {
    "python": {
     "delete_cmd_postfix": "",
     "delete_cmd_prefix": "del ",
     "library": "var_list.py",
     "varRefreshCmd": "print(var_dic_list())"
    },
    "r": {
     "delete_cmd_postfix": ") ",
     "delete_cmd_prefix": "rm(",
     "library": "var_list.r",
     "varRefreshCmd": "cat(var_dic_list()) "
    }
   },
   "types_to_exclude": [
    "module",
    "function",
    "builtin_function_or_method",
    "instance",
    "_Feature"
   ],
   "window_display": false
  }
 },
 "nbformat": 4,
 "nbformat_minor": 5
}
