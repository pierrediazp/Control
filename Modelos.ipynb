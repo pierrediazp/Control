{
 "cells": [
  {
   "cell_type": "markdown",
   "id": "77684dc8",
   "metadata": {},
   "source": [
    "# Modelos"
   ]
  },
  {
   "cell_type": "markdown",
   "id": "45965247",
   "metadata": {},
   "source": [
    "## Modelos mecánicos"
   ]
  },
  {
   "cell_type": "markdown",
   "id": "3966b839",
   "metadata": {},
   "source": [
    "La ley fundamental que rige el comportamiento de los sistemas mecánicos es la [Segunda ley de Newton o ley fundamental de la dinámica](https://es.wikipedia.org/wiki/Leyes_de_Newton#Segunda_ley_de_Newton_o_ley_fundamental_de_la_din%C3%A1mica).\n",
    "\n",
    "$$Fuerza = Masa \\cdot Aceleracion$$\n"
   ]
  },
  {
   "cell_type": "markdown",
   "id": "7d176266",
   "metadata": {},
   "source": [
    "Al analizar el siguiente sistema, puede encontrarse una representación matemática del comportamiento del mismo que relacione la fuerza $u(t)$ con la posición $x_1(t)$. \n",
    "![figuras/mecanico1.png](figuras/mecanico1.png)\n",
    "- ¿Cuál es la entrada del sistema?\n",
    "- ¿Cuál es la salida del sistema?"
   ]
  },
  {
   "cell_type": "markdown",
   "id": "cc2929df",
   "metadata": {},
   "source": [
    "Observe que se tienen:\n",
    "### Masas (Ley fundamental de la dinámica)\n",
    "$$Fuerza = Masa \\cdot Aceleracion$$\n",
    "\n",
    "### Resortes (Ley de elasticidad de Hooke)\n",
    "$$Fuerza = -ConstElastica \\cdot Elongacion$$\n",
    "\n",
    "### Amortiguador viscoso\n",
    "$$Fuerza = -CoefFriccion \\cdot Velocidad$$\n"
   ]
  },
  {
   "cell_type": "markdown",
   "id": "deb67108",
   "metadata": {},
   "source": [
    "Se infiere la ecuación de movimiento en la masa $m_1$:\n",
    "- La fuerza de entrada $u$ empuja a la derecha.\n",
    "- La masa reacciona con una fuerza igual a $m_1 \\cdot \\ddot{x_1}$\n",
    "- El resorte 1 se estira y reacciona con una fuerza igual a $k_1 \\cdot x_1$\n",
    "- El resorte 2 se \"comprime\", respecto a $x_2$ y reacciona con una fuerza igual a $k_2 \\cdot (x_1-x_2)$.\n",
    "- El medio viscoso, respecto a $x_2$, reacciona con una fuerza igual a $b \\cdot (\\dot{x_1}- \\dot{x_2})$.\n",
    "\n",
    "$$m_1  \\ddot{x}_1 + k_1  x_1 + k_2  (x_1-x_2) + b  (\\dot{x_1}- \\dot{x_2})  = u$$\n",
    "\n",
    "Que se puede escribir como:\n",
    "\n",
    "$$m_1  \\ddot{x}_1 + b \\dot{x_1} + (k_1  k_2) x_1  = b \\dot{x_2} + k_2 x_2 + u$$\n"
   ]
  },
  {
   "cell_type": "markdown",
   "id": "172ac51f",
   "metadata": {},
   "source": [
    "Se infiere la ecuación de movimiento en la masa $m_2$:\n",
    "- La masa reacciona con una fuerza igual a $m_2 \\cdot \\ddot{x_2}$\n",
    "- El resorte 3 se comprime y reacciona con una fuerza igual a $k_3 \\cdot x_2$\n",
    "- El resorte 2 se \"estira\", respecto a $x_1$ y reacciona con una fuerza igual a $k_2 \\cdot (x_2-x_1)$.\n",
    "- El medio viscoso, respecto a $x_1$, reacciona con una fuerza igual a $b \\cdot (\\dot{x}_2- \\dot{x}_1)$.\n",
    "\n",
    "$$m_2  \\ddot{x}_2 + k_3  x_2 + k_2  (x_2-x_1) + b  (\\dot{x}_2- \\dot{x}_1)  = 0$$\n",
    "\n",
    "Que se puede escribir como:\n",
    "\n",
    "$$m_2  \\ddot{x}_2 + b \\dot{x}_2 + (k_2 + k_3)  x_2   = b \\dot{x}_1 + k_2 x_1 $$\n"
   ]
  },
  {
   "cell_type": "markdown",
   "id": "9a202c18",
   "metadata": {},
   "source": [
    "El sistema de ecuaciones que se tiene es:\n",
    "\n",
    "$$m_1  \\ddot{x}_1 + b \\dot{x_1} + (k_1 + k_2) x_1  = b \\dot{x_2} + k_2 x_2 + u$$\n",
    "$$m_2  \\ddot{x}_2 + b \\dot{x}_2 + (k_2 + k_3)  x_2   = b \\dot{x}_1 + k_2 x_1 $$"
   ]
  },
  {
   "cell_type": "markdown",
   "id": "3896069d",
   "metadata": {},
   "source": [
    "Considerando la transformada de Laplace y condiciones iniciales nulas se tiene:"
   ]
  },
  {
   "cell_type": "markdown",
   "id": "9551c4bd",
   "metadata": {},
   "source": [
    "$$m_1  s^2 X_1(s) + b s X_1(s) + (k_1 + k_2) X_1(s)  = b s X_2(s) + k_2 X_2(s) + U(s)$$\n",
    "$$m_2  s^2 X_2(s) + b s X_2(s) + (k_2 + k_3) X_2(s)   = b sX_1(s) + k_2 X_1(s) $$"
   ]
  },
  {
   "cell_type": "markdown",
   "id": "72d5862d",
   "metadata": {},
   "source": [
    "o\n",
    "\n",
    "$$X_1(s) (m_1  s^2  + b s  + (k_1 + k_2) )  = X_2(s) (b s + k_2)+ U(s)$$\n",
    "$$X_2(s) (m_2  s^2  + b s  + (k_2 + k_3) )  = X_1(s) (b s + k_2 ) $$"
   ]
  },
  {
   "cell_type": "markdown",
   "id": "49270ba8",
   "metadata": {},
   "source": [
    "o\n",
    "\n",
    "$$X_1(s) (m_1  s^2  + b s  + (k_1 + k_2) )  = X_1(s) \\frac{ (b s + k_2 )}{(m_2  s^2  + b s  + (k_2 + k_3) )} (b s + k_2)+ U(s)$$\n"
   ]
  },
  {
   "cell_type": "markdown",
   "id": "8ad0a40e",
   "metadata": {},
   "source": [
    "$$X_1(s) (m_1  s^2  + b s  + (k_1 + k_2)  -\\frac{ (b s + k_2 )^2}{(m_2  s^2  + b s  + (k_2 + k_3) )} ) = U(s)$$\n"
   ]
  },
  {
   "cell_type": "markdown",
   "id": "58ec460a",
   "metadata": {},
   "source": [
    "$$X_1(s) (m_1  s^2  + b s  + k_1 + k_2)(m_2  s^2  + b s  + k_2 + k_3 )  - (b s + k_2 )^2 ) = (m_2  s^2  + b s  + k_2 + k_3)U(s)$$\n"
   ]
  },
  {
   "cell_type": "markdown",
   "id": "dee3d920",
   "metadata": {},
   "source": [
    "$$\\frac{X_1(s)}{U(s)}  = \\frac{m_2  s^2  + b s  + k_2 + k_3}{(m_1  s^2  + b s  + k_1 + k_2)(m_2  s^2  + b s  + k_2 + k_3 )  - (b s + k_2 )^2 }$$\n"
   ]
  },
  {
   "cell_type": "code",
   "execution_count": 44,
   "id": "837fc166",
   "metadata": {},
   "outputs": [
    {
     "data": {
      "text/latex": [
       "$\\displaystyle \\operatorname{Poly}{\\left( m_{1} m_{2} s^{4} + \\left(b m_{1} + b m_{2}\\right) s^{3} + \\left(2 b^{2} + k_{1} m_{2} + k_{2} m_{1} + k_{2} m_{2} + k_{3} m_{1}\\right) s^{2} + \\left(b k_{1} + 4 b k_{2} + b k_{3}\\right) s + k_{1} k_{2} + k_{1} k_{3} + 2 k_{2}^{2} + k_{2} k_{3}, s, domain=\\mathbb{Z}\\left[b, k_{1}, k_{2}, m_{1}, k_{3}, m_{2}\\right] \\right)}$"
      ],
      "text/plain": [
       "Poly(m_1*m_2*s**4 + (b*m_1 + b*m_2)*s**3 + (2*b**2 + k_1*m_2 + k_2*m_1 + k_2*m_2 + k_3*m_1)*s**2 + (b*k_1 + 4*b*k_2 + b*k_3)*s + k_1*k_2 + k_1*k_3 + 2*k_2**2 + k_2*k_3, s, domain='ZZ[b,k_1,k_2,m_1,k_3,m_2]')"
      ]
     },
     "execution_count": 44,
     "metadata": {},
     "output_type": "execute_result"
    }
   ],
   "source": [
    "import control\n",
    "import sympy as sym\n",
    "from sympy import poly\n",
    "import matplotlib.pyplot as plt\n",
    "%matplotlib inline\n",
    "s = sym.symbols('s',complex = True)\n",
    "m1,m2,k1,k2,k3,b = sym.symbols('m_1,m_2,k_1,k_2,k_3,b',real = True)\n",
    "poly((m1*s**2+b*s+k1+k2)*\n",
    "     (m2*s**2+b*s+k2+k3)+\n",
    "     (b*s+k2)**2, s)"
   ]
  },
  {
   "cell_type": "code",
   "execution_count": 52,
   "id": "49031626",
   "metadata": {},
   "outputs": [],
   "source": [
    "m1 = m2 = 1\n",
    "k1 = k2 = k3 = 0.5\n",
    "b = 0"
   ]
  },
  {
   "cell_type": "code",
   "execution_count": 53,
   "id": "ef1cab7f",
   "metadata": {},
   "outputs": [
    {
     "data": {
      "text/latex": [
       "$$\\frac{s^2 + 1}{s^4 + 2 s^2 + 1.25}$$"
      ],
      "text/plain": [
       "TransferFunction(array([1., 0., 1.]), array([1.  , 0.  , 2.  , 0.  , 1.25]))"
      ]
     },
     "execution_count": 53,
     "metadata": {},
     "output_type": "execute_result"
    }
   ],
   "source": [
    "num = [m2,b,k2+k3]\n",
    "den = [m1*m2,\n",
    "       b*(m1+m2),\n",
    "       2*b**2+m1*(k2+k3)+m2*(k1+k2),\n",
    "       b*(1+4*k2+k3),\n",
    "       k2*(k1+2*k2+k3)+k1*k3\n",
    "      ]\n",
    "G = control.tf(num,den)\n",
    "G"
   ]
  },
  {
   "cell_type": "code",
   "execution_count": 54,
   "id": "7d684cfb",
   "metadata": {},
   "outputs": [
    {
     "data": {
      "text/plain": [
       "[<matplotlib.lines.Line2D at 0x2b0a50130f0>]"
      ]
     },
     "execution_count": 54,
     "metadata": {},
     "output_type": "execute_result"
    },
    {
     "data": {
      "image/png": "[encoded data removed]",
      "text/plain": [
       "<Figure size 432x288 with 1 Axes>"
      ]
     },
     "metadata": {
      "needs_background": "light"
     },
     "output_type": "display_data"
    }
   ],
   "source": [
    "t,y = control.step_response(G);\n",
    "plt.plot(t,y)"
   ]
  },
  {
   "cell_type": "markdown",
   "id": "0ec55067",
   "metadata": {},
   "source": [
    "- Proponga un modelo en espacio de estados que considere como salidas a $x_1$ y $x_2$"
   ]
  },
  {
   "cell_type": "code",
   "execution_count": null,
   "id": "9f4a3771",
   "metadata": {},
   "outputs": [],
   "source": []
  }
 ],
 "metadata": {
  "kernelspec": {
   "display_name": "Python 3",
   "language": "python",
   "name": "python3"
  },
  "language_info": {
   "codemirror_mode": {
    "name": "ipython",
    "version": 3
   },
   "file_extension": ".py",
   "mimetype": "text/x-python",
   "name": "python",
   "nbconvert_exporter": "python",
   "pygments_lexer": "ipython3",
   "version": "3.7.3"
  },
  "latex_envs": {
   "LaTeX_envs_menu_present": true,
   "autoclose": false,
   "autocomplete": true,
   "bibliofile": "biblio.bib",
   "cite_by": "apalike",
   "current_citInitial": 1,
   "eqLabelWithNumbers": true,
   "eqNumInitial": 1,
   "hotkeys": {
    "equation": "Ctrl-E",
    "itemize": "Ctrl-I"
   },
   "labels_anchors": false,
   "latex_user_defs": false,
   "report_style_numbering": false,
   "user_envs_cfg": false
  },
  "varInspector": {
   "cols": {
    "lenName": 16,
    "lenType": 16,
    "lenVar": 40
   },
   "kernels_config": {
    "python": {
     "delete_cmd_postfix": "",
     "delete_cmd_prefix": "del ",
     "library": "var_list.py",
     "varRefreshCmd": "print(var_dic_list())"
    },
    "r": {
     "delete_cmd_postfix": ") ",
     "delete_cmd_prefix": "rm(",
     "library": "var_list.r",
     "varRefreshCmd": "cat(var_dic_list()) "
    }
   },
   "types_to_exclude": [
    "module",
    "function",
    "builtin_function_or_method",
    "instance",
    "_Feature"
   ],
   "window_display": false
  }
 },
 "nbformat": 4,
 "nbformat_minor": 5
}
