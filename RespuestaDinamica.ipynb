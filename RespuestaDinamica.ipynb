{
 "cells": [
  {
   "cell_type": "code",
   "execution_count": 1,
   "id": "0fe1fddb",
   "metadata": {},
   "outputs": [],
   "source": [
    "#!pip install seaborn\n",
    "import sympy as sym\n",
    "from sympy import apart\n",
    "\n",
    "import matplotlib.pyplot as plt\n",
    "import numpy as np\n",
    "import seaborn as sns\n",
    "sns.set()\n",
    "sns.set_style(\"whitegrid\", {'grid.linestyle': '--'})\n",
    "sym.init_printing()\n",
    "# %matplotlib inline\n",
    "%matplotlib notebook"
   ]
  },
  {
   "cell_type": "markdown",
   "id": "d44f89a9",
   "metadata": {},
   "source": [
    "# Respuesta dinámica\n",
    "\n",
    "Ya se ha establecido que el primer paso para analizar un sistema es obtener un modelo.\n",
    "\n",
    "En el área de la **ingeniería de control**, se configura una base de comparación del comportamiento de sistemas controlados contra señales de prueba particulares."
   ]
  },
  {
   "cell_type": "markdown",
   "id": "541e3a97",
   "metadata": {},
   "source": [
    "## Señales de prueba\n",
    "\n",
    "Las señales de prueba más comunes corresponden a funciones impulso, escalón, rampa, parábola, etc.\n",
    "\n",
    "Como ya se ha estudiado, la respuesta ante la señal impulso permite caracterizar completamente al sistema, sin embargo, no es posible obtener esta señal en laboratorio.\n",
    "\n",
    "La señal de prueba más apropiada para un sistema debe determinarse por la forma más frecuente de las excitaciones en su operación normal.\n",
    "\n",
    "### Impulso\n",
    "Entendido como la derivada del escalón.\n",
    "\\begin{equation}\n",
    "    \\delta(t) = \\frac{d\\epsilon}{dt}    \n",
    "\\end{equation}\n",
    "\n",
    "Aplicando la transformada de Laplace se obtiene:\n",
    "\\begin{equation}\n",
    "    \\mathcal{L} \\{ \\delta(t) \\} = 1    \n",
    "\\end{equation}\n",
    "\n",
    "Determina completamente el comportamiento del sistema.\n",
    "\n",
    "### Escalón\n",
    "\\begin{equation}\n",
    "\\epsilon(t) = \\begin{cases} 0 & t<0 \\\\  1 & t > 0 \\end{cases}\n",
    "\\end{equation}\n",
    "\n",
    "Aplicando la transformada de Laplace se obtiene:\n",
    "\\begin{equation}\n",
    "    \\mathcal{L} \\{ \\epsilon(t) \\} = \\frac{1}{s}  \n",
    "\\end{equation}\n",
    "\n",
    "Apropiada para visualizar el comportamiento de sistemas que buscan mantener variables fijas.\n",
    "\n",
    "### Rampa\n",
    "Entendida como la integral del escalón.\n",
    "\n",
    "\\begin{equation}\n",
    "    rampa(t) = \\int_{-\\infty}^{t} \\epsilon(\\tau) d\\tau = t \\cdot \\epsilon(t) \n",
    "\\end{equation}\n",
    "\n",
    "Aplicando la transformada de Laplace se obtiene:\n",
    "\\begin{equation}\n",
    "    \\mathcal{L} \\{ rampa(t) \\} = \\frac{1}{s^2}\n",
    "\\end{equation}\n",
    "\n",
    "Apropiada para visualizar el comportamiento de sistemas que buscan variables que cambian con velocidad constante.\n",
    "\n",
    "### Parábola\n",
    "Entendida como la integral de la rampa.\n",
    "\n",
    "\\begin{equation}\n",
    "    parabola(t) = \\int_{-\\infty}^{t} rampa(\\tau) d\\tau   = \\frac{t^2}{2} \\cdot \\epsilon(t)  \n",
    "\\end{equation}\n",
    "\n",
    "Aplicando la transformada de Laplace se obtiene:\n",
    "\\begin{equation}\n",
    "    \\mathcal{L} \\{ parabola(t) \\} = \\frac{1}{s^3}  \n",
    "\\end{equation}\n",
    "\n",
    "Apropiada para visualizar el comportamiento de sistemas que buscan variables que cambian con aceleración constante.\n"
   ]
  },
  {
   "cell_type": "markdown",
   "id": "df50b997",
   "metadata": {},
   "source": [
    "## Respuesta transitoria y respuesta estacionaria\n",
    "\n",
    "Cuando un [sistema estable](https://en.wikipedia.org/wiki/BIBO_stability) es excitado en el instante $t=0$, este responde de manera continua (respuesta transitoria) desde un estado inicial relacionado con las condiciones iniciales hasta que logra equilibrio (respuesta estacionaria).\n",
    "\n",
    "\n",
    "![RespuestaDinamica](figuras/RespuestaDinamica.png)"
   ]
  },
  {
   "cell_type": "markdown",
   "id": "600743f6",
   "metadata": {},
   "source": [
    "## Sistemas de primer orden\n",
    "\n",
    "Considere la siguiente función de transferencia:\n",
    "\n",
    "![bloque](figuras/bloque_frecuencia.PNG)\n",
    "\n",
    "\\begin{equation}\n",
    "G(s) = \\frac{C(s)}{R(s)} = \\frac{a}{b s + c}\n",
    "\\end{equation}\n",
    "\n",
    "Este sistema tiene $3$ parámetros ($a$, $b$ y $c$), sin embargo, para facilitar el análisis de estos sistemas puede transformarse la función a su forma canónica al dividir numerador y denominador por $c$.\n",
    "\n",
    "\\begin{equation}\n",
    "G(s) = \\frac{C(s)}{R(s)}  = \\frac{\\frac{a}{c}}{\\frac{b}{c} s + \\frac{c}{c}}= \\frac{k}{\\tau s + 1}\n",
    "\\end{equation}\n",
    "\n",
    "\n",
    "En la forma canónica, se definen los parámetro como:\n",
    "- $k$: ganancia en estado estacionario.\n",
    "- $\\tau$: constante de tiempo."
   ]
  },
  {
   "cell_type": "markdown",
   "id": "611ee31f",
   "metadata": {},
   "source": [
    "### Respuesta al escalón\n",
    "\n",
    "Si el sistema es excitado con un escalón unitario, la señal de salida en el dominio de la frecuencia es:\n",
    "\n",
    "\\begin{equation}\n",
    "C(s) = G(s) \\cdot R(s) = \\frac{k}{\\tau s + 1} \\cdot \\frac{1}{s}\n",
    "\\end{equation}\n",
    "\n",
    "Observe que esta expresión puede reescrbirse como:\n",
    "\n",
    "\\begin{equation}\n",
    "C(s)= k \\cdot \\left ( \\frac{1}{s} - \\frac{\\tau}{\\tau s + 1} \\right )\n",
    "\\end{equation}\n",
    "\n",
    "La transformada inversa de Laplace permite obtener una expresión para la señal de salida en el dominio del tiempo $c(t)$.\n",
    "\n",
    "\\begin{equation}\n",
    "c(t)= k \\left ( 1 - e^{-t/\\tau} \\right ) \\epsilon(t)\n",
    "\\end{equation}\n",
    "\n",
    "Observe que:\n",
    "\n",
    "- $c(t<0)=0$ (condción inicial).\n",
    "- $\\lim_{t\\rightarrow \\infty} c(t)=k$ (respuesta estacionaria).\n",
    "- La respuesta transitoria es dominada por $e^{-t/\\tau}$.\n",
    "- $c(\\tau) = 0.632k$, el sistema alcanza el $63.2\\%$ del valor final después de un tiempo $\\tau$.\n",
    "- $c(2\\tau) = 0.865k$, el sistema alcanza el $86.5\\%$ del valor final después de un tiempo $2\\tau$.\n",
    "- $c(3\\tau) = 0.95k$, el sistema alcanza el $95\\%$ del valor final después de un tiempo $3\\tau$.\n",
    "- $\\frac{dc}{dt}\\big\\vert_{t = 0^+} = \\frac{d}{dt} \\left ( k \\left ( 1 - e^{-t/\\tau} \\right ) \\right ) \\big\\vert_{t = 0^+} = \\frac{k}{\\tau}  e^{-t/\\tau} \\big\\vert_{t = 0^+} =\\frac{k}{\\tau}$\n",
    "- El sistema tiene un polo ubicado en $s=\\frac{-1}{\\tau}$\n"
   ]
  },
  {
   "cell_type": "code",
   "execution_count": 2,
   "id": "f9681137",
   "metadata": {},
   "outputs": [],
   "source": [
    "k, tau = sym.symbols('k, tau',real=True, positive=True)\n",
    "t = sym.symbols('t',real=True, positive=True)\n",
    "\n",
    "s = sym.Symbol('s')\n",
    "\n",
    "def L(f):\n",
    "    return sym.laplace_transform(f, t, s, noconds=True)\n",
    "def invL(F):\n",
    "    return sym.inverse_laplace_transform(F, s, t)"
   ]
  },
  {
   "cell_type": "code",
   "execution_count": 3,
   "id": "3467e6cb",
   "metadata": {},
   "outputs": [
    {
     "data": {
      "image/png": "[encoded data removed]",
      "text/latex": [
       "$\\displaystyle 1$"
      ],
      "text/plain": [
       "1"
      ]
     },
     "execution_count": 3,
     "metadata": {},
     "output_type": "execute_result"
    }
   ],
   "source": [
    "# la entrada r(t) es escalon unitario\n",
    "r = sym.Heaviside(t)\n",
    "r"
   ]
  },
  {
   "cell_type": "code",
   "execution_count": 4,
   "id": "de27daab",
   "metadata": {},
   "outputs": [
    {
     "data": {
      "image/png": "[encoded data removed]",
      "text/latex": [
       "$\\displaystyle \\frac{1}{s}$"
      ],
      "text/plain": [
       "1\n",
       "─\n",
       "s"
      ]
     },
     "execution_count": 4,
     "metadata": {},
     "output_type": "execute_result"
    }
   ],
   "source": [
    "# la entrada R(s) es la transformada de Laplace de r(t)\n",
    "R = L(r)\n",
    "R"
   ]
  },
  {
   "cell_type": "code",
   "execution_count": 5,
   "id": "0cad5036",
   "metadata": {},
   "outputs": [
    {
     "data": {
      "image/png": "[encoded data removed]",
      "text/latex": [
       "$\\displaystyle \\frac{k}{s \\tau + 1}$"
      ],
      "text/plain": [
       "   k   \n",
       "───────\n",
       "s⋅τ + 1"
      ]
     },
     "execution_count": 5,
     "metadata": {},
     "output_type": "execute_result"
    }
   ],
   "source": [
    "# Se define la función de transferencia del sistema G(s)\n",
    "G = k/(tau*s + 1)\n",
    "g =invL(G)\n",
    "G"
   ]
  },
  {
   "cell_type": "code",
   "execution_count": 6,
   "id": "3331c8ca",
   "metadata": {},
   "outputs": [
    {
     "data": {
      "image/png": "[encoded data removed]",
      "text/latex": [
       "$\\displaystyle \\frac{k}{s \\left(s \\tau + 1\\right)}$"
      ],
      "text/plain": [
       "     k     \n",
       "───────────\n",
       "s⋅(s⋅τ + 1)"
      ]
     },
     "execution_count": 6,
     "metadata": {},
     "output_type": "execute_result"
    }
   ],
   "source": [
    "# la salida se calcula como C(s) = G(s)R(s)\n",
    "C = G*R\n",
    "C"
   ]
  },
  {
   "cell_type": "code",
   "execution_count": 7,
   "id": "034d5c89",
   "metadata": {},
   "outputs": [
    {
     "data": {
      "image/png": "[encoded data removed]",
      "text/latex": [
       "$\\displaystyle k - k e^{- \\frac{t}{\\tau}}$"
      ],
      "text/plain": [
       "       -t \n",
       "       ───\n",
       "        τ \n",
       "k - k⋅ℯ   "
      ]
     },
     "execution_count": 7,
     "metadata": {},
     "output_type": "execute_result"
    }
   ],
   "source": [
    "# la salida c(t) es la transformada inversa de Laplace de C(s)\n",
    "c = invL(C)\n",
    "c"
   ]
  },
  {
   "cell_type": "markdown",
   "id": "cefc9419",
   "metadata": {},
   "source": [
    "Hasta este punto se ha encontrado la respuesta general de un sistema de primer orden ante una entrada escalón. Se recomienda variar los parámetros del sistema para identificar cómo varía su comportamiento."
   ]
  },
  {
   "cell_type": "code",
   "execution_count": 29,
   "id": "4d86e384",
   "metadata": {},
   "outputs": [
    {
     "data": {
      "image/png": "[encoded data removed]",
      "text/latex": [
       "$\\displaystyle 3 - 3 e^{- \\frac{t}{25}}$"
      ],
      "text/plain": [
       "       -t \n",
       "       ───\n",
       "        25\n",
       "3 - 3⋅ℯ   "
      ]
     },
     "execution_count": 29,
     "metadata": {},
     "output_type": "execute_result"
    }
   ],
   "source": [
    "# Para valores particulares de k y tau\n",
    "K = 3\n",
    "T = 25\n",
    "kt = {k: K, tau: T}\n",
    "ckt = c.subs(kt)\n",
    "ckt"
   ]
  },
  {
   "cell_type": "code",
   "execution_count": 30,
   "id": "0094f302",
   "metadata": {
    "scrolled": false
   },
   "outputs": [
    {
     "data": {
      "image/png": "[encoded data removed]",
      "text/plain": [
       "<Figure size 720x360 with 1 Axes>"
      ]
     },
     "metadata": {
      "needs_background": "light"
     },
     "output_type": "display_data"
    },
    {
     "data": {
      "image/png": "[encoded data removed]",
      "text/latex": [
       "$\\displaystyle \\left\\{ k : 3, \\  \\tau : 25\\right\\}$"
      ],
      "text/plain": [
       "{k: 3, τ: 25}"
      ]
     },
     "execution_count": 30,
     "metadata": {},
     "output_type": "execute_result"
    }
   ],
   "source": [
    "plt.rcParams['figure.figsize'] = 10, 5\n",
    "g0 = sym.plot(K,(t,0,200),show = False, line_color='green');\n",
    "g1 = sym.plot(ckt, (t,0,200),show = False, line_color='blue')\n",
    "g2 = sym.plot(t*K/T,(t,0,T),show = False, line_color='red');\n",
    "g3 = sym.plot(0.95*K, (t,0,200),show = False, line_color='black')\n",
    "g0.extend(g1)\n",
    "g0.extend(g2)\n",
    "g0.extend(g3)\n",
    "g0.show()\n",
    "kt"
   ]
  },
  {
   "cell_type": "code",
   "execution_count": 10,
   "id": "05835bde",
   "metadata": {},
   "outputs": [
    {
     "data": {
      "image/png": "[encoded data removed]",
      "text/latex": [
       "$\\displaystyle 2.8499999999999996$"
      ],
      "text/plain": [
       "2.8499999999999996"
      ]
     },
     "execution_count": 10,
     "metadata": {},
     "output_type": "execute_result"
    }
   ],
   "source": [
    "3*0.95"
   ]
  },
  {
   "cell_type": "markdown",
   "id": "dcfdc678",
   "metadata": {},
   "source": [
    "### Respesta ante la rampa\n",
    "\n",
    "Si el sistema es excitado con una rampa unitaria, la señal de salida en el dominio de la frecuencia es:\n",
    "\n",
    "\\begin{equation}\n",
    "C(s) = G(s) \\cdot R(s) = \\frac{k}{\\tau s + 1} \\cdot \\frac{1}{s^2}\n",
    "\\end{equation}\n",
    "\n",
    "Observe que esta expresión puede reescrbirse como:\n",
    "\n",
    "\\begin{equation}\n",
    "C(s)= k \\cdot \\left ( \\frac{1}{s^2} - \\frac{\\tau}{s} + \\frac{\\tau^2}{\\tau s + 1} \\right )\n",
    "\\end{equation}\n",
    "\n",
    "La transformada inversa de Laplace permite obtener una expresión para la señal de salida en el dominio del tiempo $c(t)$.\n",
    "\n",
    "\\begin{equation}\n",
    "c(t)= k \\left ( t - \\tau + \\tau e^{-t/\\tau} \\right ) \\epsilon(t)\n",
    "\\end{equation}\n",
    "\n",
    "Observe que:\n",
    "\n",
    "- $c(t)$ se compone de una rampa ($t$), una constante ($\\tau$) y una exponencial ($\\tau e^{-t/\\tau}$).\n",
    "- $c(t<0)=0$ (condción inicial).\n",
    "- A medida que $t\\rightarrow \\infty$, $\\tau e^{-t/\\tau} \\rightarrow 0$, por lo que $\\lim_{t\\rightarrow \\infty} c(t)=k \\left ( t - \\tau \\right )$, es decir hace un seguimiento de la rampa con una desviación que depende de $k$ y $\\tau$.\n",
    "\n",
    "- $\\lim_{t\\rightarrow \\infty} \\frac{dc}{dt} = \\lim_{t\\rightarrow \\infty} k \\left (1 - e^{-t/\\tau} \\right ) = k$\n",
    "\n"
   ]
  },
  {
   "cell_type": "code",
   "execution_count": 11,
   "id": "3b8ffa27",
   "metadata": {},
   "outputs": [
    {
     "data": {
      "image/png": "[encoded data removed]",
      "text/latex": [
       "$\\displaystyle \\frac{k}{s^{2} \\left(s \\tau + 1\\right)}$"
      ],
      "text/plain": [
       "     k      \n",
       "────────────\n",
       " 2          \n",
       "s ⋅(s⋅τ + 1)"
      ]
     },
     "execution_count": 11,
     "metadata": {},
     "output_type": "execute_result"
    }
   ],
   "source": [
    "# la salida se calcula como C(s) = G(s)R(s)\n",
    "C_ramp = G*(1/s**2)\n",
    "C_ramp"
   ]
  },
  {
   "cell_type": "code",
   "execution_count": 12,
   "id": "f33dd041",
   "metadata": {},
   "outputs": [
    {
     "data": {
      "image/png": "[encoded data removed]",
      "text/latex": [
       "$\\displaystyle k t - k \\tau + k \\tau e^{- \\frac{t}{\\tau}}$"
      ],
      "text/plain": [
       "                 -t \n",
       "                 ───\n",
       "                  τ \n",
       "k⋅t - k⋅τ + k⋅τ⋅ℯ   "
      ]
     },
     "execution_count": 12,
     "metadata": {},
     "output_type": "execute_result"
    }
   ],
   "source": [
    "# la salida c_ramp(t) es la transformada inversa de Laplace de C(s)\n",
    "c_ramp = invL(C_ramp)\n",
    "c_ramp"
   ]
  },
  {
   "cell_type": "code",
   "execution_count": 13,
   "id": "95eb828e",
   "metadata": {},
   "outputs": [
    {
     "data": {
      "image/png": "[encoded data removed]",
      "text/latex": [
       "$\\displaystyle 0.9 t - 0.9 + 0.9 e^{- t}$"
      ],
      "text/plain": [
       "                   -t\n",
       "0.9⋅t - 0.9 + 0.9⋅ℯ  "
      ]
     },
     "execution_count": 13,
     "metadata": {},
     "output_type": "execute_result"
    }
   ],
   "source": [
    "# Para valores particulares de k y tau\n",
    "K = 0.9\n",
    "T = 1\n",
    "kt = {k: K, tau: T}\n",
    "c_rampkt = c_ramp.subs(kt)\n",
    "c_rampkt"
   ]
  },
  {
   "cell_type": "code",
   "execution_count": 14,
   "id": "5b82a8e7",
   "metadata": {},
   "outputs": [
    {
     "data": {
      "image/png": "[encoded data removed]",
      "text/plain": [
       "<Figure size 648x216 with 1 Axes>"
      ]
     },
     "metadata": {
      "needs_background": "light"
     },
     "output_type": "display_data"
    },
    {
     "data": {
      "image/png": "[encoded data removed]",
      "text/latex": [
       "$\\displaystyle \\left\\{ k : 0.9, \\  \\tau : 1\\right\\}$"
      ],
      "text/plain": [
       "{k: 0.9, τ: 1}"
      ]
     },
     "execution_count": 14,
     "metadata": {},
     "output_type": "execute_result"
    }
   ],
   "source": [
    "plt.rcParams['figure.figsize'] = 9, 3\n",
    "g0 = sym.plot(t,(t,0,10),show = False, line_color='green');\n",
    "g1 = sym.plot(c_rampkt, (t,0,10),show = False, line_color='blue')\n",
    "g2 = sym.plot(t*K,(t,0,10),show = False, line_color='red');\n",
    "g0.extend(g1)\n",
    "g0.extend(g2)\n",
    "g0.show()\n",
    "kt"
   ]
  },
  {
   "cell_type": "code",
   "execution_count": 15,
   "id": "72f5c59c",
   "metadata": {},
   "outputs": [
    {
     "data": {
      "application/vnd.jupyter.widget-view+json": {
       "model_id": "1d9ed4b663f6490980bccedb74249568",
       "version_major": 2,
       "version_minor": 0
      },
      "text/plain": [
       "interactive(children=(FloatSlider(value=0.5, description='tau_in', max=3.0, min=-2.0), FloatSlider(value=0.0, …"
      ]
     },
     "metadata": {},
     "output_type": "display_data"
    }
   ],
   "source": [
    "from ipywidgets import interact\n",
    "\n",
    "evalfimpulse = sym.lambdify((k, tau, t), g , 'numpy')\n",
    "evalfstep = sym.lambdify((k, tau, t), c, 'numpy')\n",
    "evalframp = sym.lambdify((k, tau, t), c_ramp, 'numpy')\n",
    "\n",
    "ts = np.linspace(0, 10)\n",
    "def orden1(tau_in, K_in):\n",
    "    plt.figure(figsize=(7, 5))\n",
    "    ax_impulse = plt.subplot2grid((3, 2), (0, 0))\n",
    "    ax_step = plt.subplot2grid((3, 2), (1, 0))\n",
    "    ax_ramp = plt.subplot2grid((3, 2), (2, 0))\n",
    "    ax_complex = plt.subplot2grid((2, 2), (0, 1), rowspan=2)\n",
    "    \n",
    "    \n",
    "    ax_impulse.plot(ts, evalfimpulse(K_in, tau_in, ts))\n",
    "    ax_impulse.set_title('Resp. al impulso')\n",
    "    ax_impulse.set_ylim(0, 10)\n",
    "    \n",
    "    tau_height = 1 - np.exp(-1)\n",
    "    ax_step.set_title('Resp. al escalón')\n",
    "    ax_step.plot(ts, evalfstep(K_in, tau_in, ts),ts,K_in*ts**0)\n",
    "    ax_step.set_ylim(0, 10)\n",
    "    \n",
    "    ax_ramp.set_title('Resp. a la rampa')\n",
    "    ax_ramp.plot(ts, evalframp(K_in, tau_in, ts),ts,K_in*ts)\n",
    "    ax_ramp.set_ylim(0, 100)\n",
    "\n",
    "    \n",
    "    ax_complex.set_title('Polos y ceros')\n",
    "    ax_complex.scatter(-1/tau_in, 0, marker='x', s=30)\n",
    "    ax_complex.axhline(0, color='black')\n",
    "    ax_complex.axvline(0, color='black')\n",
    "    ax_complex.axis([-10, 10, -10, 10])\n",
    "\n",
    "    \n",
    "    \n",
    "def orden11(tau_in, K_in):\n",
    "    plt.figure(figsize=(6, 3))\n",
    "    ax_step = plt.subplot2grid((1, 2), (0, 0))\n",
    "    ax_complex = plt.subplot2grid((1, 2), (0, 1), rowspan=2)\n",
    "    \n",
    "    \n",
    "    tau_height = 1 - np.exp(-1)\n",
    "    ax_step.set_title('Resp. al escalón')\n",
    "    ax_step.plot(ts, evalfstep(K_in, tau_in, ts),ts,K_in*ts**0)\n",
    "    ax_step.set_ylim(-6, 6)\n",
    "    \n",
    "    ax_complex.set_title('Polos y ceros')\n",
    "    ax_complex.scatter(-1/tau_in, 0, marker='x', s=30)\n",
    "    ax_complex.axhline(0, color='black')\n",
    "    ax_complex.axvline(0, color='black')\n",
    "    ax_complex.axis([-5, 5, -5, 5])\n",
    "\n",
    "interact(orden11, tau_in=(-2.0, 3.0), K_in=(-5.0, 5.0));"
   ]
  },
  {
   "cell_type": "markdown",
   "id": "feeec3f5",
   "metadata": {},
   "source": [
    "Una vez analizadas las simulaciones anteriores, comparta sus ideas para obtener modelos de primer orden de forma experimental."
   ]
  },
  {
   "cell_type": "markdown",
   "id": "4fa7cf8d",
   "metadata": {},
   "source": [
    "## Sistemas de segundo orden\n",
    "\n",
    "Considere la siguiente función de transferencia:\n",
    "\n",
    "![bloque](figuras/bloque_frecuencia.PNG)\n",
    "\n",
    "\\begin{equation}\n",
    "G(s) = \\frac{C(s)}{R(s)} = \\frac{a}{b s^2 + c s + d}\n",
    "\\end{equation}\n",
    "\n",
    "Este sistema tiene $4$ parámetros ($a$, $b$, $c$ y $d$), sin embargo, para facilitar el análisis de estos sistemas, puede transformarse la función a su forma canónica al dividir numerador y denominador por $b$.\n",
    "\n",
    "\\begin{equation}\n",
    "G(s) = \\frac{C(s)}{R(s)} = \\frac{\\frac{a}{b}}{\\frac{b}{b} s^2 + \\frac{c}{b} s + \\frac{d}{b}} = \\frac{k\\omega_0^2}{s^2 + 2 \\zeta\\omega_0s + \\omega_0^2}\n",
    "\\end{equation}\n",
    "\n",
    "En la forma canónica, se definen los parámetro como:\n",
    "- $k$: ganancia en estado estacionario.\n",
    "- $\\omega_0$: frecuencia natural.\n",
    "- $\\zeta$: coeficiente de amortiguación."
   ]
  },
  {
   "cell_type": "markdown",
   "id": "043d0971",
   "metadata": {},
   "source": [
    "Considerando que el sistema es estable, puede observarse que:\n",
    "- Este sistema no tiene **ceros**, pues no existe un valor de $s$ que haga que el numerador $k\\omega_0^2$ sea igual a cero.\n",
    "- El sistema tiene dos **polos** ubicados en \n",
    "\n",
    "$$s_1,s_2 =-\\zeta \\omega_0 \\pm \\omega_0\\sqrt{\\zeta^2 - 1}$$\n",
    "\n",
    "Así, deben considerarse 3 casos:\n",
    "1. $\\zeta < 1$, por lo cual $\\sqrt{\\zeta^2 - 1}$ arroja un parte imaginaria y el sistema tiene dos polos complejos conjugados. En este caso, el sistema es **subamortiguado**.\n",
    "\n",
    "2. $\\zeta = 1$, por lo cual $\\sqrt{\\zeta^2 - 1} = 0$ y el sistema tendría dos polos reales repetidos. En este caso, el sistema es **críticamente amortiguado**.\n",
    "\n",
    "3. $\\zeta > 1$, por lo cual $\\sqrt{\\zeta^2 - 1}$ arroja un parte real y el sistema tiene dos polos reales diferentes. En este caso, el sistema es **sobreamortiguado**."
   ]
  },
  {
   "cell_type": "markdown",
   "id": "96c8166c",
   "metadata": {},
   "source": [
    "### Caso subamortiguado\n",
    "\n",
    "La función de transferencia del sistema es:\n",
    "\n",
    "\\begin{equation}\n",
    "G(s) = \\frac{C(s)}{R(s)} = \\frac{k\\omega_0^2}{s^2 + 2 \\zeta\\omega_0s + \\omega_0^2}\n",
    "\\end{equation}\n",
    "\n",
    "En este caso se considera que $\\zeta < 1$, por lo cual $\\sqrt{\\zeta^2 - 1}$ arroja un parte imaginaria y el sistema tiene dos polos complejos conjugados.\n",
    "\n",
    "#### Respuesta al escalón\n",
    "\n",
    "Si el sistema es excitado con un escalón unitario, la señal de salida en el dominio de la frecuencia es:\n",
    "\n",
    "\\begin{equation}\n",
    "C(s) = G(s) \\cdot R(s) = \\frac{k\\omega_0^2}{s^2 + 2 \\zeta\\omega_0s + \\omega_0^2} \\cdot \\frac{1}{s}\n",
    "\\end{equation}\n",
    "\n",
    "Observe que esta expresión puede reescrbirse como:\n",
    "\n",
    "\\begin{equation}\n",
    "C(s)= k \\cdot \\left ( \\frac{1}{s} - \\frac{s + 2\\zeta\\omega_0}{s^2 + 2\\zeta\\omega_0s + \\omega_0^2} \\right )\n",
    "\\end{equation}\n",
    "\n",
    "Suponiendo que la parte imaginaria de los polos es $\\omega_d = \\omega_0\\sqrt{1-\\zeta^2}$, la respuesta se puede reescribir como:\n",
    "\n",
    "\\begin{equation}\n",
    "C(s)= k \\cdot \\left ( \\frac{1}{s} - \\frac{s + \\zeta\\omega_0}{(s+\\zeta\\omega_0)^2 + \\omega_d^2} - \\frac{\\zeta\\omega_0}{(s+\\zeta\\omega_0)^2 + \\omega_d^2} \\right )\n",
    "\\end{equation}\n",
    "\n",
    "La transformada inversa de Laplace permite obtener una expresión para la señal de salida en el dominio del tiempo $c(t)$.\n",
    "\n",
    "\\begin{align}\n",
    "c(t) &= k \\left ( 1 - e^{-\\zeta\\omega_0 t} \\cos{\\omega_d t} - \\frac{\\zeta\\omega_0}{\\omega_d}e^{-\\zeta\\omega_0 t} \\sin{\\omega_d t}\\right ) \\epsilon(t) \\\\\n",
    "&= k \\left ( 1 - e^{-\\zeta\\omega_0 t} \\cos{\\omega_d t} - \\frac{\\zeta}{\\sqrt{1-\\zeta^2}}e^{-\\zeta\\omega_0 t} \\sin{\\omega_d t}\\right ) \\epsilon(t) \\\\\n",
    "&= k \\left ( 1 - \\frac{e^{-\\zeta\\omega_0 t}}{\\sqrt{1-\\zeta^2}} \\sin \\left (\\omega_d t + \\tan^{-1} \\frac{\\sqrt{1-\\zeta^2}}{\\zeta} \\right )\\right ) \\epsilon(t) \\\\\n",
    "&= k \\left ( 1 - \\frac{e^{-\\zeta\\omega_0 t}}{\\sqrt{1-\\zeta^2}} \\sin \\left (\\omega_0 \\sqrt{1-\\zeta^2} t + \\tan^{-1} \\frac{\\sqrt{1-\\zeta^2}}{\\zeta} \\right )\\right ) \\epsilon(t) \n",
    "\\end{align}\n",
    "\n",
    "Observe que:\n",
    "\n",
    "- $c(t<0)=0$ (condción inicial).\n",
    "- $\\lim_{t\\rightarrow \\infty} c(t)=k$ (respuesta estacionaria).\n",
    "- La respuesta transitoria es dominada por $e^{-\\zeta\\omega_0 t}$ siendo modulada por una oscilación cuya frecuencia es $\\omega_d = \\omega_0 \\sqrt{1-\\zeta^2}$.\n",
    "- Si $\\zeta = 0 $, el sistema oscilaría eternamente.\n",
    "- El sistema tiene dos polos ubicado en $s_1,s_2 =-\\zeta \\omega_0 \\pm j \\omega_d$"
   ]
  },
  {
   "cell_type": "code",
   "execution_count": 31,
   "id": "3f83788c",
   "metadata": {},
   "outputs": [
    {
     "data": {
      "image/png": "[encoded data removed]",
      "text/latex": [
       "$\\displaystyle \\frac{k \\omega_{0}^{2}}{\\left(\\omega_{0} \\zeta - 1.0 i \\omega_{d} + s\\right) \\left(\\omega_{0} \\zeta + 1.0 i \\omega_{d} + s\\right)}$"
      ],
      "text/plain": [
       "                        2                    \n",
       "                    k⋅ω₀                     \n",
       "─────────────────────────────────────────────\n",
       "(ω₀⋅ζ - 1.0⋅ⅈ⋅ω_d + s)⋅(ω₀⋅ζ + 1.0⋅ⅈ⋅ω_d + s)"
      ]
     },
     "execution_count": 31,
     "metadata": {},
     "output_type": "execute_result"
    }
   ],
   "source": [
    "k, omega0, zeta, omegad = sym.symbols('k, omega_0, zeta, omega_d',real=True, positive=True)\n",
    "t = sym.symbols('t',real=True, positive=True)\n",
    "wd = {omegad : omega0*sym.sqrt(1-zeta**2)}\n",
    "\n",
    "s = sym.Symbol('s')\n",
    "\n",
    "G2_sub = k*omega0**2/((s + zeta*omega0 + omegad*1j)*(s + zeta*omega0 - omegad*1j))\n",
    "G2_sub # La función de transferencia"
   ]
  },
  {
   "cell_type": "code",
   "execution_count": 17,
   "id": "26e5befd",
   "metadata": {},
   "outputs": [
    {
     "data": {
      "image/png": "[encoded data removed]",
      "text/latex": [
       "$\\displaystyle - \\frac{1.0 k \\omega_{0}^{2} \\left(1.0 \\omega_{0} \\zeta + 0.5 s\\right)}{\\left(\\omega_{0}^{2} \\zeta^{2} + \\omega_{d}^{2}\\right) \\left(0.5 \\omega_{0}^{2} \\zeta^{2} + 1.0 \\omega_{0} s \\zeta + 0.5 \\omega_{d}^{2} + 0.5 s^{2}\\right)} + \\frac{1.0 k \\omega_{0}^{2}}{s \\left(\\omega_{0}^{2} \\zeta^{2} + \\omega_{d}^{2}\\right)}$"
      ],
      "text/plain": [
       "                           2                                                  \n",
       "                   1.0⋅k⋅ω₀ ⋅(1.0⋅ω₀⋅ζ + 0.5⋅s)                       1.0⋅k⋅ω₀\n",
       "- ───────────────────────────────────────────────────────────── + ────────────\n",
       "  ⎛  2  2      2⎞ ⎛      2  2                       2        2⎞     ⎛  2  2   \n",
       "  ⎝ω₀ ⋅ζ  + ω_d ⎠⋅⎝0.5⋅ω₀ ⋅ζ  + 1.0⋅ω₀⋅s⋅ζ + 0.5⋅ω_d  + 0.5⋅s ⎠   s⋅⎝ω₀ ⋅ζ  + \n",
       "\n",
       "2    \n",
       "     \n",
       "─────\n",
       "   2⎞\n",
       "ω_d ⎠"
      ]
     },
     "execution_count": 17,
     "metadata": {},
     "output_type": "execute_result"
    }
   ],
   "source": [
    "G2_sub_step = G2_sub*(1/s) # La respuesta ante el escalón\n",
    "G2_sub_step = G2_sub_step.apart(s)   # Descompone larespuesta al escalón en fracciones parciales\n",
    "G2_sub_step"
   ]
  },
  {
   "cell_type": "code",
   "execution_count": 32,
   "id": "c1d050b6",
   "metadata": {},
   "outputs": [
    {
     "data": {
      "image/png": "[encoded data removed]",
      "text/latex": [
       "$\\displaystyle - \\frac{1.0 k \\zeta e^{- 1.0 \\omega_{0} t \\zeta} \\sin{\\left(1.0 \\omega_{0} t \\sqrt{1 - \\zeta^{2}} \\right)}}{\\sqrt{1 - \\zeta^{2}}} + 1.0 k - 1.0 k e^{- 1.0 \\omega_{0} t \\zeta} \\cos{\\left(1.0 \\omega_{0} t \\sqrt{1 - \\zeta^{2}} \\right)}$"
      ],
      "text/plain": [
       "                          ⎛            ________⎞                              \n",
       "           -1.0⋅ω₀⋅t⋅ζ    ⎜           ╱      2 ⎟                              \n",
       "  1.0⋅k⋅ζ⋅ℯ           ⋅sin⎝1.0⋅ω₀⋅t⋅╲╱  1 - ζ  ⎠                  -1.0⋅ω₀⋅t⋅ζ \n",
       "- ────────────────────────────────────────────── + 1.0⋅k - 1.0⋅k⋅ℯ           ⋅\n",
       "                      ________                                                \n",
       "                     ╱      2                                                 \n",
       "                   ╲╱  1 - ζ                                                  \n",
       "\n",
       "                         \n",
       "   ⎛            ________⎞\n",
       "   ⎜           ╱      2 ⎟\n",
       "cos⎝1.0⋅ω₀⋅t⋅╲╱  1 - ζ  ⎠\n",
       "                         \n",
       "                         \n",
       "                         "
      ]
     },
     "execution_count": 32,
     "metadata": {},
     "output_type": "execute_result"
    }
   ],
   "source": [
    "g2_sub_step = invL(G2_sub_step).subs(wd).factor().simplify()\n",
    "g2_sub_step"
   ]
  },
  {
   "cell_type": "code",
   "execution_count": 46,
   "id": "0e608a65",
   "metadata": {
    "scrolled": false
   },
   "outputs": [
    {
     "data": {
      "image/png": "[encoded data removed]",
      "text/plain": [
       "<Figure size 720x360 with 1 Axes>"
      ]
     },
     "metadata": {
      "needs_background": "light"
     },
     "output_type": "display_data"
    },
    {
     "data": {
      "text/plain": [
       "<sympy.plotting.plot.Plot at 0x14deb3cdc50>"
      ]
     },
     "execution_count": 46,
     "metadata": {},
     "output_type": "execute_result"
    }
   ],
   "source": [
    "parametros = {k: 1,omega0: 20, zeta: 0.5}\n",
    "sym.plot(g2_sub_step.subs(parametros),(t,0,1))\n"
   ]
  },
  {
   "cell_type": "markdown",
   "id": "0af1c169",
   "metadata": {},
   "source": [
    "### Caso críticamente amortiguado\n",
    "\n",
    "En este caso se considera que $\\zeta = 1$, por lo cual $\\sqrt{\\zeta^2 - 1}$ arroja un parte imaginaria igual a cero polos reales repetidos. La función de transferencia del sistema queda:\n",
    "\n",
    "\\begin{equation}\n",
    "G(s) = \\frac{C(s)}{R(s)} = \\frac{k\\omega_0^2}{s^2 + 2 \\omega_0s + \\omega_0^2} =  \\frac{k\\omega_0^2}{\\left (s + \\omega_0 \\right )^2}  \n",
    "\\end{equation}\n",
    "\n",
    "\n",
    "#### Respuesta al escalón\n",
    "\n",
    "Si el sistema es excitado con un escalón unitario, la señal de salida en el dominio de la frecuencia es:\n",
    "\n",
    "\\begin{equation}\n",
    "C(s) = G(s) \\cdot R(s) = \\frac{k\\omega_0^2}{\\left (s + \\omega_0 \\right )^2} \\cdot \\frac{1}{s}\n",
    "\\end{equation}\n",
    "\n",
    "Observe que esta expresión puede reescrbirse como:\n",
    "\n",
    "\\begin{equation}\n",
    "C(s)= k \\cdot \\left ( \\frac{1}{s} - \\frac{\\omega_0}{\\left ( s + \\omega_0 \\right )^2} - \\frac{k}{s + \\omega_0} \\right )\n",
    "\\end{equation}\n",
    "\n",
    "Aplicando la transformada inversa se obtiene:\n",
    "\n",
    "\\begin{align}\n",
    "c(t) &= k \\left ( 1 - \\omega_0 t e^{-\\omega_0 t} - e^{-\\omega_0 t} \\right ) \\epsilon(t) \\\\\n",
    "&= k \\left ( 1 - (1 + \\omega_0 t  )e^{-\\omega_0 t} \\right ) \\epsilon(t) \n",
    "\\end{align}\n",
    "\n",
    "\n",
    "- $c(t<0)=0$ (condción inicial).\n",
    "- $\\lim_{t\\rightarrow \\infty} c(t)=k$ (respuesta estacionaria).\n",
    "- La respuesta transitoria es dominada por $(1 + \\omega_0 t  )e^{-\\omega_0 t}$.\n",
    "- El sistema tiene dos polos ubicados en $s_1,s_2 =-\\omega_0$\n"
   ]
  },
  {
   "cell_type": "code",
   "execution_count": 42,
   "id": "67939277",
   "metadata": {},
   "outputs": [
    {
     "data": {
      "image/png": "[encoded data removed]",
      "text/latex": [
       "$\\displaystyle \\frac{k \\omega_{0}^{2}}{\\left(\\omega_{0} + s\\right)^{2}}$"
      ],
      "text/plain": [
       "      2  \n",
       "  k⋅ω₀   \n",
       "─────────\n",
       "        2\n",
       "(ω₀ + s) "
      ]
     },
     "execution_count": 42,
     "metadata": {},
     "output_type": "execute_result"
    }
   ],
   "source": [
    "k, omega0 = sym.symbols('k, omega_0',real=True, positive=True)\n",
    "t = sym.symbols('t',real=True, positive=True)\n",
    "\n",
    "s = sym.Symbol('s')\n",
    "\n",
    "G2_cri = k*omega0**2/(s + omega0)**2\n",
    "G2_cri # La función de transferencia"
   ]
  },
  {
   "cell_type": "code",
   "execution_count": 43,
   "id": "2d3eec79",
   "metadata": {},
   "outputs": [
    {
     "data": {
      "image/png": "[encoded data removed]",
      "text/latex": [
       "$\\displaystyle - \\frac{k \\omega_{0}}{\\left(\\omega_{0} + s\\right)^{2}} - \\frac{k}{\\omega_{0} + s} + \\frac{k}{s}$"
      ],
      "text/plain": [
       "     k⋅ω₀       k      k\n",
       "- ───────── - ────── + ─\n",
       "          2   ω₀ + s   s\n",
       "  (ω₀ + s)              "
      ]
     },
     "execution_count": 43,
     "metadata": {},
     "output_type": "execute_result"
    }
   ],
   "source": [
    "G2_cri_step = G2_cri*(1/s) # La respuesta ante el escalón\n",
    "G2_cri_step = G2_cri_step.apart(s)   # Descompone larespuesta al escalón en fracciones parciales\n",
    "G2_cri_step"
   ]
  },
  {
   "cell_type": "code",
   "execution_count": 48,
   "id": "c6befea4",
   "metadata": {},
   "outputs": [
    {
     "data": {
      "image/png": "[encoded data removed]",
      "text/latex": [
       "$\\displaystyle - k \\left(\\omega_{0} t - e^{\\omega_{0} t} + 1\\right) e^{- \\omega_{0} t}$"
      ],
      "text/plain": [
       "   ⎛        ω₀⋅t    ⎞  -ω₀⋅t\n",
       "-k⋅⎝ω₀⋅t - ℯ     + 1⎠⋅ℯ     "
      ]
     },
     "execution_count": 48,
     "metadata": {},
     "output_type": "execute_result"
    }
   ],
   "source": [
    "g2_cri_step = invL(G2_cri_step).factor().simplify()\n",
    "g2_cri_step"
   ]
  },
  {
   "cell_type": "code",
   "execution_count": 49,
   "id": "403a3d9c",
   "metadata": {},
   "outputs": [
    {
     "data": {
      "image/png": "[encoded data removed]",
      "text/plain": [
       "<Figure size 720x360 with 1 Axes>"
      ]
     },
     "metadata": {
      "needs_background": "light"
     },
     "output_type": "display_data"
    },
    {
     "data": {
      "text/plain": [
       "<sympy.plotting.plot.Plot at 0x14de9c2bda0>"
      ]
     },
     "execution_count": 49,
     "metadata": {},
     "output_type": "execute_result"
    }
   ],
   "source": [
    "parametros = {k: 5,omega0: 6}\n",
    "sym.plot(g2_cri_step.subs(parametros),(t,0,2))"
   ]
  },
  {
   "cell_type": "markdown",
   "id": "5a34b469",
   "metadata": {},
   "source": [
    "### Caso sobreamortiguado\n",
    "\n",
    "En este caso se considera que $\\zeta > 1$, por lo cual $\\sqrt{\\zeta^2 - 1}$ arroja un parte imaginaria igual a cero y polos reales diferentes en $s_1,s_2 = \\omega_0 (-\\zeta  \\pm \\sqrt{\\zeta^2 - 1})$. La función de transferencia del sistema queda:\n",
    "\n",
    "\\begin{equation}\n",
    "G(s) = \\frac{C(s)}{R(s)} = \\frac{k\\omega_0^2}{s^2 + 2 \\zeta \\omega_0s + \\omega_0^2} =  \\frac{k s_1 s_2}{\\left (-s + s_1 \\right ) \\left (-s + s_2 \\right )}  \n",
    "\\end{equation}\n",
    "\n",
    "\n",
    "#### Respuesta al escalón\n",
    "\n",
    "Si el sistema es excitado con un escalón unitario, la señal de salida en el dominio de la frecuencia es:\n",
    "\n",
    "\\begin{equation}\n",
    "C(s) = G(s) \\cdot R(s) = \\frac{k s_1 s_2}{\\left (-s + s_1 \\right ) \\left (-s + s_2 \\right )} \\cdot \\frac{1}{s}\n",
    "\\end{equation}\n",
    "\n",
    "Observe que esta expresión puede reescrbirse como:\n",
    "\n",
    "\\begin{equation}\n",
    "C(s)= k \\cdot \\left ( \\frac{1}{s} - \\frac{s_1}{s_1 - s_2}\\frac{1}{s+s_2} + \\frac{s_2}{s_1 - s_2}\\frac{1}{s+s_1} \\right )\n",
    "\\end{equation}\n",
    "\n",
    "\\begin{equation}\n",
    "C(s)= k \\cdot \\left ( \\frac{1}{s} +  \\frac{1}{s_1 - s_2} \\left (  \\frac{s_1}{s+s_2} + \\frac{s_2}{s+s_1} \\right )  \\right )\n",
    "\\end{equation}\n",
    "\n",
    "Aplicando la transformada inversa se obtiene:\n",
    "\n",
    "\\begin{equation}\n",
    "c(t)= k \\cdot \\left ( 1 +  \\frac{1}{s_1 - s_2} \\left (s_1 e^{-s_2 t} +  s_2 e^{-s_1 t} \\right )  \\right )\n",
    "\\end{equation}\n",
    "\n",
    "\n",
    "- $c(t<0)=0$ (condción inicial).\n",
    "- $\\lim_{t\\rightarrow \\infty} c(t)=k$ (respuesta estacionaria).\n",
    "- La respuesta transitoria es dominada por dos exponenciales reales.\n",
    "- El sistema tiene dos polos reales ubicados en $s_1,s_2 = \\omega_0 (-\\zeta  \\pm \\sqrt{\\zeta^2 - 1})$\n"
   ]
  },
  {
   "cell_type": "code",
   "execution_count": 50,
   "id": "0f4f6795",
   "metadata": {},
   "outputs": [
    {
     "data": {
      "image/png": "[encoded data removed]",
      "text/latex": [
       "$\\displaystyle \\frac{k s_{1} s_{2}}{\\left(- s + s_{1}\\right) \\left(- s + s_{2}\\right)}$"
      ],
      "text/plain": [
       "      k⋅s₁⋅s₂      \n",
       "───────────────────\n",
       "(-s + s₁)⋅(-s + s₂)"
      ]
     },
     "execution_count": 50,
     "metadata": {},
     "output_type": "execute_result"
    }
   ],
   "source": [
    "k, s1,s2,zeta,omega0 = sym.symbols('k, s_1, s_2,\\zeta,\\omega_0',real=True, positive=True)\n",
    "t = sym.symbols('t',real=True, positive=True)\n",
    "\n",
    "s = sym.Symbol('s')\n",
    "\n",
    "G2_sob = k*s1*s2/((-s + s1)*(-s+s2))\n",
    "G2_sob # La función de transferencia"
   ]
  },
  {
   "cell_type": "code",
   "execution_count": 51,
   "id": "ae6175c5",
   "metadata": {},
   "outputs": [
    {
     "data": {
      "image/png": "[encoded data removed]",
      "text/latex": [
       "$\\displaystyle - \\frac{k s_{1}}{\\left(s - s_{2}\\right) \\left(s_{1} - s_{2}\\right)} + \\frac{k s_{2}}{\\left(s - s_{1}\\right) \\left(s_{1} - s_{2}\\right)} + \\frac{k}{s}$"
      ],
      "text/plain": [
       "         k⋅s₁                 k⋅s₂          k\n",
       "- ────────────────── + ────────────────── + ─\n",
       "  (s - s₂)⋅(s₁ - s₂)   (s - s₁)⋅(s₁ - s₂)   s"
      ]
     },
     "execution_count": 51,
     "metadata": {},
     "output_type": "execute_result"
    }
   ],
   "source": [
    "G2_sob_step = G2_sob*(1/s) # La respuesta ante el escalón\n",
    "G2_sob_step = G2_sob_step.apart(s)   # Descompone larespuesta al escalón en fracciones parciales\n",
    "G2_sob_step"
   ]
  },
  {
   "cell_type": "code",
   "execution_count": 52,
   "id": "7e7e2aab",
   "metadata": {},
   "outputs": [
    {
     "data": {
      "image/png": "[encoded data removed]",
      "text/latex": [
       "$\\displaystyle \\frac{k \\left(- s_{1} e^{s_{2} t} + s_{1} + s_{2} e^{s_{1} t} - s_{2}\\right)}{s_{1} - s_{2}}$"
      ],
      "text/plain": [
       "  ⎛      s₂⋅t            s₁⋅t     ⎞\n",
       "k⋅⎝- s₁⋅ℯ     + s₁ + s₂⋅ℯ     - s₂⎠\n",
       "───────────────────────────────────\n",
       "              s₁ - s₂              "
      ]
     },
     "execution_count": 52,
     "metadata": {},
     "output_type": "execute_result"
    }
   ],
   "source": [
    "g2_sob_step = invL(G2_sob_step).factor().simplify()\n",
    "g2_sob_step"
   ]
  },
  {
   "cell_type": "code",
   "execution_count": 53,
   "id": "529cb561",
   "metadata": {
    "scrolled": true
   },
   "outputs": [
    {
     "data": {
      "image/png": "[encoded data removed]",
      "text/latex": [
       "$\\displaystyle \\frac{k \\left(\\left(\\zeta - \\sqrt{\\zeta^{2} - 1}\\right) e^{\\omega_0 t \\left(\\zeta - \\sqrt{\\zeta^{2} - 1}\\right)} - \\left(\\zeta + \\sqrt{\\zeta^{2} - 1}\\right) e^{\\omega_0 t \\left(\\zeta + \\sqrt{\\zeta^{2} - 1}\\right)} + 2 \\sqrt{\\zeta^{2} - 1} e^{2 \\omega_0 \\zeta t}\\right) e^{- 2 \\omega_0 \\zeta t}}{2 \\sqrt{\\zeta^{2} - 1}}$"
      ],
      "text/plain": [
       "  ⎛                                     ⎛           ____________⎞             \n",
       "  ⎜⎛           ____________⎞            ⎜          ╱      2     ⎟   ⎛         \n",
       "  ⎜⎜          ╱      2     ⎟  \\omega₀⋅t⋅⎝\\zeta - ╲╱  \\zeta  - 1 ⎠   ⎜         \n",
       "k⋅⎝⎝\\zeta - ╲╱  \\zeta  - 1 ⎠⋅ℯ                                    - ⎝\\zeta + ╲\n",
       "──────────────────────────────────────────────────────────────────────────────\n",
       "                                                                              \n",
       "                                                                              \n",
       "                                                                              \n",
       "\n",
       "                           ⎛           ____________⎞                          \n",
       "  ____________⎞            ⎜          ╱      2     ⎟        ____________      \n",
       " ╱      2     ⎟  \\omega₀⋅t⋅⎝\\zeta + ╲╱  \\zeta  - 1 ⎠       ╱      2       2⋅\\o\n",
       "╱  \\zeta  - 1 ⎠⋅ℯ                                    + 2⋅╲╱  \\zeta  - 1 ⋅ℯ    \n",
       "──────────────────────────────────────────────────────────────────────────────\n",
       "             ____________                                                     \n",
       "            ╱      2                                                          \n",
       "        2⋅╲╱  \\zeta  - 1                                                      \n",
       "\n",
       "             ⎞                    \n",
       "             ⎟                    \n",
       "mega₀⋅\\zeta⋅t⎟  -2⋅\\omega₀⋅\\zeta⋅t\n",
       "             ⎠⋅ℯ                  \n",
       "──────────────────────────────────\n",
       "                                  \n",
       "                                  \n",
       "                                  "
      ]
     },
     "execution_count": 53,
     "metadata": {},
     "output_type": "execute_result"
    }
   ],
   "source": [
    "s1s2 = {s1: omega0*(-zeta + sym.sqrt(zeta**2-1)) ,s2:  omega0*(-zeta - sym.sqrt(zeta**2-1))}\n",
    "# \\omega_0 (-\\zeta  \\pm \\sqrt{\\zeta^2 - 1})\n",
    "g2_sob_step = g2_sob_step.subs(s1s2).simplify()\n",
    "g2_sob_step"
   ]
  },
  {
   "cell_type": "code",
   "execution_count": 62,
   "id": "a723bbe8",
   "metadata": {},
   "outputs": [
    {
     "data": {
      "image/png": "[encoded data removed]",
      "text/plain": [
       "<Figure size 720x360 with 1 Axes>"
      ]
     },
     "metadata": {
      "needs_background": "light"
     },
     "output_type": "display_data"
    }
   ],
   "source": [
    "parametros1 = {k: 1.0,omega0: 2.0, zeta: 1.1}\n",
    "parametros2 = {k: 1.0,omega0: 2.0, zeta: 2.5}\n",
    "parametros3 = {k: 1.0,omega0: 2.0, zeta: 10}\n",
    "\n",
    "g1 = sym.plot(g2_sob_step.subs(parametros1),\n",
    "              (t,0,10),show=False,line_color='green')\n",
    "g2 = sym.plot(g2_sob_step.subs(parametros2),\n",
    "              (t,0,20),show=False, line_color='blue')\n",
    "g3 = sym.plot(g2_sob_step.subs(parametros3),\n",
    "              (t,0,30),show=False, line_color='red')\n",
    "g1.extend(g2)\n",
    "g1.extend(g3)\n",
    "g1.show()"
   ]
  },
  {
   "cell_type": "markdown",
   "id": "7fdc3bd6",
   "metadata": {},
   "source": [
    "**Pregunta**\n",
    "¿Qué esperaría que ocurra si el coeficiente de amoriguamiento de un sistema de segundo orden es \"muy grande\"?"
   ]
  }
 ],
 "metadata": {
  "kernelspec": {
   "display_name": "Python 3",
   "language": "python",
   "name": "python3"
  },
  "language_info": {
   "codemirror_mode": {
    "name": "ipython",
    "version": 3
   },
   "file_extension": ".py",
   "mimetype": "text/x-python",
   "name": "python",
   "nbconvert_exporter": "python",
   "pygments_lexer": "ipython3",
   "version": "3.7.3"
  },
  "latex_envs": {
   "LaTeX_envs_menu_present": true,
   "autoclose": false,
   "autocomplete": true,
   "bibliofile": "biblio.bib",
   "cite_by": "apalike",
   "current_citInitial": 1,
   "eqLabelWithNumbers": true,
   "eqNumInitial": 0,
   "hotkeys": {
    "equation": "Ctrl-E",
    "itemize": "Ctrl-I"
   },
   "labels_anchors": false,
   "latex_user_defs": false,
   "report_style_numbering": false,
   "user_envs_cfg": false
  },
  "varInspector": {
   "cols": {
    "lenName": 16,
    "lenType": 16,
    "lenVar": 40
   },
   "kernels_config": {
    "python": {
     "delete_cmd_postfix": "",
     "delete_cmd_prefix": "del ",
     "library": "var_list.py",
     "varRefreshCmd": "print(var_dic_list())"
    },
    "r": {
     "delete_cmd_postfix": ") ",
     "delete_cmd_prefix": "rm(",
     "library": "var_list.r",
     "varRefreshCmd": "cat(var_dic_list()) "
    }
   },
   "types_to_exclude": [
    "module",
    "function",
    "builtin_function_or_method",
    "instance",
    "_Feature"
   ],
   "window_display": false
  }
 },
 "nbformat": 4,
 "nbformat_minor": 5
}
