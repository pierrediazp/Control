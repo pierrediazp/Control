{
 "cells": [
  {
   "cell_type": "markdown",
   "id": "84a4ca43",
   "metadata": {},
   "source": [
    "# Modelos"
   ]
  },
  {
   "cell_type": "markdown",
   "id": "75ca72ac",
   "metadata": {},
   "source": [
    "## Sistemas de nivel de líquido"
   ]
  },
  {
   "cell_type": "markdown",
   "id": "fd204e58",
   "metadata": {},
   "source": [
    "Los regímenes de flujo se dividen en:\n",
    "- Laminar  si el número de Reynolds es menor a 2000\n",
    "- Turbulento si el número de Reynolds es mayor a 3000\n",
    "\n",
    "Los sistemas con flujos laminares se pueden representar con ecuaciones diferenciales lineales. Por su parte los sistemas turbulentos se representan con ecuaciones diferenciales no lineales que, dependiendo de las zonas de operación, pueden linealizarse.\n"
   ]
  },
  {
   "cell_type": "markdown",
   "id": "9acd0757",
   "metadata": {},
   "source": [
    "### Resistencia y capacitancia\n",
    "\n",
    "Considere ujn flujo a través de un tubo corto conectando dos tanques. La resistencia $R$ para el flujo en el tubo es:\n",
    "\n",
    "$$R=\\frac{\\text{Cambio en diferencia de nivel} }{\\text{Cambio en velocidad del flujo} }$$"
   ]
  },
  {
   "cell_type": "markdown",
   "id": "5edc5844",
   "metadata": {},
   "source": [
    "Considere el siguiente sistema:\n",
    "\n",
    "![figuras/TanqueRC.png](figuras/TanqueRC.png)\n",
    "\n",
    "El líquido sale por la válvula de carga. Si el flujo es laminar, la relación entre la velocidad del flujo en estado estable y la altura en estado estable se obtiene con\n",
    "\n",
    "$$Q=KH$$\n",
    "\n",
    "donde:\n",
    "- $Q$ velocidad del flujo del líquido en estado estable. $m^3/s$\n",
    "- $H$ altura del líquido en estado estable. $m$\n",
    "- $K$ constante de proporcionalidad\n",
    "\n",
    "Observe la relación lineal entre $Q$ y $H$. Así, este modelo es similar al de una resistencia eléctrica donde $R = V/I$.\n",
    "\n",
    "$$R=\\frac{dH}{dQ} = \\frac{H}{Q}$$\n",
    "\n"
   ]
  },
  {
   "cell_type": "markdown",
   "id": "e4522f0f",
   "metadata": {},
   "source": [
    "Si el flujo es turbulento, se considera\n",
    "\n",
    "$$Q=K\\sqrt{H}$$\n",
    "\n",
    "Y la resistencia sería\n",
    "\n",
    "$$R=\\frac{dH}{dQ}$$\n",
    "\n",
    "Como\n",
    "\n",
    "$$dQ=\\frac{K}{2\\sqrt{H}}dH$$\n",
    "\n",
    "Se obtiene que\n",
    "\n",
    "$$R=\\frac{dH}{dQ} = \\frac{dH}{\\frac{K}{2\\sqrt{H}}dH} = \\frac{2\\sqrt{H}}{K}$$\n",
    "\n",
    "Como $K=Q/H$ se tiene que\n",
    "\n",
    "$$R=\\frac{dH}{dQ} = \\frac{2\\sqrt{H}\\sqrt{H}}{Q}=\\frac{2H}{Q}$$\n"
   ]
  },
  {
   "cell_type": "markdown",
   "id": "93d1dbd1",
   "metadata": {},
   "source": [
    "La capacitancia $C$ del tanque se define como el cambio que se necesita en la cantidad de líquido en el tanque para que se genere un cambio de una unidad en el potencial (altura).\n",
    "\n",
    "$$C =\\frac{\\text{Cambio en el líquido almacenado} }{\\text{Cambio en altura}}$$"
   ]
  },
  {
   "cell_type": "markdown",
   "id": "d9eef0c6",
   "metadata": {},
   "source": [
    "Considere las variables:\n",
    "\n",
    "- $\\bar{Q}$ flujo en estado estable antes de algún cambio.\n",
    "- $q_i$ cambio pequeño del flujo de entrada.\n",
    "- $q_o$ cambio pequeño del flujo de salida.\n",
    "- $H$ nivel en estado estable antes del cambio.\n",
    "- $h$ cambio pequeño del nivel.\n"
   ]
  },
  {
   "cell_type": "markdown",
   "id": "c7159155",
   "metadata": {},
   "source": [
    "El modelo se obtiene así:\n",
    "\n",
    "$$Cdh=(q_i-q_o)dt$$\n",
    "\n",
    "Como $q_o = h/R$, se tiene que\n",
    "\n",
    "$$Cdh=(q_i-\\frac{h}{R})dt$$\n",
    "$$RCdh=(Rq_i-h)dt$$\n",
    "$$RC\\frac{dh}{dt}+h=Rq_i$$\n"
   ]
  },
  {
   "cell_type": "markdown",
   "id": "37e29f83",
   "metadata": {},
   "source": [
    "Considerando que $h$ es la señal de salida y $q_i$ es la señal de entrada, puede obtenerse la función de transferencia del sistema."
   ]
  },
  {
   "cell_type": "markdown",
   "id": "928add84",
   "metadata": {},
   "source": [
    "**Ejercicio**\n",
    "\n",
    "Simule con distintos valores de $R$ y $C$.\n",
    "\n"
   ]
  }
 ],
 "metadata": {
  "kernelspec": {
   "display_name": "Python 3",
   "language": "python",
   "name": "python3"
  },
  "language_info": {
   "codemirror_mode": {
    "name": "ipython",
    "version": 3
   },
   "file_extension": ".py",
   "mimetype": "text/x-python",
   "name": "python",
   "nbconvert_exporter": "python",
   "pygments_lexer": "ipython3",
   "version": "3.7.3"
  },
  "latex_envs": {
   "LaTeX_envs_menu_present": true,
   "autoclose": false,
   "autocomplete": true,
   "bibliofile": "biblio.bib",
   "cite_by": "apalike",
   "current_citInitial": 1,
   "eqLabelWithNumbers": true,
   "eqNumInitial": 1,
   "hotkeys": {
    "equation": "Ctrl-E",
    "itemize": "Ctrl-I"
   },
   "labels_anchors": false,
   "latex_user_defs": false,
   "report_style_numbering": false,
   "user_envs_cfg": false
  },
  "varInspector": {
   "cols": {
    "lenName": 16,
    "lenType": 16,
    "lenVar": 40
   },
   "kernels_config": {
    "python": {
     "delete_cmd_postfix": "",
     "delete_cmd_prefix": "del ",
     "library": "var_list.py",
     "varRefreshCmd": "print(var_dic_list())"
    },
    "r": {
     "delete_cmd_postfix": ") ",
     "delete_cmd_prefix": "rm(",
     "library": "var_list.r",
     "varRefreshCmd": "cat(var_dic_list()) "
    }
   },
   "types_to_exclude": [
    "module",
    "function",
    "builtin_function_or_method",
    "instance",
    "_Feature"
   ],
   "window_display": false
  }
 },
 "nbformat": 4,
 "nbformat_minor": 5
}
