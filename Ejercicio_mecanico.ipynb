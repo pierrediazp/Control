{
 "cells": [
  {
   "cell_type": "markdown",
   "id": "d6d5468f",
   "metadata": {},
   "source": [
    "# Ejercicio: Modelo mecánico\n",
    "\n",
    "**Nombre**: Su nombre aquí."
   ]
  },
  {
   "cell_type": "markdown",
   "id": "5e82bfd1",
   "metadata": {},
   "source": [
    "Analice el diagrama propuesto a continuación.\n",
    "\n",
    "![figuras/mecanico2.png](figuras/mecanico2.png)\n",
    "\n",
    "Defina valores para los parámetros del sistema y desarrolle los siguientes pasos:"
   ]
  },
  {
   "cell_type": "markdown",
   "id": "ec3a38ec",
   "metadata": {},
   "source": [
    "1. Defina las ecuaciones diferenciales que relacionan la fuerza $u(t)$ como señal de entrada, y las posiciones $x_1(t)$, $x_2(t)$, como señales de salida.\n"
   ]
  },
  {
   "cell_type": "code",
   "execution_count": null,
   "id": "02580ab7",
   "metadata": {},
   "outputs": [],
   "source": []
  },
  {
   "cell_type": "markdown",
   "id": "328cac7b",
   "metadata": {},
   "source": [
    "\n",
    "2. Encuentre las funciones de transferencia $G_1(s) = \\frac{X_1(s)}{U(s)}$ y $G_2(s) = \\frac{X_2(s)}{U(s)}$.\n",
    "\n",
    "    - Analice las funciones de transferencia. (polos, ceros, estabilidad, amortiguamiento...)\n",
    "    - Encuentre las respuestas ante una señal escalón y relacione con su análisis.\n",
    "\n"
   ]
  },
  {
   "cell_type": "code",
   "execution_count": null,
   "id": "951299da",
   "metadata": {},
   "outputs": [],
   "source": []
  },
  {
   "cell_type": "markdown",
   "id": "78259077",
   "metadata": {},
   "source": [
    "3. Encuentre un modelo en espacio de estados para el sistema.\n",
    "    - Analice el modelo. (polos, ceros, eigenvalores, estabilidad, amortiguamiento...)\n",
    "    - Encuentre las respuestas ante una señal escalón y relacione con su análisis.\n"
   ]
  },
  {
   "cell_type": "code",
   "execution_count": null,
   "id": "7a04b917",
   "metadata": {},
   "outputs": [],
   "source": []
  }
 ],
 "metadata": {
  "kernelspec": {
   "display_name": "Python 3 (ipykernel)",
   "language": "python",
   "name": "python3"
  },
  "language_info": {
   "codemirror_mode": {
    "name": "ipython",
    "version": 3
   },
   "file_extension": ".py",
   "mimetype": "text/x-python",
   "name": "python",
   "nbconvert_exporter": "python",
   "pygments_lexer": "ipython3",
   "version": "3.10.9"
  },
  "toc": {
   "base_numbering": 1,
   "nav_menu": {},
   "number_sections": true,
   "sideBar": true,
   "skip_h1_title": false,
   "title_cell": "Table of Contents",
   "title_sidebar": "Contents",
   "toc_cell": false,
   "toc_position": {},
   "toc_section_display": true,
   "toc_window_display": false
  },
  "varInspector": {
   "cols": {
    "lenName": 16,
    "lenType": 16,
    "lenVar": 40
   },
   "kernels_config": {
    "python": {
     "delete_cmd_postfix": "",
     "delete_cmd_prefix": "del ",
     "library": "var_list.py",
     "varRefreshCmd": "print(var_dic_list())"
    },
    "r": {
     "delete_cmd_postfix": ") ",
     "delete_cmd_prefix": "rm(",
     "library": "var_list.r",
     "varRefreshCmd": "cat(var_dic_list()) "
    }
   },
   "types_to_exclude": [
    "module",
    "function",
    "builtin_function_or_method",
    "instance",
    "_Feature"
   ],
   "window_display": false
  }
 },
 "nbformat": 4,
 "nbformat_minor": 5
}
