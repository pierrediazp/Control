{
 "cells": [
  {
   "cell_type": "code",
   "execution_count": 1,
   "id": "8d4a14a0",
   "metadata": {},
   "outputs": [],
   "source": [
    "import sympy as sym\n",
    "import numpy as np\n",
    "import matplotlib.pyplot as plt\n",
    "%matplotlib inline\n",
    "import control\n",
    "# from ipywidgets import interact\n",
    "\n",
    "s = sym.symbols('s', complex=True)\n",
    "\n",
    "tfin = 20\n",
    "dt = 1/10\n"
   ]
  },
  {
   "cell_type": "markdown",
   "id": "0a44f90c",
   "metadata": {},
   "source": [
    "# Diseño de controladores mediante Lugar Geométrico de las Raíces\n",
    "\n"
   ]
  },
  {
   "cell_type": "markdown",
   "id": "2a8d649c",
   "metadata": {},
   "source": [
    "Se busca encontrar compensadores a partir de análisis del **Lugar Geométrico de las Raíces**.\n",
    "\n",
    "Los compensadores se diseñan para que los procesos desarrollen tareas específicas cumpliendo con especificaciones del comportamiento en la respuesta transitoria (tiempo de estabilización, máxima sobreelongación, etc) y estacionaria (error de estado estable)."
   ]
  },
  {
   "cell_type": "markdown",
   "id": "9aa41cfb",
   "metadata": {},
   "source": [
    "\n",
    "\n",
    "## Método\n",
    "\n",
    "Se añaden polos y ceros (del compensador) a la función de transferencia del sistema en lazo directo $G(s)$, de manera que el **Lugar Geométrico de las Raíces** pase por los polos deseados en lazo cerrado. Una vez se garantiza que el **Lugar Geométrico de las Raíces** pasa por los polos deseados, se encuentra la ganancia del compensador que permite que el sistema en lazo cerrado se comporte según los polos deseados.\n",
    "\n",
    "Tenga en cuenta que la función de transferencia de lazo cerrado, en un sistema controlado con realimentación unitaria, es:\n",
    "\n",
    "$$G_{LC} = \\frac{G(s)}{1+G(s)}$$\n",
    "\n",
    "Los valores de $s$ que conforman el Lugar Geométrico de las Raíces cumplen que:\n",
    "\n",
    "$$1+G(s) = 0$$\n",
    "\n",
    "Que es equivalente a:\n",
    "\n",
    "$$G(s) = -1$$\n",
    "\n",
    "De donde se genera la condición de fase:\n",
    "\n",
    "$$\\angle G(s) = \\pm 180 ^o$$\n",
    "\n",
    "Y la condición de magnitud:\n",
    "\n",
    "$$ | G(s) | = 1$$\n",
    "\n",
    "### Compensador en adelanto\n",
    "\n",
    "Los pasos para diseñar un compensador mediante el Lugar Geométrico de las Raíces son:\n",
    "\n",
    "1. Determine la localización deseada para los polos dominantes en lazo cerrado.\n",
    "\n",
    "2. A partir del Lugar Geométrico de las Raíces, determine si un ajuste de ganancia puede brindar el comportamiento deseado. Si no, encuentre el ángulo que debe aportar el compensador para que el Lugar Geométrico de las Raíces pase por los polos deseados.\n",
    "\n",
    "3. Suponga la forma de un compensador \n",
    "\n",
    "$$ G_c(s) = k_c\\frac{s+\\frac{1}{T}}{s+\\frac{1}{\\alpha T}}$$\n",
    "\n",
    "donde los parámetros $k_c$, $\\alpha$ y $T$ se determinan a partir de los requisitos del sistema.\n",
    "\n",
    "4. Encuentre $\\alpha$ y $T$ para garanttizar que el Lugar Geométrico de las Raíces pase por los polos deseados con la condición de fase.\n",
    "\n",
    "5. Encuentre $k_c$ a partir de la condición de magnitud."
   ]
  },
  {
   "cell_type": "markdown",
   "id": "2c9a32c9",
   "metadata": {},
   "source": [
    "**Ejemplo**\n",
    "\n",
    "Suponga un proceso cuyo modelo es:\n",
    "\n",
    "$$G_p(s) = \\frac{4}{s\\left ( s+2 \\right )}$$\n",
    "\n",
    "- ceros: Valores de $s$ que hacen que $4=0$.\n",
    "- polos: Valores de $s$ que hacen que $s(s+2)=0 \\rightarrow s=\\{0,-2\\}$"
   ]
  },
  {
   "cell_type": "code",
   "execution_count": 2,
   "id": "b3da0daa",
   "metadata": {},
   "outputs": [
    {
     "data": {
      "text/latex": [
       "$$\\frac{4}{s^2 + 2 s}$$"
      ],
      "text/plain": [
       "TransferFunction(array([4]), array([1, 2, 0]))"
      ]
     },
     "execution_count": 2,
     "metadata": {},
     "output_type": "execute_result"
    }
   ],
   "source": [
    "# Se define la función de transferencia del proceso\n",
    "Gp = control.tf(4, [1,2,0])\n",
    "Gp"
   ]
  },
  {
   "cell_type": "markdown",
   "id": "f69969a8",
   "metadata": {},
   "source": [
    "$$G_{LC}(s)=\\frac{G(s)}{1+G(s)}$$\n",
    "\n",
    "$$G_{LC}(s)=\\frac{\\frac{4}{s\\left ( s+2 \\right )}}{1+\\frac{4}{s\\left ( s+2 \\right )}}$$"
   ]
  },
  {
   "cell_type": "markdown",
   "id": "b4690c58",
   "metadata": {},
   "source": [
    "Si se realimenta el sistema con un compensador $G_c(s)=1$"
   ]
  },
  {
   "cell_type": "code",
   "execution_count": 3,
   "id": "510d431d",
   "metadata": {},
   "outputs": [
    {
     "data": {
      "text/latex": [
       "$$\\frac{4}{s^2 + 2 s + 4}$$"
      ],
      "text/plain": [
       "TransferFunction(array([4]), array([1, 2, 4]))"
      ]
     },
     "execution_count": 3,
     "metadata": {},
     "output_type": "execute_result"
    }
   ],
   "source": [
    "G_LC1 = control.feedback(1*Gp,1)\n",
    "G_LC1"
   ]
  },
  {
   "cell_type": "markdown",
   "id": "813d23cd",
   "metadata": {},
   "source": [
    "Los polos y ceros del sistema en lazo cerrado serían:"
   ]
  },
  {
   "cell_type": "code",
   "execution_count": 4,
   "id": "79a2dfde",
   "metadata": {
    "scrolled": true
   },
   "outputs": [
    {
     "data": {
      "text/plain": [
       "array([-1.+1.73205081j, -1.-1.73205081j])"
      ]
     },
     "execution_count": 4,
     "metadata": {},
     "output_type": "execute_result"
    }
   ],
   "source": [
    "# Polos de lazo con Gc(s) = 1\n",
    "pLC1 = G_LC1.pole()\n",
    "pLC1"
   ]
  },
  {
   "cell_type": "code",
   "execution_count": 5,
   "id": "45ff0572",
   "metadata": {
    "scrolled": true
   },
   "outputs": [
    {
     "data": {
      "text/plain": [
       "array([], dtype=float64)"
      ]
     },
     "execution_count": 5,
     "metadata": {},
     "output_type": "execute_result"
    }
   ],
   "source": [
    "# Ceros de lazo con Gc(s) = 1\n",
    "cLC1 = G_LC1.zero()\n",
    "cLC1"
   ]
  },
  {
   "cell_type": "code",
   "execution_count": 82,
   "id": "1dc2f3e5",
   "metadata": {
    "scrolled": false
   },
   "outputs": [
    {
     "data": {
      "image/png": "[encoded data removed]",
      "text/plain": [
       "<Figure size 432x288 with 1 Axes>"
      ]
     },
     "metadata": {
      "needs_background": "light"
     },
     "output_type": "display_data"
    }
   ],
   "source": [
    "ts = np.linspace(0, tfin, round(tfin/dt))\n",
    "\n",
    "_, yLC1 = control.step_response(G_LC1,ts)\n",
    "plt.plot(ts,yLC1,\n",
    "         ts,0.95*np.ones(len(ts)),\n",
    "         ts,1.05*np.ones(len(ts)))\n",
    "plt.grid()"
   ]
  },
  {
   "cell_type": "code",
   "execution_count": 7,
   "id": "c4369eb6",
   "metadata": {},
   "outputs": [
    {
     "data": {
      "text/plain": [
       "(array([-1.+1.73205081j, -1.-1.73205081j]), array([], dtype=float64))"
      ]
     },
     "execution_count": 7,
     "metadata": {},
     "output_type": "execute_result"
    },
    {
     "data": {
      "image/png": "[encoded data removed]",
      "text/plain": [
       "<Figure size 432x288 with 1 Axes>"
      ]
     },
     "metadata": {
      "needs_background": "light"
     },
     "output_type": "display_data"
    }
   ],
   "source": [
    " control.pzmap(G_LC1,grid = True)"
   ]
  },
  {
   "cell_type": "markdown",
   "id": "6386fbaa",
   "metadata": {},
   "source": [
    "Suponga que requiere disminuir el tiempo de estabilización a la mitad del que obtendría al realimenta con $G_c(s)=1$ manteniendo el amortiguamiento."
   ]
  },
  {
   "cell_type": "code",
   "execution_count": 8,
   "id": "d0235a6b",
   "metadata": {},
   "outputs": [
    {
     "data": {
      "text/plain": [
       "array([-2.+3.5j, -2.-3.5j])"
      ]
     },
     "execution_count": 8,
     "metadata": {},
     "output_type": "execute_result"
    }
   ],
   "source": [
    "# Polos de lazo cerrado deseados\n",
    "# pLC_deseado = 2*pLC1\n",
    "pLC_deseado = np.array([-2+3.5j,-2-3.5j])\n",
    "# pLC_deseado\n",
    "# pLC_deseado = np.array([-2 + 2*1j,-2 - 2*1j])\n",
    "pLC_deseado"
   ]
  },
  {
   "cell_type": "markdown",
   "id": "f6c05d4e",
   "metadata": {},
   "source": [
    "Se verifica si los polos deseados hacen parte del Lugar Geométrico de las Raíces."
   ]
  },
  {
   "cell_type": "code",
   "execution_count": 9,
   "id": "21072203",
   "metadata": {
    "scrolled": false
   },
   "outputs": [
    {
     "data": {
      "text/plain": [
       "[<matplotlib.lines.Line2D at 0x16d01b17630>]"
      ]
     },
     "execution_count": 9,
     "metadata": {},
     "output_type": "execute_result"
    },
    {
     "data": {
      "image/png": "[encoded data removed]",
      "text/plain": [
       "<Figure size 432x288 with 1 Axes>"
      ]
     },
     "metadata": {
      "needs_background": "light"
     },
     "output_type": "display_data"
    }
   ],
   "source": [
    "_,_ = control.root_locus(Gp,#FdT proceso\n",
    "                         plot = True);\n",
    "plt.plot(pLC_deseado.real, pLC_deseado.imag, 'r+')"
   ]
  },
  {
   "cell_type": "markdown",
   "id": "bb7c17dc",
   "metadata": {},
   "source": [
    "Como los polos deseados no hacen parte del Lugar Geométrico de las Raíces, se define una forma de compensador.\n",
    "\n",
    "$$ G_c(s) = k_c\\frac{s+\\frac{1}{T}}{s+\\frac{1}{\\alpha T}}$$\n",
    "\n",
    "y la función de transferencia de lazo directo:\n",
    "\n",
    "$$ G(s) = G_c(s)G_p(s)$$\n"
   ]
  },
  {
   "cell_type": "code",
   "execution_count": 10,
   "id": "bc914353",
   "metadata": {},
   "outputs": [
    {
     "data": {
      "text/latex": [
       "$\\displaystyle \\frac{4}{s^{2} + 2 s}$"
      ],
      "text/plain": [
       "4/(s**2 + 2*s)"
      ]
     },
     "execution_count": 10,
     "metadata": {},
     "output_type": "execute_result"
    }
   ],
   "source": [
    "G_p_sym = 4/(s**2+2*s)#FdT simbolica proceso\n",
    "G_p_sym"
   ]
  },
  {
   "cell_type": "markdown",
   "id": "1da37732",
   "metadata": {},
   "source": [
    "Al evaluar la función de transferencia del proceso en los polos deseados se obtiene:"
   ]
  },
  {
   "cell_type": "code",
   "execution_count": 11,
   "id": "8ba3846e",
   "metadata": {},
   "outputs": [
    {
     "data": {
      "text/plain": [
       "array([-2.+3.5j, -2.-3.5j])"
      ]
     },
     "execution_count": 11,
     "metadata": {},
     "output_type": "execute_result"
    }
   ],
   "source": [
    "pLC_deseado"
   ]
  },
  {
   "cell_type": "code",
   "execution_count": 12,
   "id": "7862f762",
   "metadata": {},
   "outputs": [
    {
     "data": {
      "text/latex": [
       "$\\displaystyle -0.246153846153846 + 0.140659340659341 i$"
      ],
      "text/plain": [
       "-0.246153846153846 + 0.140659340659341*I"
      ]
     },
     "execution_count": 12,
     "metadata": {},
     "output_type": "execute_result"
    }
   ],
   "source": [
    "#FdT proceso evaluada en un polo deseado\n",
    "G_p_sym_des = G_p_sym.subs(s,pLC_deseado[0]).simplify()\n",
    "G_p_sym_des "
   ]
  },
  {
   "cell_type": "markdown",
   "id": "fe030f5a",
   "metadata": {},
   "source": [
    "Este número complejo equivale a una magnitud"
   ]
  },
  {
   "cell_type": "code",
   "execution_count": 13,
   "id": "8e429160",
   "metadata": {},
   "outputs": [
    {
     "data": {
      "text/latex": [
       "$\\displaystyle 0.283507964775334$"
      ],
      "text/plain": [
       "0.283507964775334"
      ]
     },
     "execution_count": 13,
     "metadata": {},
     "output_type": "execute_result"
    }
   ],
   "source": [
    "#norma de FdT proceso evaluada en un polo deseado\n",
    "\n",
    "sym.Abs(G_p_sym_des)"
   ]
  },
  {
   "cell_type": "markdown",
   "id": "440308a6",
   "metadata": {},
   "source": [
    "y una fase"
   ]
  },
  {
   "cell_type": "code",
   "execution_count": 14,
   "id": "c6cd2df6",
   "metadata": {},
   "outputs": [
    {
     "data": {
      "text/latex": [
       "$\\displaystyle 150.255118703058$"
      ],
      "text/plain": [
       "150.255118703058"
      ]
     },
     "execution_count": 14,
     "metadata": {},
     "output_type": "execute_result"
    }
   ],
   "source": [
    "#fase de FdT proceso evaluada en un polo deseado\n",
    "\n",
    "(sym.arg(G_p_sym_des)*180/sym.pi).evalf()"
   ]
  },
  {
   "cell_type": "markdown",
   "id": "65ba9fa4",
   "metadata": {},
   "source": [
    "La condición de fase indica que el compensador debe aportar un ángulo que lleve el ángulo completo a $\\pm 180^o$, en este caso:\n"
   ]
  },
  {
   "cell_type": "code",
   "execution_count": 15,
   "id": "2441e030",
   "metadata": {},
   "outputs": [
    {
     "data": {
      "text/latex": [
       "$\\displaystyle 29.7448812969422$"
      ],
      "text/plain": [
       "29.7448812969422"
      ]
     },
     "execution_count": 15,
     "metadata": {},
     "output_type": "execute_result"
    }
   ],
   "source": [
    "#angulo que debe aportar el compensador para cumplir cond. de fase\n",
    "ang_comp = -((sym.arg(G_p_sym_des)*180/sym.pi).evalf() - 180)\n",
    "ang_comp"
   ]
  },
  {
   "cell_type": "markdown",
   "id": "4fc433a9",
   "metadata": {},
   "source": [
    "por lo que se requiere un compensador.  Se propone usar \n",
    "\n",
    "$$ G_c(s) = k_c\\frac{s+\\frac{1}{T}}{s+\\frac{1}{\\alpha T}}$$\n"
   ]
  },
  {
   "cell_type": "code",
   "execution_count": 16,
   "id": "88e38dce",
   "metadata": {},
   "outputs": [
    {
     "data": {
      "text/latex": [
       "$\\displaystyle \\frac{k_{c} \\left(s + \\frac{1}{T}\\right)}{s + \\frac{1}{T \\alpha}}$"
      ],
      "text/plain": [
       "k_c*(s + 1/T)/(s + 1/(T*alpha))"
      ]
     },
     "execution_count": 16,
     "metadata": {},
     "output_type": "execute_result"
    }
   ],
   "source": [
    "#FdT simbolica del compensador \n",
    "\n",
    "kc,T,alpha,beta = sym.symbols('k_c,T,alpha,beta', real=True,positive = True)\n",
    "\n",
    "\n",
    "G_c_sym = kc*(s+1/T)/(s+1/(alpha*T))\n",
    "G_c_sym"
   ]
  },
  {
   "cell_type": "markdown",
   "id": "6a9203e4",
   "metadata": {},
   "source": [
    "El ángulo que aporta el compensador es:"
   ]
  },
  {
   "cell_type": "code",
   "execution_count": 17,
   "id": "043cbbeb",
   "metadata": {},
   "outputs": [
    {
     "data": {
      "text/latex": [
       "$\\displaystyle \\arg{\\left(\\frac{T \\left(-2.0 + 3.5 i\\right) + 1}{T \\alpha \\left(-2.0 + 3.5 i\\right) + 1} \\right)}$"
      ],
      "text/plain": [
       "arg((T*(-2.0 + 3.5*I) + 1)/(T*alpha*(-2.0 + 3.5*I) + 1))"
      ]
     },
     "execution_count": 17,
     "metadata": {},
     "output_type": "execute_result"
    }
   ],
   "source": [
    "sym.arg(G_c_sym.subs(s,pLC_deseado[0]).simplify()).evalf()"
   ]
  },
  {
   "cell_type": "markdown",
   "id": "657b9e5e",
   "metadata": {},
   "source": [
    "Observe que tiene dos parámetros y una sola condición. En este caso se selecciona un parámetro de forma arbitraria para determinar el otro.\n",
    "\n",
    "Una posible solución es ubicar el cero del compensador bajo el polo deseado.\n",
    "\n",
    "El cero del compensador cumple:\n",
    "$$s+\\frac{1}{T} = 0$$\n",
    "Como se desea en $s=-2$\n",
    "$$-2+\\frac{1}{T} = 0$$\n",
    "$$T = \\frac{1}{2}$$"
   ]
  },
  {
   "cell_type": "markdown",
   "id": "a0464ab1",
   "metadata": {},
   "source": [
    "cero del compensador en $s=-2.5$\n",
    "\n",
    "$$-2.5 + \\frac{1}{T} = 0$$\n",
    "$$T = \\frac{2}{5}$$"
   ]
  },
  {
   "cell_type": "markdown",
   "id": "5fb00a8b",
   "metadata": {},
   "source": [
    "y se soluciona la condición de fase"
   ]
  },
  {
   "cell_type": "code",
   "execution_count": 18,
   "id": "274f6d2e",
   "metadata": {},
   "outputs": [],
   "source": [
    "parametros = {T:1/2}\n",
    "# parametros = {T:1/1.9}\n",
    "# parametros = {T:1/3}\n",
    "# parametros = {T:1}"
   ]
  },
  {
   "cell_type": "code",
   "execution_count": 19,
   "id": "4404d1e0",
   "metadata": {},
   "outputs": [
    {
     "data": {
      "text/latex": [
       "$\\displaystyle \\frac{180 \\arg{\\left(\\frac{i}{-2.0 + 3.5 i + \\frac{2.0}{\\alpha}} \\right)}}{\\pi} - 29.7448812969422$"
      ],
      "text/plain": [
       "180*arg(I/(-2.0 + 3.5*I + 2.0/alpha))/pi - 29.7448812969422"
      ]
     },
     "execution_count": 19,
     "metadata": {},
     "output_type": "execute_result"
    }
   ],
   "source": [
    "CondFase = sym.arg(G_c_sym.subs(s,pLC_deseado[0]).\n",
    "                   subs(parametros))*180/sym.pi - ang_comp\n",
    "CondFase"
   ]
  },
  {
   "cell_type": "code",
   "execution_count": 20,
   "id": "d081c387",
   "metadata": {},
   "outputs": [
    {
     "data": {
      "text/plain": [
       "[0.500000000000000]"
      ]
     },
     "execution_count": 20,
     "metadata": {},
     "output_type": "execute_result"
    }
   ],
   "source": [
    "\n",
    "sym.solve(CondFase,alpha)\n"
   ]
  },
  {
   "cell_type": "code",
   "execution_count": 21,
   "id": "14706395",
   "metadata": {},
   "outputs": [],
   "source": [
    "parametros = {T:1/2, alpha:0.5}\n",
    "# parametros = {T:2/5, alpha:0.52884}\n",
    "# parametros = {T:1/3, alpha:0.5357}\n",
    "# parametros = {T:1, alpha:0.35}"
   ]
  },
  {
   "cell_type": "code",
   "execution_count": 22,
   "id": "9b267b73",
   "metadata": {},
   "outputs": [
    {
     "data": {
      "text/latex": [
       "$\\displaystyle \\frac{k_{c} \\left(s + 2.0\\right)}{s + 4.0}$"
      ],
      "text/plain": [
       "k_c*(s + 2.0)/(s + 4.0)"
      ]
     },
     "execution_count": 22,
     "metadata": {},
     "output_type": "execute_result"
    }
   ],
   "source": [
    "#FdT simbolica del compensador con los parametros hasta el momento\n",
    "\n",
    "G_c_sym.subs(parametros)"
   ]
  },
  {
   "cell_type": "code",
   "execution_count": 23,
   "id": "d000cc07",
   "metadata": {},
   "outputs": [
    {
     "data": {
      "text/latex": [
       "$$\\frac{s + 2}{s + 4}$$"
      ],
      "text/plain": [
       "TransferFunction(array([1, 2]), array([1, 4]))"
      ]
     },
     "execution_count": 23,
     "metadata": {},
     "output_type": "execute_result"
    }
   ],
   "source": [
    "#FdT  del compensador para simular\n",
    "\n",
    "Gc = control.tf([1,2],[1,4])\n",
    "# Gc = control.tf([1,2.5],[1,4.727])\n",
    "# Gc = control.tf([1,3],[1,5.6])\n",
    "# Gc = control.tf([1,1],[1,2.86])\n",
    "Gc"
   ]
  },
  {
   "cell_type": "code",
   "execution_count": 24,
   "id": "8fab98ef",
   "metadata": {},
   "outputs": [
    {
     "data": {
      "text/latex": [
       "$$\\frac{4 s + 8}{s^3 + 6 s^2 + 8 s}$$"
      ],
      "text/plain": [
       "TransferFunction(array([4, 8]), array([1, 6, 8, 0]))"
      ]
     },
     "execution_count": 24,
     "metadata": {},
     "output_type": "execute_result"
    }
   ],
   "source": [
    "G = Gc*Gp\n",
    "G"
   ]
  },
  {
   "cell_type": "code",
   "execution_count": 25,
   "id": "9cf47233",
   "metadata": {},
   "outputs": [
    {
     "data": {
      "text/plain": [
       "array([-4., -2.,  0.])"
      ]
     },
     "execution_count": 25,
     "metadata": {},
     "output_type": "execute_result"
    }
   ],
   "source": [
    "G.pole()"
   ]
  },
  {
   "cell_type": "markdown",
   "id": "9bbc9d93",
   "metadata": {},
   "source": [
    "El Lugar Geométrico de las Raíces del proceso y el compensador es:"
   ]
  },
  {
   "cell_type": "code",
   "execution_count": 26,
   "id": "2e7d6e04",
   "metadata": {
    "scrolled": true
   },
   "outputs": [
    {
     "data": {
      "text/plain": [
       "[<matplotlib.lines.Line2D at 0x16d01ad60f0>]"
      ]
     },
     "execution_count": 26,
     "metadata": {},
     "output_type": "execute_result"
    },
    {
     "data": {
      "image/png": "[encoded data removed]",
      "text/plain": [
       "<Figure size 432x288 with 1 Axes>"
      ]
     },
     "metadata": {
      "needs_background": "light"
     },
     "output_type": "display_data"
    }
   ],
   "source": [
    "_,_ = control.root_locus(Gc*Gp,\n",
    "                         plot = True);\n",
    "plt.plot(pLC_deseado.real, pLC_deseado.imag, 'r+')"
   ]
  },
  {
   "cell_type": "markdown",
   "id": "7cb3f1f0",
   "metadata": {},
   "source": [
    "Ahora debe hallarse $k_c$ con la condición de magnitud.\n",
    "\n",
    "Ya se ha calculado que la magnitud del proceso evaluado en el polo deseado es:"
   ]
  },
  {
   "cell_type": "code",
   "execution_count": 27,
   "id": "5ae004d8",
   "metadata": {},
   "outputs": [
    {
     "data": {
      "text/latex": [
       "$\\displaystyle 0.283507964775334$"
      ],
      "text/plain": [
       "0.283507964775334"
      ]
     },
     "execution_count": 27,
     "metadata": {},
     "output_type": "execute_result"
    }
   ],
   "source": [
    "sym.Abs(G_p_sym_des)"
   ]
  },
  {
   "cell_type": "markdown",
   "id": "c94569b1",
   "metadata": {},
   "source": [
    "Por lo que el compensador debe aportar una magnitud de:"
   ]
  },
  {
   "cell_type": "code",
   "execution_count": 28,
   "id": "23f34c08",
   "metadata": {},
   "outputs": [],
   "source": [
    "# mag_comp * sym.Abs(G_p_sym_des) = 1\n"
   ]
  },
  {
   "cell_type": "code",
   "execution_count": 29,
   "id": "80c468b5",
   "metadata": {},
   "outputs": [
    {
     "data": {
      "text/latex": [
       "$\\displaystyle 3.52723776488062$"
      ],
      "text/plain": [
       "3.52723776488062"
      ]
     },
     "execution_count": 29,
     "metadata": {},
     "output_type": "execute_result"
    }
   ],
   "source": [
    "mag_comp = 1/sym.Abs(G_p_sym_des)\n",
    "mag_comp\n",
    "#magnitud que debe tener el compensador para cumplir cond."
   ]
  },
  {
   "cell_type": "code",
   "execution_count": 30,
   "id": "5fe41c5c",
   "metadata": {},
   "outputs": [
    {
     "data": {
      "text/latex": [
       "$\\displaystyle 0.246153846153846 k_{c} - 1$"
      ],
      "text/plain": [
       "0.246153846153846*k_c - 1"
      ]
     },
     "execution_count": 30,
     "metadata": {},
     "output_type": "execute_result"
    }
   ],
   "source": [
    "sym.Abs(G_c_sym.subs(s,pLC_deseado[0]).\n",
    "                   subs(parametros))/mag_comp - 1"
   ]
  },
  {
   "cell_type": "code",
   "execution_count": 31,
   "id": "e3f27d91",
   "metadata": {},
   "outputs": [
    {
     "data": {
      "text/plain": [
       "[4.06250000000000]"
      ]
     },
     "execution_count": 31,
     "metadata": {},
     "output_type": "execute_result"
    }
   ],
   "source": [
    "CondMag = sym.Abs(G_c_sym.subs(s,pLC_deseado[0]).\n",
    "                   subs(parametros))/mag_comp - 1\n",
    "sym.solve(CondMag,kc)"
   ]
  },
  {
   "cell_type": "code",
   "execution_count": 32,
   "id": "49efd74b",
   "metadata": {},
   "outputs": [],
   "source": [
    "parametros = {T:1/2, alpha:0.5, kc: 4.0625}\n",
    "# parametros = {T:2/5, alpha:0.52884, kc: 4.3637}\n",
    "# parametros = {T:1, alpha:0.35, kc: 3.43}"
   ]
  },
  {
   "cell_type": "markdown",
   "id": "4045adc2",
   "metadata": {},
   "source": [
    "Y  el compensador es:"
   ]
  },
  {
   "cell_type": "code",
   "execution_count": 33,
   "id": "0c91fccb",
   "metadata": {},
   "outputs": [
    {
     "data": {
      "text/latex": [
       "$\\displaystyle \\frac{4.0625 \\left(s + 2.0\\right)}{s + 4.0}$"
      ],
      "text/plain": [
       "4.0625*(s + 2.0)/(s + 4.0)"
      ]
     },
     "execution_count": 33,
     "metadata": {},
     "output_type": "execute_result"
    }
   ],
   "source": [
    "G_c_sym.subs(parametros)"
   ]
  },
  {
   "cell_type": "code",
   "execution_count": 34,
   "id": "84c37d52",
   "metadata": {},
   "outputs": [
    {
     "data": {
      "text/latex": [
       "$$\\frac{4.062 s + 8.125}{s + 4}$$"
      ],
      "text/plain": [
       "TransferFunction(array([4.0625, 8.125 ]), array([1, 4]))"
      ]
     },
     "execution_count": 34,
     "metadata": {},
     "output_type": "execute_result"
    }
   ],
   "source": [
    "Gc = 4.0625*control.tf([1,2],[1,4])\n",
    "# Gc = 4.3637*control.tf([1,2.5],[1,4.727])\n",
    "# Gc = 3.43*control.tf([1,1],[1,2.86])\n",
    "Gc"
   ]
  },
  {
   "cell_type": "markdown",
   "id": "a35a63d9",
   "metadata": {},
   "source": [
    "Verifique el comportamiento en el dominio del tiempo"
   ]
  },
  {
   "cell_type": "markdown",
   "id": "0aba9d15",
   "metadata": {},
   "source": [
    "**Respuesta al escalón del proceso sin compensador**\n"
   ]
  },
  {
   "cell_type": "code",
   "execution_count": 35,
   "id": "ba2161a3",
   "metadata": {},
   "outputs": [
    {
     "data": {
      "image/png": "[encoded data removed]",
      "text/plain": [
       "<Figure size 432x288 with 1 Axes>"
      ]
     },
     "metadata": {
      "needs_background": "light"
     },
     "output_type": "display_data"
    }
   ],
   "source": [
    "\n",
    "\n",
    "_, yLA = control.step_response(Gp, ts)\n",
    "plt.plot(ts,yLA)\n",
    "plt.grid()\n"
   ]
  },
  {
   "cell_type": "markdown",
   "id": "54f8b4ca",
   "metadata": {},
   "source": [
    "**Respuesta al escalón del proceso realimentado**\n"
   ]
  },
  {
   "cell_type": "code",
   "execution_count": 36,
   "id": "80f2d4d3",
   "metadata": {},
   "outputs": [
    {
     "data": {
      "image/png": "[encoded data removed]",
      "text/plain": [
       "<Figure size 432x288 with 1 Axes>"
      ]
     },
     "metadata": {
      "needs_background": "light"
     },
     "output_type": "display_data"
    }
   ],
   "source": [
    "\n",
    "_, yLC1 = control.step_response(control.feedback(Gp,1),ts)\n",
    "plt.plot(ts,yLC1)\n",
    "plt.plot(ts,yLC1,\n",
    "         ts,0.95*np.ones(len(ts)),\n",
    "         ts,1.05*np.ones(len(ts)))\n",
    "plt.grid()"
   ]
  },
  {
   "cell_type": "markdown",
   "id": "9f3f41fa",
   "metadata": {},
   "source": [
    "**Respuesta al escalón del proceso con compensador**\n"
   ]
  },
  {
   "cell_type": "code",
   "execution_count": 37,
   "id": "6f62cd37",
   "metadata": {
    "scrolled": true
   },
   "outputs": [
    {
     "data": {
      "text/plain": [
       "array([-2.+3.5j, -2.-3.5j, -2.+0.j ])"
      ]
     },
     "execution_count": 37,
     "metadata": {},
     "output_type": "execute_result"
    }
   ],
   "source": [
    "control.feedback(Gc*Gp,1).pole()"
   ]
  },
  {
   "cell_type": "code",
   "execution_count": 38,
   "id": "03480155",
   "metadata": {},
   "outputs": [
    {
     "data": {
      "text/plain": [
       "array([-2.])"
      ]
     },
     "execution_count": 38,
     "metadata": {},
     "output_type": "execute_result"
    }
   ],
   "source": [
    "control.feedback(Gc*Gp,1).zero()"
   ]
  },
  {
   "cell_type": "code",
   "execution_count": 39,
   "id": "a1fecdd1",
   "metadata": {},
   "outputs": [
    {
     "data": {
      "image/png": "[encoded data removed]",
      "text/plain": [
       "<Figure size 432x288 with 1 Axes>"
      ]
     },
     "metadata": {
      "needs_background": "light"
     },
     "output_type": "display_data"
    }
   ],
   "source": [
    "\n",
    "_, yLC = control.step_response(control.feedback(Gc*Gp,1),ts)\n",
    "plt.plot(ts,yLC)\n",
    "plt.plot(ts,yLC1,\n",
    "         ts,0.95*np.ones(len(ts)),\n",
    "         ts,1.05*np.ones(len(ts)))\n",
    "plt.grid()"
   ]
  },
  {
   "cell_type": "markdown",
   "id": "72ddd576",
   "metadata": {},
   "source": [
    "Puede compararse la respuesta del sistema solo realimentado con la respuesta del sistema compensado"
   ]
  },
  {
   "cell_type": "code",
   "execution_count": 40,
   "id": "35d5a827",
   "metadata": {
    "scrolled": true
   },
   "outputs": [
    {
     "data": {
      "image/png": "[encoded data removed]",
      "text/plain": [
       "<Figure size 432x288 with 1 Axes>"
      ]
     },
     "metadata": {
      "needs_background": "light"
     },
     "output_type": "display_data"
    }
   ],
   "source": [
    "plt.plot(ts,yLC,ts,yLC1)\n",
    "plt.legend(('Compensado','Realimentado'))\n",
    "plt.grid()\n"
   ]
  },
  {
   "cell_type": "markdown",
   "id": "f3c0e0be",
   "metadata": {},
   "source": [
    "## ¿Cómo se implementa el compensador?\n",
    "\n",
    "$$G_c(s) = \\frac{4s+8}{s+4}$$"
   ]
  },
  {
   "cell_type": "markdown",
   "id": "da98995b",
   "metadata": {},
   "source": [
    "$$G_c(s) = \\frac{salida(s)}{entrada(s)}$$"
   ]
  },
  {
   "cell_type": "markdown",
   "id": "0b43e973",
   "metadata": {},
   "source": [
    "$$G_c(s) = \\frac{4s+8}{s+4} = \\frac{salida_u}{entrada_e}$$"
   ]
  },
  {
   "cell_type": "markdown",
   "id": "7e0717d5",
   "metadata": {},
   "source": [
    "$$(4s+8)entrada_e = (s+4)salida_u$$"
   ]
  },
  {
   "cell_type": "markdown",
   "id": "09f0b349",
   "metadata": {},
   "source": [
    "$$4s\\cdot entrada_e+8entrada_e = s\\cdot salida_u+4salida_u$$"
   ]
  },
  {
   "cell_type": "markdown",
   "id": "b9166e26",
   "metadata": {},
   "source": [
    "$$4 \\frac{de}{dt}+8e(t) = \\frac{du}{dt}+4u(t)$$\n",
    "\n",
    "$$ u(t) =  \\frac{de}{dt}+2e(t) - 0.25 \\frac{du}{dt}$$"
   ]
  },
  {
   "cell_type": "markdown",
   "id": "279039cb",
   "metadata": {},
   "source": [
    "$$4s\\cdot entrada_e+8entrada_e = s\\cdot salida_u+4salida_u$$"
   ]
  },
  {
   "cell_type": "markdown",
   "id": "ee6cd2d4",
   "metadata": {},
   "source": [
    "Observe que el sistema controlado tiene un **error de estado estale** nulo para una entrada escalón. ¿Qué ocurre si la referencia es una rampa?"
   ]
  },
  {
   "cell_type": "code",
   "execution_count": 41,
   "id": "fd101996",
   "metadata": {},
   "outputs": [
    {
     "data": {
      "text/plain": [
       "(0, 5)"
      ]
     },
     "execution_count": 41,
     "metadata": {},
     "output_type": "execute_result"
    },
    {
     "data": {
      "image/png": "[encoded data removed]",
      "text/plain": [
       "<Figure size 432x288 with 1 Axes>"
      ]
     },
     "metadata": {
      "needs_background": "light"
     },
     "output_type": "display_data"
    }
   ],
   "source": [
    "\n",
    "_, yLCr = control.step_response(control.feedback(Gc*Gp,1)*\n",
    "                                control.tf(1,[1,0]),ts)\n",
    "plt.plot(ts,yLCr)\n",
    "plt.plot([ts[0],ts[-1]], [0,ts[-1]])\n",
    "plt.legend(('Com. Adelanto','Referencia'))\n",
    "plt.grid()\n",
    "plt.xlim([0,5])\n",
    "plt.ylim([0,5])"
   ]
  },
  {
   "cell_type": "markdown",
   "id": "62823dde",
   "metadata": {},
   "source": [
    "¿Cómo disminuir el error en estado estable sin afectar drásticamente la respuesta transitoria?\n",
    "\n",
    "## Tabla\n",
    "\n",
    "|error   | $$\\frac{1}{s}$$|$$\\frac{1}{s^2}$$|$$\\frac{1}{s^3}$$|\n",
    "|--------|----------------|-----------------|-----------------|\n",
    "| tipo 0 |$$\\frac{1}{1+K}$$ |$$\\infty$$     | $$\\infty$$      | \n",
    "| tipo 1 |$$0$$           |$$ \\frac{1}{K}$$ | $$\\infty$$      |\n",
    "| tipo 2 |$$0$$           |$$ 0 $$          | $$ \\frac{1}{K}$$|\n"
   ]
  },
  {
   "cell_type": "markdown",
   "id": "62a3d151",
   "metadata": {},
   "source": [
    "Suponga que entre los requerimientos también se encuentra \"reducir\" el error de estado estable ante una entrada más elaborada.  En este caso, se deben agregar dinámicas que no alteren de forma significativa al **LGDR** (porque ya se logró un requerimiento con el controlador en adelanto).\n",
    "\n",
    "### Compensador en retardo\n",
    "\n",
    "Los pasos para diseñar un compensador en retardo mediante el Lugar Geométrico de las Raíces son:\n",
    "\n",
    "1. Suponga la forma de un compensador en retardo\n",
    "\n",
    "$$ G_c(s) = k_c\\frac{s+\\frac{1}{T}}{s+\\frac{1}{\\beta T}}$$\n",
    "\n",
    "donde los parámetros $k_c$, $T$ y $\\beta$ se determinan a partir de los requisitos del sistema.\n",
    "\n",
    "Observe que \n",
    "\n",
    "$$ \\lim_{s\\rightarrow 0}{G_c(s)} = k_c \\cdot \\beta$$\n",
    "\n",
    "2. Encuentre la constante de error de estado estable especificada según los requerimientos.\n",
    "\n",
    "3. Determine el incremento necesario en la constante de error estático.\n",
    "\n",
    "4. Determine $T$ y $\\beta$ apropiados para cumplir el incremento anterior sin alterar el **LGDR**.\n",
    "\n",
    "5. Encuentre $k_c$ a partir de la condición de magnitud para ajustar la posición de los polos dominantes."
   ]
  },
  {
   "cell_type": "code",
   "execution_count": 42,
   "id": "b6b59eb9",
   "metadata": {},
   "outputs": [
    {
     "data": {
      "text/latex": [
       "$$\\frac{16.25 s + 32.5}{s^3 + 6 s^2 + 8 s}$$"
      ],
      "text/plain": [
       "TransferFunction(array([16.25, 32.5 ]), array([1, 6, 8, 0]))"
      ]
     },
     "execution_count": 42,
     "metadata": {},
     "output_type": "execute_result"
    },
    {
     "data": {
      "image/png": "[encoded data removed]",
      "text/plain": [
       "<Figure size 432x288 with 1 Axes>"
      ]
     },
     "metadata": {
      "needs_background": "light"
     },
     "output_type": "display_data"
    }
   ],
   "source": [
    "plt.plot(ts,ts-yLCr,\n",
    "         label = 'Error a rampa')\n",
    "plt.legend()\n",
    "plt.grid()\n",
    "Gc*Gp"
   ]
  },
  {
   "cell_type": "markdown",
   "id": "79ca3bf3",
   "metadata": {},
   "source": [
    "De acuerdo con la gráfica anterior, el error de estado estable ante una entrada de velocidad es aproximadamente $0.25$. \n",
    "\n",
    "$$E_{ss}=\\frac{1}{\\lim_{\\rightarrow 0}sG(s)}$$"
   ]
  },
  {
   "cell_type": "code",
   "execution_count": 43,
   "id": "03be0df0",
   "metadata": {},
   "outputs": [
    {
     "data": {
      "text/latex": [
       "$$\\frac{16.25 s + 32.5}{s^3 + 6 s^2 + 8 s}$$"
      ],
      "text/plain": [
       "TransferFunction(array([16.25, 32.5 ]), array([1, 6, 8, 0]))"
      ]
     },
     "execution_count": 43,
     "metadata": {},
     "output_type": "execute_result"
    }
   ],
   "source": [
    "Gc*Gp"
   ]
  },
  {
   "cell_type": "code",
   "execution_count": 63,
   "id": "cd6d2fa6",
   "metadata": {},
   "outputs": [
    {
     "data": {
      "text/plain": [
       "0.24615384615384617"
      ]
     },
     "execution_count": 63,
     "metadata": {},
     "output_type": "execute_result"
    }
   ],
   "source": [
    "8/32.5"
   ]
  },
  {
   "cell_type": "markdown",
   "id": "ce4f243f",
   "metadata": {},
   "source": [
    "El error de estado estable ante la rampa puede disminuirse a $0.025$, por ejemplo. Para lograr esto, se selecciona $\\beta = 10$, entonces el compensador en retardo es:\n",
    "\n",
    "\n",
    "$$ k_c\\frac{s+\\frac{1}{T}}{s+\\frac{1}{10 T}}$$\n",
    "\n",
    "Como se requiere que el compensador no altere de manera significativa el **LGDR**, se toma $T$ de manera que su polo y cero estén \"cercanos\", por ejemplo $40$, por lo que el controlador es:\n",
    "\n",
    "$$ k_c\\frac{s+\\frac{1}{40}}{s+\\frac{1}{400}} = k_c\\frac{s+0.025}{s+0.0025}$$\n"
   ]
  },
  {
   "cell_type": "markdown",
   "id": "adaede3e",
   "metadata": {},
   "source": [
    "Verifique que el **LGDR** no se ha alterado significativamente"
   ]
  },
  {
   "cell_type": "code",
   "execution_count": 67,
   "id": "f1f07d94",
   "metadata": {},
   "outputs": [
    {
     "data": {
      "text/plain": [
       "[<matplotlib.lines.Line2D at 0x16d045bf358>]"
      ]
     },
     "execution_count": 67,
     "metadata": {},
     "output_type": "execute_result"
    },
    {
     "data": {
      "image/png": "[encoded data removed]",
      "text/plain": [
       "<Figure size 432x288 with 1 Axes>"
      ]
     },
     "metadata": {
      "needs_background": "light"
     },
     "output_type": "display_data"
    }
   ],
   "source": [
    "G_at = control.tf([1,0.025],[1,0.0025])\n",
    "\n",
    "_,_ = control.root_locus(Gc*Gp,plot = True);\n",
    "_,_ = control.root_locus(G_at*Gc*Gp,plot = True);\n",
    "plt.plot(pLC_deseado.real, pLC_deseado.imag, 'r+')"
   ]
  },
  {
   "cell_type": "code",
   "execution_count": 68,
   "id": "b7e23ec1",
   "metadata": {},
   "outputs": [
    {
     "data": {
      "text/latex": [
       "$\\displaystyle \\frac{k_{c} \\left(s + \\frac{1}{T}\\right)}{s + \\frac{1}{T \\beta}}$"
      ],
      "text/plain": [
       "k_c*(s + 1/T)/(s + 1/(T*beta))"
      ]
     },
     "execution_count": 68,
     "metadata": {},
     "output_type": "execute_result"
    }
   ],
   "source": [
    "G_at_sym = kc*(s+1/T)/(s+1/(beta*T))\n",
    "G_at_sym"
   ]
  },
  {
   "cell_type": "code",
   "execution_count": 69,
   "id": "8cf31850",
   "metadata": {},
   "outputs": [
    {
     "data": {
      "text/plain": [
       "{T: 0.5, alpha: 0.5, k_c: 4.0625}"
      ]
     },
     "execution_count": 69,
     "metadata": {},
     "output_type": "execute_result"
    }
   ],
   "source": [
    "parametros"
   ]
  },
  {
   "cell_type": "code",
   "execution_count": 74,
   "id": "07058667",
   "metadata": {},
   "outputs": [
    {
     "data": {
      "text/latex": [
       "$\\displaystyle \\frac{16.25 k_{c} \\left(s + \\frac{1}{40}\\right) \\left(s + 2.0\\right)}{\\left(s + \\frac{1}{400}\\right) \\left(s + 4.0\\right) \\left(s^{2} + 2 s\\right)}$"
      ],
      "text/plain": [
       "16.25*k_c*(s + 1/40)*(s + 2.0)/((s + 1/400)*(s + 4.0)*(s**2 + 2*s))"
      ]
     },
     "execution_count": 74,
     "metadata": {},
     "output_type": "execute_result"
    }
   ],
   "source": [
    "GLA_sym = (G_at_sym.subs({T:40,\n",
    "                          beta:10})*\n",
    "           G_c_sym.subs(parametros)*\n",
    "           G_p_sym)\n",
    "GLA_sym"
   ]
  },
  {
   "cell_type": "code",
   "execution_count": 75,
   "id": "1c9bdf1b",
   "metadata": {},
   "outputs": [
    {
     "data": {
      "text/latex": [
       "$\\displaystyle 0.997244318392646 k_{c}$"
      ],
      "text/plain": [
       "0.997244318392646*k_c"
      ]
     },
     "execution_count": 75,
     "metadata": {},
     "output_type": "execute_result"
    }
   ],
   "source": [
    "sym.Abs(GLA_sym.subs(s,pLC_deseado[0])).simplify()"
   ]
  },
  {
   "cell_type": "code",
   "execution_count": 76,
   "id": "5b531aa6",
   "metadata": {},
   "outputs": [
    {
     "data": {
      "text/latex": [
       "$\\displaystyle 1.00276329637234$"
      ],
      "text/plain": [
       "1.00276329637234"
      ]
     },
     "execution_count": 76,
     "metadata": {},
     "output_type": "execute_result"
    }
   ],
   "source": [
    "kc/sym.Abs(GLA_sym.subs(s,pLC_deseado[0])).simplify()"
   ]
  },
  {
   "cell_type": "markdown",
   "id": "d40e868d",
   "metadata": {},
   "source": [
    "El compensador en atraso será entonces:\n",
    "\n",
    "$$  1.0028\\frac{s+0.025}{s+0.0025}$$\n",
    "\n"
   ]
  },
  {
   "cell_type": "markdown",
   "id": "48108f2c",
   "metadata": {},
   "source": [
    "El sistema compensado completo es:"
   ]
  },
  {
   "cell_type": "code",
   "execution_count": 79,
   "id": "3399dd97",
   "metadata": {},
   "outputs": [
    {
     "data": {
      "text/latex": [
       "$$\\frac{16.3 s^2 + 33 s + 0.8148}{s^4 + 6.003 s^3 + 8.015 s^2 + 0.02 s}$$"
      ],
      "text/plain": [
       "TransferFunction(array([16.2955   , 32.9983875,  0.814775 ]), array([1.    , 6.0025, 8.015 , 0.02  , 0.    ]))"
      ]
     },
     "execution_count": 79,
     "metadata": {},
     "output_type": "execute_result"
    }
   ],
   "source": [
    "G_at = 1.0028*control.tf([1,0.025],[1,0.0025])\n",
    "G = G_at*Gc*Gp\n",
    "G"
   ]
  },
  {
   "cell_type": "code",
   "execution_count": 81,
   "id": "4ef5f13f",
   "metadata": {},
   "outputs": [
    {
     "data": {
      "text/plain": [
       "20"
      ]
     },
     "execution_count": 81,
     "metadata": {},
     "output_type": "execute_result"
    }
   ],
   "source": [
    "ts"
   ]
  },
  {
   "cell_type": "code",
   "execution_count": 83,
   "id": "36a46fac",
   "metadata": {
    "scrolled": true
   },
   "outputs": [
    {
     "data": {
      "image/png": "[encoded data removed]",
      "text/plain": [
       "<Figure size 432x288 with 1 Axes>"
      ]
     },
     "metadata": {
      "needs_background": "light"
     },
     "output_type": "display_data"
    }
   ],
   "source": [
    "\n",
    "_, yLC_aa = control.step_response(control.feedback(G_at*Gc*Gp,1),ts)\n",
    "plt.plot(ts,yLC1,\n",
    "         ts,yLC,\n",
    "         ts,yLC_aa)\n",
    "plt.legend(('Solo realimentado','Comp. adelanto','Comp. ad. at.'))\n",
    "plt.grid()\n"
   ]
  },
  {
   "cell_type": "code",
   "execution_count": 54,
   "id": "6bb63a2d",
   "metadata": {},
   "outputs": [
    {
     "data": {
      "text/plain": [
       "200"
      ]
     },
     "execution_count": 54,
     "metadata": {},
     "output_type": "execute_result"
    }
   ],
   "source": [
    "len(yLCr)"
   ]
  },
  {
   "cell_type": "code",
   "execution_count": 84,
   "id": "16dd3f15",
   "metadata": {},
   "outputs": [
    {
     "data": {
      "image/png": "[encoded data removed]",
      "text/plain": [
       "<Figure size 432x288 with 1 Axes>"
      ]
     },
     "metadata": {
      "needs_background": "light"
     },
     "output_type": "display_data"
    }
   ],
   "source": [
    "## Respuestas ante la rampa \n",
    "_, yLC_aar = control.step_response(control.feedback(G_at*Gc*Gp,1)*\n",
    "                                  control.tf(1,[1,0]),ts)\n",
    "plt.plot(ts,ts,\n",
    "         ts,yLCr,\n",
    "         ts,yLC_aar)\n",
    "plt.legend(('rampa','Comp. adelanto','Comp. ad. at.'))\n",
    "plt.grid()\n"
   ]
  },
  {
   "cell_type": "code",
   "execution_count": 85,
   "id": "ed1338c9",
   "metadata": {},
   "outputs": [
    {
     "data": {
      "image/png": "[encoded data removed]",
      "text/plain": [
       "<Figure size 432x288 with 1 Axes>"
      ]
     },
     "metadata": {
      "needs_background": "light"
     },
     "output_type": "display_data"
    }
   ],
   "source": [
    "## error ante la rampa\n",
    "\n",
    "plt.plot(ts,ts-yLCr,\n",
    "         ts,ts-yLC_aar)\n",
    "plt.legend(('Comp. adelanto','Comp. ad. at.'))\n",
    "plt.grid()"
   ]
  },
  {
   "cell_type": "markdown",
   "id": "d04196c4",
   "metadata": {},
   "source": [
    "-----------------------\n",
    "**Ejercicio 1**\n",
    "\n",
    "Considere el proceso modelado por\n",
    "\n",
    "$$G_p(s) =  \\frac{5}{s(s+4)(s+10)}$$\n",
    "\n",
    "Encuentre un compensador para que los polos dominantes en lazo cerrado estén en $-3 \\pm j3$\n",
    "\n",
    "- No es necesario poner un cero bajo el polo deseado.\n",
    "- Pruebe poniendo el cero a la derecha (valor real mayor) del polo deseado.\n",
    "- Pruebe poniendo el cero a la izquierda (valor real menor) del polo deseado.\n",
    "- Disminuya a la mitad el error de estado estable ante la rampa."
   ]
  },
  {
   "cell_type": "code",
   "execution_count": null,
   "id": "e144b7a4",
   "metadata": {},
   "outputs": [],
   "source": []
  },
  {
   "cell_type": "markdown",
   "id": "6b15b26b",
   "metadata": {},
   "source": [
    "**Ejercicio 2**\n",
    "\n",
    "Revise el contenido de la siguiente URL.\n",
    "[https://homes.esat.kuleuven.be/~tokka/daisydata.html](https://homes.esat.kuleuven.be/~tokka/daisydata.html)\n",
    "\n",
    "Analice los datos del proceso **dryer**\n",
    "\n",
    "¿cómo puede hallar un modelo para el proceso?\n",
    "- Diseñe un compesador para mejorar el funcionamiento del sistema"
   ]
  },
  {
   "cell_type": "code",
   "execution_count": 57,
   "id": "2445896f",
   "metadata": {
    "scrolled": true
   },
   "outputs": [],
   "source": [
    "import pandas as pd\n",
    "from scipy.signal import medfilt\n",
    "\n",
    "datos = pd.read_csv(\"Datos/dryer.dat\",sep=\"\\t\",header = None)\n",
    "# ts = 20\n",
    "\n"
   ]
  },
  {
   "cell_type": "code",
   "execution_count": 58,
   "id": "4169088b",
   "metadata": {},
   "outputs": [],
   "source": [
    "Entrada = list(datos[0]-datos[0].mean())\n",
    "Salida = list(medfilt(list(datos[1]-datos[1].mean()), kernel_size=5))\n",
    "tiempo = list(range(0,ts*(len(Entrada)),ts))\n"
   ]
  },
  {
   "cell_type": "code",
   "execution_count": 59,
   "id": "4fcddab6",
   "metadata": {
    "scrolled": true
   },
   "outputs": [
    {
     "data": {
      "text/plain": [
       "(2500, 3500)"
      ]
     },
     "execution_count": 59,
     "metadata": {},
     "output_type": "execute_result"
    },
    {
     "data": {
      "image/png": "[encoded data removed]",
      "text/plain": [
       "<Figure size 432x288 with 1 Axes>"
      ]
     },
     "metadata": {
      "needs_background": "light"
     },
     "output_type": "display_data"
    }
   ],
   "source": [
    "plt.plot(tiempo,Entrada,tiempo,Salida)\n",
    "plt.xlim([2500,3500])"
   ]
  },
  {
   "cell_type": "code",
   "execution_count": 60,
   "id": "a4208ec6",
   "metadata": {
    "scrolled": false
   },
   "outputs": [
    {
     "data": {
      "text/html": [
       "<div>\n",
       "<style scoped>\n",
       "    .dataframe tbody tr th:only-of-type {\n",
       "        vertical-align: middle;\n",
       "    }\n",
       "\n",
       "    .dataframe tbody tr th {\n",
       "        vertical-align: top;\n",
       "    }\n",
       "\n",
       "    .dataframe thead th {\n",
       "        text-align: right;\n",
       "    }\n",
       "</style>\n",
       "<table border=\"1\" class=\"dataframe\">\n",
       "  <thead>\n",
       "    <tr style=\"text-align: right;\">\n",
       "      <th></th>\n",
       "      <th>t</th>\n",
       "      <th>Um2</th>\n",
       "      <th>Um1</th>\n",
       "      <th>U</th>\n",
       "      <th>U1</th>\n",
       "      <th>U2</th>\n",
       "      <th>U3</th>\n",
       "      <th>U4</th>\n",
       "      <th>Ym2</th>\n",
       "      <th>Ym1</th>\n",
       "      <th>Y</th>\n",
       "      <th>Y1</th>\n",
       "      <th>Y2</th>\n",
       "      <th>dUdt</th>\n",
       "      <th>dYdt</th>\n",
       "    </tr>\n",
       "  </thead>\n",
       "  <tbody>\n",
       "    <tr>\n",
       "      <th>0</th>\n",
       "      <td>0.0</td>\n",
       "      <td>1.41</td>\n",
       "      <td>-1.59</td>\n",
       "      <td>1.41</td>\n",
       "      <td>0.00</td>\n",
       "      <td>0.00</td>\n",
       "      <td>0.00</td>\n",
       "      <td>0.00</td>\n",
       "      <td>-0.050741</td>\n",
       "      <td>-0.050741</td>\n",
       "      <td>-0.050741</td>\n",
       "      <td>0.000000</td>\n",
       "      <td>0.000000</td>\n",
       "      <td>-0.03975</td>\n",
       "      <td>-0.001269</td>\n",
       "    </tr>\n",
       "    <tr>\n",
       "      <th>1</th>\n",
       "      <td>20.0</td>\n",
       "      <td>1.41</td>\n",
       "      <td>1.41</td>\n",
       "      <td>-1.59</td>\n",
       "      <td>1.41</td>\n",
       "      <td>0.00</td>\n",
       "      <td>0.00</td>\n",
       "      <td>0.00</td>\n",
       "      <td>0.112879</td>\n",
       "      <td>-0.050741</td>\n",
       "      <td>-0.050741</td>\n",
       "      <td>-0.050741</td>\n",
       "      <td>0.000000</td>\n",
       "      <td>0.00000</td>\n",
       "      <td>0.000000</td>\n",
       "    </tr>\n",
       "    <tr>\n",
       "      <th>2</th>\n",
       "      <td>40.0</td>\n",
       "      <td>1.41</td>\n",
       "      <td>1.41</td>\n",
       "      <td>1.41</td>\n",
       "      <td>-1.59</td>\n",
       "      <td>1.41</td>\n",
       "      <td>0.00</td>\n",
       "      <td>0.00</td>\n",
       "      <td>0.127529</td>\n",
       "      <td>0.112879</td>\n",
       "      <td>-0.050741</td>\n",
       "      <td>-0.050741</td>\n",
       "      <td>-0.050741</td>\n",
       "      <td>0.07500</td>\n",
       "      <td>0.004090</td>\n",
       "    </tr>\n",
       "    <tr>\n",
       "      <th>3</th>\n",
       "      <td>60.0</td>\n",
       "      <td>1.41</td>\n",
       "      <td>1.41</td>\n",
       "      <td>1.41</td>\n",
       "      <td>1.41</td>\n",
       "      <td>-1.59</td>\n",
       "      <td>1.41</td>\n",
       "      <td>0.00</td>\n",
       "      <td>0.166599</td>\n",
       "      <td>0.127529</td>\n",
       "      <td>0.112879</td>\n",
       "      <td>-0.050741</td>\n",
       "      <td>-0.050741</td>\n",
       "      <td>0.00000</td>\n",
       "      <td>0.004457</td>\n",
       "    </tr>\n",
       "    <tr>\n",
       "      <th>4</th>\n",
       "      <td>80.0</td>\n",
       "      <td>1.41</td>\n",
       "      <td>1.41</td>\n",
       "      <td>1.41</td>\n",
       "      <td>1.41</td>\n",
       "      <td>1.41</td>\n",
       "      <td>-1.59</td>\n",
       "      <td>1.41</td>\n",
       "      <td>0.264279</td>\n",
       "      <td>0.166599</td>\n",
       "      <td>0.127529</td>\n",
       "      <td>0.112879</td>\n",
       "      <td>-0.050741</td>\n",
       "      <td>0.00000</td>\n",
       "      <td>0.001343</td>\n",
       "    </tr>\n",
       "    <tr>\n",
       "      <th>...</th>\n",
       "      <td>...</td>\n",
       "      <td>...</td>\n",
       "      <td>...</td>\n",
       "      <td>...</td>\n",
       "      <td>...</td>\n",
       "      <td>...</td>\n",
       "      <td>...</td>\n",
       "      <td>...</td>\n",
       "      <td>...</td>\n",
       "      <td>...</td>\n",
       "      <td>...</td>\n",
       "      <td>...</td>\n",
       "      <td>...</td>\n",
       "      <td>...</td>\n",
       "      <td>...</td>\n",
       "    </tr>\n",
       "    <tr>\n",
       "      <th>995</th>\n",
       "      <td>19900.0</td>\n",
       "      <td>1.41</td>\n",
       "      <td>1.41</td>\n",
       "      <td>1.41</td>\n",
       "      <td>1.41</td>\n",
       "      <td>-1.59</td>\n",
       "      <td>-1.59</td>\n",
       "      <td>-1.59</td>\n",
       "      <td>-0.744261</td>\n",
       "      <td>-0.744261</td>\n",
       "      <td>-0.744261</td>\n",
       "      <td>-0.475641</td>\n",
       "      <td>-0.185051</td>\n",
       "      <td>0.00000</td>\n",
       "      <td>-0.006715</td>\n",
       "    </tr>\n",
       "    <tr>\n",
       "      <th>996</th>\n",
       "      <td>19920.0</td>\n",
       "      <td>1.41</td>\n",
       "      <td>1.41</td>\n",
       "      <td>1.41</td>\n",
       "      <td>1.41</td>\n",
       "      <td>1.41</td>\n",
       "      <td>-1.59</td>\n",
       "      <td>-1.59</td>\n",
       "      <td>-0.517161</td>\n",
       "      <td>-0.744261</td>\n",
       "      <td>-0.744261</td>\n",
       "      <td>-0.744261</td>\n",
       "      <td>-0.475641</td>\n",
       "      <td>0.00000</td>\n",
       "      <td>0.000000</td>\n",
       "    </tr>\n",
       "    <tr>\n",
       "      <th>997</th>\n",
       "      <td>19940.0</td>\n",
       "      <td>0.00</td>\n",
       "      <td>1.41</td>\n",
       "      <td>1.41</td>\n",
       "      <td>1.41</td>\n",
       "      <td>1.41</td>\n",
       "      <td>1.41</td>\n",
       "      <td>-1.59</td>\n",
       "      <td>0.000000</td>\n",
       "      <td>-0.517161</td>\n",
       "      <td>-0.744261</td>\n",
       "      <td>-0.744261</td>\n",
       "      <td>-0.744261</td>\n",
       "      <td>0.00000</td>\n",
       "      <td>0.005678</td>\n",
       "    </tr>\n",
       "    <tr>\n",
       "      <th>998</th>\n",
       "      <td>19960.0</td>\n",
       "      <td>0.00</td>\n",
       "      <td>0.00</td>\n",
       "      <td>1.41</td>\n",
       "      <td>1.41</td>\n",
       "      <td>1.41</td>\n",
       "      <td>1.41</td>\n",
       "      <td>1.41</td>\n",
       "      <td>0.000000</td>\n",
       "      <td>0.000000</td>\n",
       "      <td>-0.517161</td>\n",
       "      <td>-0.744261</td>\n",
       "      <td>-0.744261</td>\n",
       "      <td>-0.03525</td>\n",
       "      <td>0.018607</td>\n",
       "    </tr>\n",
       "    <tr>\n",
       "      <th>999</th>\n",
       "      <td>19980.0</td>\n",
       "      <td>1.41</td>\n",
       "      <td>1.41</td>\n",
       "      <td>1.41</td>\n",
       "      <td>1.41</td>\n",
       "      <td>1.41</td>\n",
       "      <td>1.41</td>\n",
       "      <td>1.41</td>\n",
       "      <td>-0.207021</td>\n",
       "      <td>-0.207021</td>\n",
       "      <td>-0.207021</td>\n",
       "      <td>-0.517161</td>\n",
       "      <td>-0.744261</td>\n",
       "      <td>0.00000</td>\n",
       "      <td>0.007753</td>\n",
       "    </tr>\n",
       "  </tbody>\n",
       "</table>\n",
       "<p>1000 rows × 15 columns</p>\n",
       "</div>"
      ],
      "text/plain": [
       "           t   Um2   Um1     U    U1    U2    U3    U4       Ym2       Ym1  \\\n",
       "0        0.0  1.41 -1.59  1.41  0.00  0.00  0.00  0.00 -0.050741 -0.050741   \n",
       "1       20.0  1.41  1.41 -1.59  1.41  0.00  0.00  0.00  0.112879 -0.050741   \n",
       "2       40.0  1.41  1.41  1.41 -1.59  1.41  0.00  0.00  0.127529  0.112879   \n",
       "3       60.0  1.41  1.41  1.41  1.41 -1.59  1.41  0.00  0.166599  0.127529   \n",
       "4       80.0  1.41  1.41  1.41  1.41  1.41 -1.59  1.41  0.264279  0.166599   \n",
       "..       ...   ...   ...   ...   ...   ...   ...   ...       ...       ...   \n",
       "995  19900.0  1.41  1.41  1.41  1.41 -1.59 -1.59 -1.59 -0.744261 -0.744261   \n",
       "996  19920.0  1.41  1.41  1.41  1.41  1.41 -1.59 -1.59 -0.517161 -0.744261   \n",
       "997  19940.0  0.00  1.41  1.41  1.41  1.41  1.41 -1.59  0.000000 -0.517161   \n",
       "998  19960.0  0.00  0.00  1.41  1.41  1.41  1.41  1.41  0.000000  0.000000   \n",
       "999  19980.0  1.41  1.41  1.41  1.41  1.41  1.41  1.41 -0.207021 -0.207021   \n",
       "\n",
       "            Y        Y1        Y2     dUdt      dYdt  \n",
       "0   -0.050741  0.000000  0.000000 -0.03975 -0.001269  \n",
       "1   -0.050741 -0.050741  0.000000  0.00000  0.000000  \n",
       "2   -0.050741 -0.050741 -0.050741  0.07500  0.004090  \n",
       "3    0.112879 -0.050741 -0.050741  0.00000  0.004457  \n",
       "4    0.127529  0.112879 -0.050741  0.00000  0.001343  \n",
       "..        ...       ...       ...      ...       ...  \n",
       "995 -0.744261 -0.475641 -0.185051  0.00000 -0.006715  \n",
       "996 -0.744261 -0.744261 -0.475641  0.00000  0.000000  \n",
       "997 -0.744261 -0.744261 -0.744261  0.00000  0.005678  \n",
       "998 -0.517161 -0.744261 -0.744261 -0.03525  0.018607  \n",
       "999 -0.207021 -0.517161 -0.744261  0.00000  0.007753  \n",
       "\n",
       "[1000 rows x 15 columns]"
      ]
     },
     "execution_count": 60,
     "metadata": {},
     "output_type": "execute_result"
    }
   ],
   "source": [
    "n = len(Entrada)\n",
    "Entrada_1 = Entrada.copy()\n",
    "Entrada_1.insert(0, 0)\n",
    "Entrada_m1 = Entrada.copy()\n",
    "Entrada_m1.insert(-1, 0)\n",
    "\n",
    "\n",
    "Entrada_2 = Entrada_1.copy()\n",
    "Entrada_2.insert(0, 0)\n",
    "Entrada_3 = Entrada_2.copy()\n",
    "Entrada_3.insert(0, 0)\n",
    "Entrada_4 = Entrada_3.copy()\n",
    "Entrada_4.insert(0, 0)\n",
    "\n",
    "Entrada_m2 = Entrada_m1.copy()\n",
    "Entrada_m2.insert(-1, 0)\n",
    "\n",
    "Salida_1 = Salida.copy()\n",
    "Salida_1.insert(0, 0)\n",
    "Salida_m1 = Salida.copy()\n",
    "Salida_m1.insert(-1, 0)\n",
    "\n",
    "\n",
    "Salida_2 = Salida_1.copy()\n",
    "Salida_2.insert(0, 0)\n",
    "Salida_m2 = Salida_m1.copy()\n",
    "Salida_m2.insert(-1, 0)\n",
    "\n",
    "df = pd.DataFrame(np.transpose(np.array([tiempo,\n",
    "                                         Entrada_m2[2:n+2],\n",
    "                                         Entrada_m1[1:n+1],\n",
    "                                         Entrada[0:n],\n",
    "                                         Entrada_1[0:n],\n",
    "                                         Entrada_2[0:n],\n",
    "                                         Entrada_3[0:n],\n",
    "                                         Entrada_4[0:n],\n",
    "                                         Salida_m2[2:n+2],\n",
    "                                         Salida_m1[1:n+1],\n",
    "                                         Salida[0:n],\n",
    "                                         Salida_1[0:n],\n",
    "                                         Salida_2[0:n]])),\n",
    "                  columns=['t',\n",
    "                           'Um2',\n",
    "                           'Um1',\n",
    "                           'U',\n",
    "                           'U1',\n",
    "                           'U2',\n",
    "                           'U3',\n",
    "                           'U4',\n",
    "                           'Ym2',\n",
    "                           'Ym1',\n",
    "                           'Y',\n",
    "                           'Y1',\n",
    "                           'Y2'])\n",
    "\n",
    "df[\"dUdt\"] = (df[\"Um1\"]-df[\"U1\"])/(ts*2)\n",
    "df[\"dYdt\"] = (df[\"Ym1\"]-df[\"Y1\"])/(ts*2)\n",
    "\n",
    "df\n"
   ]
  },
  {
   "cell_type": "markdown",
   "id": "3daf06f2",
   "metadata": {},
   "source": [
    "$$y(t)=au(t)+b\\frac{du}{dt}+c\\frac{d^2u}{dt^2}+c\\frac{dy}{dt}+d\\frac{d^2y}{dt^2}$$"
   ]
  },
  {
   "cell_type": "code",
   "execution_count": 61,
   "id": "037687d6",
   "metadata": {},
   "outputs": [
    {
     "name": "stdout",
     "output_type": "stream",
     "text": [
      "                            OLS Regression Results                            \n",
      "==============================================================================\n",
      "Dep. Variable:                      Y   R-squared:                       0.985\n",
      "Model:                            OLS   Adj. R-squared:                  0.985\n",
      "Method:                 Least Squares   F-statistic:                 2.225e+04\n",
      "Date:                Thu, 04 May 2023   Prob (F-statistic):               0.00\n",
      "Time:                        06:10:18   Log-Likelihood:                 895.48\n",
      "No. Observations:                1000   AIC:                            -1783.\n",
      "Df Residuals:                     996   BIC:                            -1763.\n",
      "Df Model:                           3                                         \n",
      "Covariance Type:            nonrobust                                         \n",
      "==============================================================================\n",
      "                 coef    std err          t      P>|t|      [0.025      0.975]\n",
      "------------------------------------------------------------------------------\n",
      "Intercept      0.0003      0.003      0.100      0.921      -0.006       0.006\n",
      "U2             0.0411      0.002     18.092      0.000       0.037       0.046\n",
      "Y1             1.6182      0.018     88.003      0.000       1.582       1.654\n",
      "Y2            -0.6792      0.018    -37.523      0.000      -0.715      -0.644\n",
      "==============================================================================\n",
      "Omnibus:                       19.852   Durbin-Watson:                   2.519\n",
      "Prob(Omnibus):                  0.000   Jarque-Bera (JB):               38.305\n",
      "Skew:                           0.010   Prob(JB):                     4.81e-09\n",
      "Kurtosis:                       3.959   Cond. No.                         12.6\n",
      "==============================================================================\n",
      "\n",
      "Notes:\n",
      "[1] Standard Errors assume that the covariance matrix of the errors is correctly specified.\n"
     ]
    }
   ],
   "source": [
    "\n",
    "import statsmodels.formula.api as smf\n",
    "# hipo1 = \"\"\"Y ~ U4 + dYdt + dUdt + 1\"\"\"\n",
    "hipo1 = \"\"\"Y ~ U2 + Y1 + Y2\"\"\"\n",
    "mod1 = smf.ols(formula= hipo1 , data=df).fit()\n",
    "print(mod1.summary())\n",
    "\n",
    "\n"
   ]
  },
  {
   "cell_type": "code",
   "execution_count": 62,
   "id": "299ad762",
   "metadata": {},
   "outputs": [
    {
     "data": {
      "text/plain": [
       "(1000, 15)"
      ]
     },
     "execution_count": 62,
     "metadata": {},
     "output_type": "execute_result"
    }
   ],
   "source": [
    "df.shape"
   ]
  },
  {
   "cell_type": "code",
   "execution_count": null,
   "id": "3653eebf",
   "metadata": {},
   "outputs": [],
   "source": []
  }
 ],
 "metadata": {
  "kernelspec": {
   "display_name": "Python 3",
   "language": "python",
   "name": "python3"
  },
  "language_info": {
   "codemirror_mode": {
    "name": "ipython",
    "version": 3
   },
   "file_extension": ".py",
   "mimetype": "text/x-python",
   "name": "python",
   "nbconvert_exporter": "python",
   "pygments_lexer": "ipython3",
   "version": "3.7.3"
  },
  "latex_envs": {
   "LaTeX_envs_menu_present": true,
   "autoclose": false,
   "autocomplete": true,
   "bibliofile": "biblio.bib",
   "cite_by": "apalike",
   "current_citInitial": 1,
   "eqLabelWithNumbers": true,
   "eqNumInitial": 0,
   "hotkeys": {
    "equation": "Ctrl-E",
    "itemize": "Ctrl-I"
   },
   "labels_anchors": false,
   "latex_user_defs": false,
   "report_style_numbering": false,
   "user_envs_cfg": false
  },
  "toc": {
   "base_numbering": 1,
   "nav_menu": {},
   "number_sections": true,
   "sideBar": true,
   "skip_h1_title": false,
   "title_cell": "Table of Contents",
   "title_sidebar": "Contents",
   "toc_cell": false,
   "toc_position": {},
   "toc_section_display": true,
   "toc_window_display": false
  },
  "varInspector": {
   "cols": {
    "lenName": 16,
    "lenType": 16,
    "lenVar": 40
   },
   "kernels_config": {
    "python": {
     "delete_cmd_postfix": "",
     "delete_cmd_prefix": "del ",
     "library": "var_list.py",
     "varRefreshCmd": "print(var_dic_list())"
    },
    "r": {
     "delete_cmd_postfix": ") ",
     "delete_cmd_prefix": "rm(",
     "library": "var_list.r",
     "varRefreshCmd": "cat(var_dic_list()) "
    }
   },
   "types_to_exclude": [
    "module",
    "function",
    "builtin_function_or_method",
    "instance",
    "_Feature"
   ],
   "window_display": false
  }
 },
 "nbformat": 4,
 "nbformat_minor": 5
}
