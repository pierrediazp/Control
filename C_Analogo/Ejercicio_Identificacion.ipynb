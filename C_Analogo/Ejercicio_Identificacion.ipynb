{
 "cells": [
  {
   "cell_type": "code",
   "execution_count": 1,
   "id": "c805950a",
   "metadata": {},
   "outputs": [],
   "source": [
    "# Importe módulos y defina funciones"
   ]
  },
  {
   "cell_type": "markdown",
   "id": "f7a4aaf8",
   "metadata": {},
   "source": [
    "# Ejercicio de identificación de sistemas\n",
    "**Nombres**\n",
    "\n"
   ]
  },
  {
   "cell_type": "markdown",
   "id": "192eebff",
   "metadata": {},
   "source": [
    "A menudo debe realizar experimentos sobre los procesos que va a controlar para obtener datos útiles que conlleven a modelos apropiados para los sistemas. Los datos de estos experimentos se guardan en forma de tablas para posterior análisis.\n",
    "\n",
    "Esta vez se dispone de un modelo en OpenModelica en el archivo `ResistTemp` que puede simularse para generar una tabla de datos.\n",
    "\n",
    "Una tabla de datos generada por el modelo se encuentra en el archivo `DatosResistTemp.csv`."
   ]
  },
  {
   "cell_type": "markdown",
   "id": "b31dcdec",
   "metadata": {},
   "source": [
    "1. Explore la tabla y describa su contenido."
   ]
  },
  {
   "cell_type": "markdown",
   "id": "69820d98",
   "metadata": {},
   "source": [
    "Respuesta\n",
    "\n"
   ]
  },
  {
   "cell_type": "markdown",
   "id": "136cfde4",
   "metadata": {},
   "source": [
    "2. Usando el módulo `pandas`, lea el contenido de la tabla."
   ]
  },
  {
   "cell_type": "code",
   "execution_count": 8,
   "id": "0c8d453f",
   "metadata": {},
   "outputs": [
    {
     "data": {
      "text/html": [
       "<div>\n",
       "<style scoped>\n",
       "    .dataframe tbody tr th:only-of-type {\n",
       "        vertical-align: middle;\n",
       "    }\n",
       "\n",
       "    .dataframe tbody tr th {\n",
       "        vertical-align: top;\n",
       "    }\n",
       "\n",
       "    .dataframe thead th {\n",
       "        text-align: right;\n",
       "    }\n",
       "</style>\n",
       "<table border=\"1\" class=\"dataframe\">\n",
       "  <thead>\n",
       "    <tr style=\"text-align: right;\">\n",
       "      <th></th>\n",
       "      <th>time</th>\n",
       "      <th>heatCapacitor.T</th>\n",
       "      <th>stepV.V</th>\n",
       "      <th>stepV.i</th>\n",
       "      <th>temperatureSensor.T</th>\n",
       "    </tr>\n",
       "  </thead>\n",
       "  <tbody>\n",
       "    <tr>\n",
       "      <th>0</th>\n",
       "      <td>0.0</td>\n",
       "      <td>300.000000</td>\n",
       "      <td>50</td>\n",
       "      <td>0.000000</td>\n",
       "      <td>26.850000</td>\n",
       "    </tr>\n",
       "    <tr>\n",
       "      <th>1</th>\n",
       "      <td>1.0</td>\n",
       "      <td>300.000000</td>\n",
       "      <td>50</td>\n",
       "      <td>0.000000</td>\n",
       "      <td>26.850000</td>\n",
       "    </tr>\n",
       "    <tr>\n",
       "      <th>2</th>\n",
       "      <td>2.0</td>\n",
       "      <td>300.000000</td>\n",
       "      <td>50</td>\n",
       "      <td>0.000000</td>\n",
       "      <td>26.850000</td>\n",
       "    </tr>\n",
       "    <tr>\n",
       "      <th>3</th>\n",
       "      <td>3.0</td>\n",
       "      <td>300.000000</td>\n",
       "      <td>50</td>\n",
       "      <td>0.000000</td>\n",
       "      <td>26.850000</td>\n",
       "    </tr>\n",
       "    <tr>\n",
       "      <th>4</th>\n",
       "      <td>4.0</td>\n",
       "      <td>300.000000</td>\n",
       "      <td>50</td>\n",
       "      <td>0.000000</td>\n",
       "      <td>26.850000</td>\n",
       "    </tr>\n",
       "    <tr>\n",
       "      <th>...</th>\n",
       "      <td>...</td>\n",
       "      <td>...</td>\n",
       "      <td>...</td>\n",
       "      <td>...</td>\n",
       "      <td>...</td>\n",
       "    </tr>\n",
       "    <tr>\n",
       "      <th>99</th>\n",
       "      <td>97.0</td>\n",
       "      <td>978.173944</td>\n",
       "      <td>50</td>\n",
       "      <td>-1.356348</td>\n",
       "      <td>705.023944</td>\n",
       "    </tr>\n",
       "    <tr>\n",
       "      <th>100</th>\n",
       "      <td>98.0</td>\n",
       "      <td>978.173970</td>\n",
       "      <td>50</td>\n",
       "      <td>-1.356348</td>\n",
       "      <td>705.023970</td>\n",
       "    </tr>\n",
       "    <tr>\n",
       "      <th>101</th>\n",
       "      <td>99.0</td>\n",
       "      <td>978.173995</td>\n",
       "      <td>50</td>\n",
       "      <td>-1.356348</td>\n",
       "      <td>705.023995</td>\n",
       "    </tr>\n",
       "    <tr>\n",
       "      <th>102</th>\n",
       "      <td>100.0</td>\n",
       "      <td>978.174022</td>\n",
       "      <td>50</td>\n",
       "      <td>-1.356348</td>\n",
       "      <td>705.024022</td>\n",
       "    </tr>\n",
       "    <tr>\n",
       "      <th>103</th>\n",
       "      <td>100.0</td>\n",
       "      <td>978.174022</td>\n",
       "      <td>50</td>\n",
       "      <td>-1.356348</td>\n",
       "      <td>705.024022</td>\n",
       "    </tr>\n",
       "  </tbody>\n",
       "</table>\n",
       "<p>104 rows × 5 columns</p>\n",
       "</div>"
      ],
      "text/plain": [
       "      time  heatCapacitor.T  stepV.V   stepV.i  temperatureSensor.T\n",
       "0      0.0       300.000000       50  0.000000            26.850000\n",
       "1      1.0       300.000000       50  0.000000            26.850000\n",
       "2      2.0       300.000000       50  0.000000            26.850000\n",
       "3      3.0       300.000000       50  0.000000            26.850000\n",
       "4      4.0       300.000000       50  0.000000            26.850000\n",
       "..     ...              ...      ...       ...                  ...\n",
       "99    97.0       978.173944       50 -1.356348           705.023944\n",
       "100   98.0       978.173970       50 -1.356348           705.023970\n",
       "101   99.0       978.173995       50 -1.356348           705.023995\n",
       "102  100.0       978.174022       50 -1.356348           705.024022\n",
       "103  100.0       978.174022       50 -1.356348           705.024022\n",
       "\n",
       "[104 rows x 5 columns]"
      ]
     },
     "execution_count": 8,
     "metadata": {},
     "output_type": "execute_result"
    }
   ],
   "source": [
    "# Escriba su codigo\n",
    "import pandas as pd\n",
    "a = pd.read_csv('Datos\\DatosResistTemp.csv')\n",
    "a"
   ]
  },
  {
   "cell_type": "markdown",
   "id": "44142bc1",
   "metadata": {},
   "source": [
    "3. Genere y analice las gráficas correspondientes a las señales de entrada y salida."
   ]
  },
  {
   "cell_type": "code",
   "execution_count": 3,
   "id": "5dd1f8ca",
   "metadata": {},
   "outputs": [],
   "source": [
    "# Su código"
   ]
  },
  {
   "cell_type": "markdown",
   "id": "940bfb19",
   "metadata": {},
   "source": [
    "Su análisis"
   ]
  },
  {
   "cell_type": "markdown",
   "id": "a4efa13e",
   "metadata": {},
   "source": [
    "4. Encuentre un modelo para el sistema explicando el procedimiento."
   ]
  },
  {
   "cell_type": "code",
   "execution_count": 4,
   "id": "c41437fe",
   "metadata": {},
   "outputs": [],
   "source": [
    "# Su código"
   ]
  },
  {
   "cell_type": "markdown",
   "id": "04774b2c",
   "metadata": {},
   "source": [
    "Su análisis"
   ]
  },
  {
   "cell_type": "markdown",
   "id": "4d3ff71a",
   "metadata": {},
   "source": [
    "5. Genere y analice las gráficas de polos y ceros y de respuesta temporal del sistema."
   ]
  },
  {
   "cell_type": "code",
   "execution_count": 5,
   "id": "0e686237",
   "metadata": {},
   "outputs": [],
   "source": [
    "# Su código"
   ]
  },
  {
   "cell_type": "markdown",
   "id": "7eae6855",
   "metadata": {},
   "source": [
    "Su análisis"
   ]
  },
  {
   "cell_type": "markdown",
   "id": "e73170dc",
   "metadata": {},
   "source": [
    "6. Conclusiones"
   ]
  }
 ],
 "metadata": {
  "kernelspec": {
   "display_name": "Python 3",
   "language": "python",
   "name": "python3"
  },
  "language_info": {
   "codemirror_mode": {
    "name": "ipython",
    "version": 3
   },
   "file_extension": ".py",
   "mimetype": "text/x-python",
   "name": "python",
   "nbconvert_exporter": "python",
   "pygments_lexer": "ipython3",
   "version": "3.7.3"
  },
  "latex_envs": {
   "LaTeX_envs_menu_present": true,
   "autoclose": false,
   "autocomplete": true,
   "bibliofile": "biblio.bib",
   "cite_by": "apalike",
   "current_citInitial": 1,
   "eqLabelWithNumbers": true,
   "eqNumInitial": 0,
   "hotkeys": {
    "equation": "Ctrl-E",
    "itemize": "Ctrl-I"
   },
   "labels_anchors": false,
   "latex_user_defs": false,
   "report_style_numbering": false,
   "user_envs_cfg": false
  },
  "toc": {
   "base_numbering": 1,
   "nav_menu": {},
   "number_sections": true,
   "sideBar": true,
   "skip_h1_title": false,
   "title_cell": "Table of Contents",
   "title_sidebar": "Contents",
   "toc_cell": false,
   "toc_position": {},
   "toc_section_display": true,
   "toc_window_display": false
  },
  "varInspector": {
   "cols": {
    "lenName": 16,
    "lenType": 16,
    "lenVar": 40
   },
   "kernels_config": {
    "python": {
     "delete_cmd_postfix": "",
     "delete_cmd_prefix": "del ",
     "library": "var_list.py",
     "varRefreshCmd": "print(var_dic_list())"
    },
    "r": {
     "delete_cmd_postfix": ") ",
     "delete_cmd_prefix": "rm(",
     "library": "var_list.r",
     "varRefreshCmd": "cat(var_dic_list()) "
    }
   },
   "types_to_exclude": [
    "module",
    "function",
    "builtin_function_or_method",
    "instance",
    "_Feature"
   ],
   "window_display": false
  }
 },
 "nbformat": 4,
 "nbformat_minor": 5
}
