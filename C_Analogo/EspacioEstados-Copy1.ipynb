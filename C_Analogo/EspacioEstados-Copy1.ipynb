{
 "cells": [
  {
   "cell_type": "markdown",
   "id": "6ba19bd4",
   "metadata": {},
   "source": [
    "#  Espacio de estados\n",
    "\n",
    "Hasta el momento se han analizado sistemas lineales e invariantes en el tiempo, de una entrada y una salida en el dominio de la frecuencia. La representación en espacio de estados permite modelar y analizar sistemas con múltiples entradas y salidas, tanto para sistemas lineales como no lineales.\n",
    "\n",
    "Un modelo en espacio de estados de un sistema físico describe relaciones entre entradas, salidas y variables de estado relacionadas por ecuaciones diferenciales de orden $n$ en el dominio del tiempo. Estas ecuaciones se compactan en una ecuación diferencial matricial de primer orden. Las variables de entradas, salidas y estados son expresadas como vectores, y si es un sistema LTI, las ecuaciones se escriben matricialmente. \n",
    "\n"
   ]
  },
  {
   "cell_type": "markdown",
   "id": "0885cad6",
   "metadata": {},
   "source": [
    "La función de transferencia de un sistema cuya entrada es una señal $u$ y cuya salida es $y$ de un sistema corresponde a $\\frac{U(s)}{y(s)}$.\n",
    "\n",
    "Su representación en espacio de estados se muestra en el siguiente diagrama.\n",
    "\n",
    "![EspacioEstados](figuras/EspacioEstadosDiagrama.png)"
   ]
  },
  {
   "cell_type": "markdown",
   "id": "ff4d672c",
   "metadata": {},
   "source": [
    "- La entrada $u$ puede tener un efecto directo sobre la salida a través de $D$.\n",
    "- $X$ es un vector de señales internas del sistema.\n",
    "- $\\dot{X}$ es el vector de derivadas de $X$.\n",
    "- $u$ altera la derivada de $X$ a través de $B$.\n",
    "- $X$ realimenta a sus derivadas a través de $A$.\n",
    "- $X$ envía información desde el estado hacia la salida $y$ a través de $C$.\n",
    "\n",
    "$$\\dot{X} = A \\cdot X + B \\cdot u $$\n",
    "$$y =  C \\cdot X +  D \\cdot u $$"
   ]
  },
  {
   "cell_type": "code",
   "execution_count": null,
   "id": "1041e3b3",
   "metadata": {},
   "outputs": [],
   "source": []
  }
 ],
 "metadata": {
  "kernelspec": {
   "display_name": "Python 3",
   "language": "python",
   "name": "python3"
  },
  "language_info": {
   "codemirror_mode": {
    "name": "ipython",
    "version": 3
   },
   "file_extension": ".py",
   "mimetype": "text/x-python",
   "name": "python",
   "nbconvert_exporter": "python",
   "pygments_lexer": "ipython3",
   "version": "3.7.3"
  },
  "latex_envs": {
   "bibliofile": "biblio.bib",
   "cite_by": "apalike",
   "current_citInitial": 1,
   "eqLabelWithNumbers": true,
   "eqNumInitial": 0
  }
 },
 "nbformat": 4,
 "nbformat_minor": 5
}
