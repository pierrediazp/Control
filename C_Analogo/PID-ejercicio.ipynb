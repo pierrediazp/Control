{
 "cells": [
  {
   "cell_type": "code",
   "execution_count": 1,
   "id": "fad5d79f",
   "metadata": {},
   "outputs": [],
   "source": [
    "import pandas as pd\n",
    "import sympy as sym\n",
    "sym.init_printing()\n",
    "%matplotlib inline\n",
    "\n",
    "import numpy as np\n",
    "import matplotlib.pyplot as plt\n",
    "import control"
   ]
  },
  {
   "cell_type": "markdown",
   "id": "a4a2f425",
   "metadata": {},
   "source": [
    "# Tarea: Controladores PID\n",
    "**Nombre completo**:\n",
    "\n",
    "*Fulano de Tal*"
   ]
  },
  {
   "cell_type": "markdown",
   "id": "760f6b15",
   "metadata": {},
   "source": [
    "Analice la [documentación](http://ftp.esat.kuleuven.be/pub/SISTA/data/process_industry/distill2.txt) y explore los [Datos](https://ftp.esat.kuleuven.be/pub/SISTA/data/process_industry/distill2.dat.gz) del sistema distill2. Puede encontrar más datos y descripciones [aquí](http://ftp.esat.kuleuven.be/pub/SISTA/data/process_industry/)"
   ]
  },
  {
   "cell_type": "markdown",
   "id": "1d3a076c",
   "metadata": {},
   "source": [
    "1. Grafique la respuesta experimental del sistema ante un escalón unitario. Para el ejercicio, seleccione la combinación U2Y2."
   ]
  },
  {
   "cell_type": "code",
   "execution_count": 5,
   "id": "74558c0b",
   "metadata": {},
   "outputs": [
    {
     "data": {
      "text/html": [
       "<div>\n",
       "<style scoped>\n",
       "    .dataframe tbody tr th:only-of-type {\n",
       "        vertical-align: middle;\n",
       "    }\n",
       "\n",
       "    .dataframe tbody tr th {\n",
       "        vertical-align: top;\n",
       "    }\n",
       "\n",
       "    .dataframe thead th {\n",
       "        text-align: right;\n",
       "    }\n",
       "</style>\n",
       "<table border=\"1\" class=\"dataframe\">\n",
       "  <thead>\n",
       "    <tr style=\"text-align: right;\">\n",
       "      <th></th>\n",
       "      <th>muestra</th>\n",
       "      <th>U1Y1</th>\n",
       "      <th>U1Y2</th>\n",
       "      <th>U2Y1</th>\n",
       "      <th>U2Y2</th>\n",
       "      <th>U3Y1</th>\n",
       "      <th>U3Y2</th>\n",
       "      <th>Tiempo</th>\n",
       "    </tr>\n",
       "  </thead>\n",
       "  <tbody>\n",
       "    <tr>\n",
       "      <th>0</th>\n",
       "      <td>0.0</td>\n",
       "      <td>23994.627</td>\n",
       "      <td>0.286914</td>\n",
       "      <td>11997.313</td>\n",
       "      <td>0.143457</td>\n",
       "      <td>119973.13</td>\n",
       "      <td>1.434570</td>\n",
       "      <td>0.0</td>\n",
       "    </tr>\n",
       "    <tr>\n",
       "      <th>1</th>\n",
       "      <td>1.0</td>\n",
       "      <td>24053.918</td>\n",
       "      <td>0.286621</td>\n",
       "      <td>11997.198</td>\n",
       "      <td>0.143456</td>\n",
       "      <td>111867.33</td>\n",
       "      <td>1.434685</td>\n",
       "      <td>10.0</td>\n",
       "    </tr>\n",
       "    <tr>\n",
       "      <th>2</th>\n",
       "      <td>2.0</td>\n",
       "      <td>24112.949</td>\n",
       "      <td>0.286418</td>\n",
       "      <td>11997.277</td>\n",
       "      <td>0.143456</td>\n",
       "      <td>113268.28</td>\n",
       "      <td>1.434935</td>\n",
       "      <td>20.0</td>\n",
       "    </tr>\n",
       "    <tr>\n",
       "      <th>3</th>\n",
       "      <td>3.0</td>\n",
       "      <td>24160.061</td>\n",
       "      <td>0.286233</td>\n",
       "      <td>12001.153</td>\n",
       "      <td>0.143456</td>\n",
       "      <td>114406.39</td>\n",
       "      <td>1.435295</td>\n",
       "      <td>30.0</td>\n",
       "    </tr>\n",
       "    <tr>\n",
       "      <th>4</th>\n",
       "      <td>4.0</td>\n",
       "      <td>24199.354</td>\n",
       "      <td>0.286065</td>\n",
       "      <td>12018.717</td>\n",
       "      <td>0.143458</td>\n",
       "      <td>115246.62</td>\n",
       "      <td>1.435780</td>\n",
       "      <td>40.0</td>\n",
       "    </tr>\n",
       "    <tr>\n",
       "      <th>...</th>\n",
       "      <td>...</td>\n",
       "      <td>...</td>\n",
       "      <td>...</td>\n",
       "      <td>...</td>\n",
       "      <td>...</td>\n",
       "      <td>...</td>\n",
       "      <td>...</td>\n",
       "      <td>...</td>\n",
       "    </tr>\n",
       "    <tr>\n",
       "      <th>246</th>\n",
       "      <td>246.0</td>\n",
       "      <td>24230.738</td>\n",
       "      <td>0.285284</td>\n",
       "      <td>12144.111</td>\n",
       "      <td>0.142197</td>\n",
       "      <td>118782.15</td>\n",
       "      <td>1.443800</td>\n",
       "      <td>2460.0</td>\n",
       "    </tr>\n",
       "    <tr>\n",
       "      <th>247</th>\n",
       "      <td>247.0</td>\n",
       "      <td>24231.014</td>\n",
       "      <td>0.285286</td>\n",
       "      <td>12144.250</td>\n",
       "      <td>0.142196</td>\n",
       "      <td>118781.67</td>\n",
       "      <td>1.443795</td>\n",
       "      <td>2470.0</td>\n",
       "    </tr>\n",
       "    <tr>\n",
       "      <th>248</th>\n",
       "      <td>248.0</td>\n",
       "      <td>24231.059</td>\n",
       "      <td>0.285289</td>\n",
       "      <td>12144.404</td>\n",
       "      <td>0.142196</td>\n",
       "      <td>118781.20</td>\n",
       "      <td>1.443795</td>\n",
       "      <td>2480.0</td>\n",
       "    </tr>\n",
       "    <tr>\n",
       "      <th>249</th>\n",
       "      <td>249.0</td>\n",
       "      <td>24230.379</td>\n",
       "      <td>0.285291</td>\n",
       "      <td>12144.506</td>\n",
       "      <td>0.142195</td>\n",
       "      <td>118786.91</td>\n",
       "      <td>1.443795</td>\n",
       "      <td>2490.0</td>\n",
       "    </tr>\n",
       "    <tr>\n",
       "      <th>250</th>\n",
       "      <td>250.0</td>\n",
       "      <td>24230.096</td>\n",
       "      <td>0.285294</td>\n",
       "      <td>12144.476</td>\n",
       "      <td>0.142195</td>\n",
       "      <td>118792.21</td>\n",
       "      <td>1.443795</td>\n",
       "      <td>2500.0</td>\n",
       "    </tr>\n",
       "  </tbody>\n",
       "</table>\n",
       "<p>251 rows × 8 columns</p>\n",
       "</div>"
      ],
      "text/plain": [
       "     muestra       U1Y1      U1Y2       U2Y1      U2Y2       U3Y1      U3Y2  \\\n",
       "0        0.0  23994.627  0.286914  11997.313  0.143457  119973.13  1.434570   \n",
       "1        1.0  24053.918  0.286621  11997.198  0.143456  111867.33  1.434685   \n",
       "2        2.0  24112.949  0.286418  11997.277  0.143456  113268.28  1.434935   \n",
       "3        3.0  24160.061  0.286233  12001.153  0.143456  114406.39  1.435295   \n",
       "4        4.0  24199.354  0.286065  12018.717  0.143458  115246.62  1.435780   \n",
       "..       ...        ...       ...        ...       ...        ...       ...   \n",
       "246    246.0  24230.738  0.285284  12144.111  0.142197  118782.15  1.443800   \n",
       "247    247.0  24231.014  0.285286  12144.250  0.142196  118781.67  1.443795   \n",
       "248    248.0  24231.059  0.285289  12144.404  0.142196  118781.20  1.443795   \n",
       "249    249.0  24230.379  0.285291  12144.506  0.142195  118786.91  1.443795   \n",
       "250    250.0  24230.096  0.285294  12144.476  0.142195  118792.21  1.443795   \n",
       "\n",
       "     Tiempo  \n",
       "0       0.0  \n",
       "1      10.0  \n",
       "2      20.0  \n",
       "3      30.0  \n",
       "4      40.0  \n",
       "..      ...  \n",
       "246  2460.0  \n",
       "247  2470.0  \n",
       "248  2480.0  \n",
       "249  2490.0  \n",
       "250  2500.0  \n",
       "\n",
       "[251 rows x 8 columns]"
      ]
     },
     "execution_count": 5,
     "metadata": {},
     "output_type": "execute_result"
    }
   ],
   "source": [
    "datos = pd.read_csv(\"Datos/distill2.dat\",\n",
    "                    sep=\"\\s+\",\n",
    "                    header = None,\n",
    "                    names=['muestra',\n",
    "                           'U1Y1',\n",
    "                           'U1Y2',\n",
    "                           'U2Y1',\n",
    "                           'U2Y2',\n",
    "                           'U3Y1',\n",
    "                           'U3Y2',\n",
    "                           ])\n",
    "datos[\"Tiempo\"] = datos[\"muestra\"] * 10\n",
    "datos"
   ]
  },
  {
   "cell_type": "code",
   "execution_count": 9,
   "id": "e3041907",
   "metadata": {},
   "outputs": [
    {
     "name": "stderr",
     "output_type": "stream",
     "text": [
      "C:\\Users\\Usuario\\.conda\\envs\\SistDin\\lib\\site-packages\\matplotlib\\cbook\\__init__.py:1402: FutureWarning: Support for multi-dimensional indexing (e.g. `obj[:, None]`) is deprecated and will be removed in a future version.  Convert to a numpy array before indexing instead.\n",
      "  x[:, None]\n",
      "C:\\Users\\Usuario\\.conda\\envs\\SistDin\\lib\\site-packages\\matplotlib\\axes\\_base.py:276: FutureWarning: Support for multi-dimensional indexing (e.g. `obj[:, None]`) is deprecated and will be removed in a future version.  Convert to a numpy array before indexing instead.\n",
      "  x = x[:, np.newaxis]\n",
      "C:\\Users\\Usuario\\.conda\\envs\\SistDin\\lib\\site-packages\\matplotlib\\axes\\_base.py:278: FutureWarning: Support for multi-dimensional indexing (e.g. `obj[:, None]`) is deprecated and will be removed in a future version.  Convert to a numpy array before indexing instead.\n",
      "  y = y[:, np.newaxis]\n"
     ]
    },
    {
     "data": {
      "image/png": "[encoded data removed]",
      "text/plain": [
       "<Figure size 432x288 with 1 Axes>"
      ]
     },
     "metadata": {
      "needs_background": "light"
     },
     "output_type": "display_data"
    }
   ],
   "source": [
    "plt.plot(datos[\"Tiempo\"],datos[\"U2Y2\"])\n",
    "plt.xlabel('tiempo [s]')\n",
    "plt.ylabel('Amplitud')\n",
    "\n",
    "plt.grid()"
   ]
  },
  {
   "cell_type": "code",
   "execution_count": 3,
   "id": "1cc4960f",
   "metadata": {},
   "outputs": [],
   "source": [
    "\n",
    "num = -0.00125\n",
    "den = []\n"
   ]
  },
  {
   "cell_type": "markdown",
   "id": "714aa81c",
   "metadata": {},
   "source": [
    "--------\n",
    "2. Encuentre un modelo apropiado para el sistema."
   ]
  },
  {
   "cell_type": "code",
   "execution_count": 4,
   "id": "8e62c499",
   "metadata": {},
   "outputs": [],
   "source": [
    "# Escriba su código\n",
    "\n"
   ]
  },
  {
   "cell_type": "markdown",
   "id": "af6f0f9c",
   "metadata": {},
   "source": [
    "Describa sus procedimientos y respuestas."
   ]
  },
  {
   "cell_type": "markdown",
   "id": "f0c0914a",
   "metadata": {},
   "source": [
    "--------"
   ]
  },
  {
   "cell_type": "markdown",
   "id": "5d506f63",
   "metadata": {},
   "source": [
    "3. Método directo\n",
    "\n",
    "A. Determine los parámetros relacionados con el comportamiento deseado para el sistema controlado."
   ]
  },
  {
   "cell_type": "code",
   "execution_count": 5,
   "id": "5b5e9a9b",
   "metadata": {},
   "outputs": [],
   "source": [
    "# Escriba su código\n",
    "\n"
   ]
  },
  {
   "cell_type": "markdown",
   "id": "4251805c",
   "metadata": {},
   "source": [
    "Describa sus procedimientos y respuestas."
   ]
  },
  {
   "cell_type": "code",
   "execution_count": null,
   "id": "9d451c09",
   "metadata": {},
   "outputs": [],
   "source": []
  },
  {
   "cell_type": "markdown",
   "id": "d5276317",
   "metadata": {},
   "source": [
    "B. Encuentre un controlador PID para cumplir los requerimientos."
   ]
  },
  {
   "cell_type": "code",
   "execution_count": 6,
   "id": "b0a7414f",
   "metadata": {},
   "outputs": [],
   "source": [
    "# Escriba su código\n",
    "\n"
   ]
  },
  {
   "cell_type": "markdown",
   "id": "86277087",
   "metadata": {},
   "source": [
    "Describa sus procedimientos y respuestas."
   ]
  },
  {
   "cell_type": "code",
   "execution_count": null,
   "id": "9a7a2f1a",
   "metadata": {},
   "outputs": [],
   "source": []
  },
  {
   "cell_type": "markdown",
   "id": "8b4c956d",
   "metadata": {},
   "source": [
    "C. Simule el compotamiento del sistema controlado y compare con el del sistema sin compensación."
   ]
  },
  {
   "cell_type": "code",
   "execution_count": 7,
   "id": "a168b5d3",
   "metadata": {},
   "outputs": [],
   "source": [
    "# Escriba su código\n",
    "\n"
   ]
  },
  {
   "cell_type": "markdown",
   "id": "a48e9614",
   "metadata": {},
   "source": [
    "Describa sus procedimientos y respuestas."
   ]
  },
  {
   "cell_type": "code",
   "execution_count": null,
   "id": "6204f25f",
   "metadata": {},
   "outputs": [],
   "source": []
  },
  {
   "cell_type": "markdown",
   "id": "21bea207",
   "metadata": {},
   "source": [
    "---------"
   ]
  },
  {
   "cell_type": "markdown",
   "id": "e00ca933",
   "metadata": {},
   "source": [
    "5. Método basado en criterios de optimización\n",
    "\n",
    "A. Determine los parámetros relacionados con el comportamiento deseado para el sistema controlado."
   ]
  },
  {
   "cell_type": "code",
   "execution_count": 8,
   "id": "5212446e",
   "metadata": {},
   "outputs": [],
   "source": [
    "# Escriba su código\n",
    "\n"
   ]
  },
  {
   "cell_type": "markdown",
   "id": "77bc3d09",
   "metadata": {},
   "source": [
    "Describa sus procedimientos y respuestas."
   ]
  },
  {
   "cell_type": "code",
   "execution_count": null,
   "id": "4b46dbc8",
   "metadata": {},
   "outputs": [],
   "source": []
  },
  {
   "cell_type": "markdown",
   "id": "7a3dfd34",
   "metadata": {},
   "source": [
    "B. Encuentre un controlador PID para cumplir los requerimientos."
   ]
  },
  {
   "cell_type": "code",
   "execution_count": 9,
   "id": "611c6841",
   "metadata": {},
   "outputs": [],
   "source": [
    "# Escriba su código\n",
    "\n"
   ]
  },
  {
   "cell_type": "markdown",
   "id": "92861bae",
   "metadata": {},
   "source": [
    "Describa sus procedimientos y respuestas."
   ]
  },
  {
   "cell_type": "code",
   "execution_count": null,
   "id": "e688236d",
   "metadata": {},
   "outputs": [],
   "source": []
  },
  {
   "cell_type": "markdown",
   "id": "fc4e516a",
   "metadata": {},
   "source": [
    "C. Simule el compotamiento del sistema controlado y compare con el del sistema sin compensación."
   ]
  },
  {
   "cell_type": "code",
   "execution_count": 10,
   "id": "29a74694",
   "metadata": {},
   "outputs": [],
   "source": [
    "# Escriba su código\n",
    "\n"
   ]
  },
  {
   "cell_type": "markdown",
   "id": "db60afaf",
   "metadata": {},
   "source": [
    "Describa sus procedimientos y respuestas."
   ]
  },
  {
   "cell_type": "markdown",
   "id": "c28757a7",
   "metadata": {},
   "source": [
    "--------"
   ]
  },
  {
   "cell_type": "markdown",
   "id": "99ffc873",
   "metadata": {},
   "source": [
    "6. Conclusiones\n",
    "- conclusión 1.\n",
    "- conclusión 2."
   ]
  },
  {
   "cell_type": "code",
   "execution_count": 20,
   "id": "b4944933",
   "metadata": {},
   "outputs": [
    {
     "data": {
      "text/latex": [
       "$$\\frac{-5 s + 8.333}{3.452 s^2 + 6.754 s + 1.667}$$"
      ],
      "text/plain": [
       "TransferFunction(array([-5.        ,  8.33333333]), array([3.45214   , 6.75356667, 1.66666667]))"
      ]
     },
     "execution_count": 20,
     "metadata": {},
     "output_type": "execute_result"
    }
   ],
   "source": [
    "num = [5]\n",
    "den = [3.45214,1]\n",
    "tm = 1.2\n",
    "\n",
    "G = control.tf(num,den)\n",
    "G\n",
    "tm_num,tm_den = control.pade(tm,n=1)\n",
    "tm_pade =control.tf(tm_num,tm_den)\n",
    "tm_pade\n",
    "Gtm = G*tm_pade\n",
    "Gtm"
   ]
  },
  {
   "cell_type": "code",
   "execution_count": 21,
   "id": "0c4d95f2",
   "metadata": {},
   "outputs": [],
   "source": [
    "\n",
    "t,Gstep = control.step_response(G)\n",
    "t,Gtmstep = control.step_response(Gtm,t)"
   ]
  },
  {
   "cell_type": "code",
   "execution_count": 22,
   "id": "0186a738",
   "metadata": {},
   "outputs": [
    {
     "data": {
      "text/plain": [
       "[<matplotlib.lines.Line2D at 0x1525a391080>,\n",
       " <matplotlib.lines.Line2D at 0x1525a3911d0>]"
      ]
     },
     "execution_count": 22,
     "metadata": {},
     "output_type": "execute_result"
    },
    {
     "data": {
      "image/png": "[encoded data removed]",
      "text/plain": [
       "<Figure size 432x288 with 1 Axes>"
      ]
     },
     "metadata": {
      "needs_background": "light"
     },
     "output_type": "display_data"
    }
   ],
   "source": [
    "plt.plot(t,Gstep,t,Gtmstep)"
   ]
  },
  {
   "cell_type": "code",
   "execution_count": null,
   "id": "eca68800",
   "metadata": {},
   "outputs": [],
   "source": []
  }
 ],
 "metadata": {
  "kernelspec": {
   "display_name": "Python 3",
   "language": "python",
   "name": "python3"
  },
  "language_info": {
   "codemirror_mode": {
    "name": "ipython",
    "version": 3
   },
   "file_extension": ".py",
   "mimetype": "text/x-python",
   "name": "python",
   "nbconvert_exporter": "python",
   "pygments_lexer": "ipython3",
   "version": "3.7.3"
  },
  "latex_envs": {
   "LaTeX_envs_menu_present": true,
   "autoclose": false,
   "autocomplete": true,
   "bibliofile": "biblio.bib",
   "cite_by": "apalike",
   "current_citInitial": 1,
   "eqLabelWithNumbers": true,
   "eqNumInitial": 0,
   "hotkeys": {
    "equation": "Ctrl-E",
    "itemize": "Ctrl-I"
   },
   "labels_anchors": false,
   "latex_user_defs": false,
   "report_style_numbering": false,
   "user_envs_cfg": false
  },
  "varInspector": {
   "cols": {
    "lenName": 16,
    "lenType": 16,
    "lenVar": 40
   },
   "kernels_config": {
    "python": {
     "delete_cmd_postfix": "",
     "delete_cmd_prefix": "del ",
     "library": "var_list.py",
     "varRefreshCmd": "print(var_dic_list())"
    },
    "r": {
     "delete_cmd_postfix": ") ",
     "delete_cmd_prefix": "rm(",
     "library": "var_list.r",
     "varRefreshCmd": "cat(var_dic_list()) "
    }
   },
   "types_to_exclude": [
    "module",
    "function",
    "builtin_function_or_method",
    "instance",
    "_Feature"
   ],
   "window_display": false
  }
 },
 "nbformat": 4,
 "nbformat_minor": 5
}
