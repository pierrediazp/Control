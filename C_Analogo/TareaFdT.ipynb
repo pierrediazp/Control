{
 "cells": [
  {
   "cell_type": "code",
   "execution_count": 1,
   "metadata": {},
   "outputs": [],
   "source": [
    "# Aquí van las librerías y funciones que va a usar\n",
    "\n",
    "\n",
    "import matplotlib.pyplot as plt\n",
    "import sympy as sym\n",
    "%matplotlib inline\n",
    "sym.init_printing()\n",
    "\n",
    "#!pip install control\n",
    "import control\n",
    "\n",
    "## Puede que requiera incorporar más librerías o definir nuevas funciones.  Hágalo a continuación\n"
   ]
  },
  {
   "cell_type": "markdown",
   "metadata": {},
   "source": [
    "# Tarea\n",
    "\n",
    "Nombres: **Ponga aquí sus nombres completos**"
   ]
  },
  {
   "cell_type": "markdown",
   "metadata": {},
   "source": [
    "Suponga que tiene un sistema de tiempo continuo que se excita con una entrada $x(t)$ y responde con una señal $y(t)$, como lo muestra la figura:\n",
    "\n",
    "![Diagrama de un bloque](figuras\\bloque_tiempo.png)\n",
    "\n",
    "Analice el modelo del sistema para los modelos en cada uno de los casos siguientes:"
   ]
  },
  {
   "cell_type": "markdown",
   "metadata": {},
   "source": [
    "|Caso  |       Ecuación                                               |\n",
    "|------|--------------------------------------------------------------|\n",
    "| A    | $$ \\frac{dy}{dt} + 5y(t) = 5x(t) $$                          |\n",
    "| B    | $$ \\frac{dy}{dt} + 2y(t) = 5x(t) $$                          |\n",
    "| C    | $$ \\frac{dy}{dt} + y(t) = 5x(t) $$                           |\n",
    "| D    | $$ \\frac{dy}{dt} + 0.5y(t) = 5x(t) $$                        |\n",
    "| E    | $$ \\frac{dy}{dt} + 0.1y(t) = 5x(t) $$                        |\n",
    "| F    | $$ \\frac{d^{2}y}{dt^{2}} + 5\\frac{dy}{dt} + y(t) = x(t) $$   |\n",
    "| G    | $$ \\frac{d^{2}y}{dt^{2}} + 2\\frac{dy}{dt} + y(t) = x(t) $$   |\n",
    "| H    | $$ \\frac{d^{2}y}{dt^{2}} + 1\\frac{dy}{dt} + y(t) = x(t) $$   |\n",
    "| I    | $$ \\frac{d^{2}y}{dt^{2}} + 0.25\\frac{dy}{dt} + y(t) = x(t) $$|\n",
    "| J    | $$ \\frac{d^{2}y}{dt^{2}} + y(t) = x(t) $$                    |\n"
   ]
  },
  {
   "cell_type": "markdown",
   "metadata": {},
   "source": [
    "## Análisis modelo A: $ \\frac{dy}{dt} + 5y(t) = 5x(t) $\n",
    "\n",
    "- Lleve la ecuación diferencial al dominio de las frecuencias usando la transformada de Laplace.\n",
    "$$ EscribaAquíLaEcuaciónTransformada $$\n",
    "\n",
    "- Encuentre la función de transferencia del sistema.\n",
    "\\begin{equation}\n",
    "EscribaAquíLaFunciónDeTransferencia\n",
    "\\end{equation}\n",
    "\n",
    "- Grafique el mapa de polos y ceros\n",
    "\n",
    "- Grafique la respuesta al escalón"
   ]
  },
  {
   "cell_type": "code",
   "execution_count": 2,
   "metadata": {},
   "outputs": [],
   "source": [
    "## Aquí va el código para generar la gráfica pedida. Ejecute el código para generar la gráfica.\n"
   ]
  },
  {
   "cell_type": "markdown",
   "metadata": {},
   "source": [
    "- Analice las gráfica obtenidas, escriba su análisis y determine la estabilidad del sistema y el tipo de amortiguamiento.\n",
    "    - Escriba aquí su discusión.\n",
    "    - Puede usar viñetas o párrafos.\n",
    "    - Conserve las sangrías para facilitar la lectura."
   ]
  },
  {
   "cell_type": "code",
   "execution_count": 3,
   "metadata": {},
   "outputs": [],
   "source": [
    "## Aquí va el código extra que puede requerir para responder a las preguntas."
   ]
  },
  {
   "cell_type": "markdown",
   "metadata": {},
   "source": [
    "## Análisis modelo B: $ \\frac{dy}{dt} + 2y(t) = 5x(t) $\n",
    "\n",
    "- Lleve la ecuación diferencial al dominio de las frecuencias usando la transformada de Laplace.\n",
    "$$ EscribaAquíLaEcuaciónTransformada $$\n",
    "\n",
    "- Encuentre la función de transferencia del sistema.\n",
    "\\begin{equation}\n",
    "EscribaAquíLaFunciónDeTransferencia\n",
    "\\end{equation}\n",
    "\n",
    "- Grafique el mapa de polos y ceros\n",
    "\n",
    "- Grafique la respuesta al escalón"
   ]
  },
  {
   "cell_type": "code",
   "execution_count": 4,
   "metadata": {},
   "outputs": [],
   "source": [
    "## Aquí va el código para generar la gráfica pedida. Ejecute el código para generar la gráfica."
   ]
  },
  {
   "cell_type": "markdown",
   "metadata": {},
   "source": [
    "- Analice las gráfica obtenidas, escriba su análisis y determine la estabilidad del sistema y el tipo de amortiguamiento.\n",
    "    - Escriba aquí su discusión.\n",
    "    - Puede usar viñetas o párrafos.\n",
    "    - Conserve las sangrías para facilitar la lectura."
   ]
  },
  {
   "cell_type": "code",
   "execution_count": 5,
   "metadata": {},
   "outputs": [],
   "source": [
    "## Aquí va el código extra que puede requerir para responder a las preguntas."
   ]
  },
  {
   "cell_type": "markdown",
   "metadata": {},
   "source": [
    "## Análisis modelo C: $ \\frac{dy}{dt} + y(t) = 5x(t) $\n",
    "\n",
    "- Lleve la ecuación diferencial al dominio de las frecuencias usando la transformada de Laplace.\n",
    "$$ EscribaAquíLaEcuaciónTransformada $$\n",
    "\n",
    "- Encuentre la función de transferencia del sistema.\n",
    "\\begin{equation}\n",
    "EscribaAquíLaFunciónDeTransferencia\n",
    "\\end{equation}\n",
    "\n",
    "- Grafique el mapa de polos y ceros\n",
    "\n",
    "- Grafique la respuesta al escalón"
   ]
  },
  {
   "cell_type": "code",
   "execution_count": 6,
   "metadata": {},
   "outputs": [],
   "source": [
    "## Aquí va el código para generar la gráfica pedida. Ejecute el código para generar la gráfica."
   ]
  },
  {
   "cell_type": "markdown",
   "metadata": {},
   "source": [
    "- Analice las gráfica obtenidas, escriba su análisis y determine la estabilidad del sistema y el tipo de amortiguamiento.\n",
    "    - Escriba aquí su discusión.\n",
    "    - Puede usar viñetas o párrafos.\n",
    "    - Conserve las sangrías para facilitar la lectura."
   ]
  },
  {
   "cell_type": "code",
   "execution_count": 7,
   "metadata": {},
   "outputs": [],
   "source": [
    "## Aquí va el código extra que puede requerir para responder a las preguntas."
   ]
  },
  {
   "cell_type": "markdown",
   "metadata": {},
   "source": [
    "## Análisis modelo D: $ \\frac{dy}{dt} + 0.5y(t) = 5x(t) $\n",
    "\n",
    "- Lleve la ecuación diferencial al dominio de las frecuencias usando la transformada de Laplace.\n",
    "$$ EscribaAquíLaEcuaciónTransformada $$\n",
    "\n",
    "- Encuentre la función de transferencia del sistema.\n",
    "\\begin{equation}\n",
    "EscribaAquíLaFunciónDeTransferencia\n",
    "\\end{equation}\n",
    "\n",
    "- Grafique el mapa de polos y ceros\n",
    "\n",
    "- Grafique la respuesta al escalón"
   ]
  },
  {
   "cell_type": "code",
   "execution_count": 8,
   "metadata": {},
   "outputs": [],
   "source": [
    "## Aquí va el código para generar la gráfica pedida. Ejecute el código para generar la gráfica."
   ]
  },
  {
   "cell_type": "markdown",
   "metadata": {},
   "source": [
    "- Analice las gráfica obtenidas, escriba su análisis y determine la estabilidad del sistema y el tipo de amortiguamiento.\n",
    "    - Escriba aquí su discusión.\n",
    "    - Puede usar viñetas o párrafos.\n",
    "    - Conserve las sangrías para facilitar la lectura."
   ]
  },
  {
   "cell_type": "code",
   "execution_count": 9,
   "metadata": {},
   "outputs": [],
   "source": [
    "## Aquí va el código extra que puede requerir para responder a las preguntas."
   ]
  },
  {
   "cell_type": "markdown",
   "metadata": {},
   "source": [
    "## Análisis modelo E: $ \\frac{dy}{dt} + 0.1y(t) = 5x(t) $\n",
    "\n",
    "- Lleve la ecuación diferencial al dominio de las frecuencias usando la transformada de Laplace.\n",
    "$$ EscribaAquíLaEcuaciónTransformada $$\n",
    "\n",
    "- Encuentre la función de transferencia del sistema.\n",
    "\\begin{equation}\n",
    "EscribaAquíLaFunciónDeTransferencia\n",
    "\\end{equation}\n",
    "\n",
    "- Grafique el mapa de polos y ceros\n",
    "\n",
    "- Grafique la respuesta al escalón"
   ]
  },
  {
   "cell_type": "code",
   "execution_count": 10,
   "metadata": {},
   "outputs": [],
   "source": [
    "## Aquí va el código para generar la gráfica pedida. Ejecute el código para generar la gráfica."
   ]
  },
  {
   "cell_type": "markdown",
   "metadata": {},
   "source": [
    "- Analice las gráfica obtenidas, escriba su análisis y determine la estabilidad del sistema y el tipo de amortiguamiento.\n",
    "    - Escriba aquí su discusión.\n",
    "    - Puede usar viñetas o párrafos.\n",
    "    - Conserve las sangrías para facilitar la lectura."
   ]
  },
  {
   "cell_type": "code",
   "execution_count": 11,
   "metadata": {},
   "outputs": [],
   "source": [
    "## Aquí va el código extra que puede requerir para responder a las preguntas."
   ]
  },
  {
   "cell_type": "markdown",
   "metadata": {},
   "source": [
    "## Análisis modelo F: $ \\frac{d^{2}y}{dt^{2}} + 5\\frac{dy}{dt} + y(t) = x(t) $\n",
    "\n",
    "- Lleve la ecuación diferencial al dominio de las frecuencias usando la transformada de Laplace.\n",
    "$$ EscribaAquíLaEcuaciónTransformada $$\n",
    "\n",
    "- Encuentre la función de transferencia del sistema.\n",
    "\\begin{equation}\n",
    "EscribaAquíLaFunciónDeTransferencia\n",
    "\\end{equation}\n",
    "\n",
    "- Grafique el mapa de polos y ceros\n",
    "\n",
    "- Grafique la respuesta al escalón"
   ]
  },
  {
   "cell_type": "code",
   "execution_count": 12,
   "metadata": {},
   "outputs": [],
   "source": [
    "## Aquí va el código para generar la gráfica pedida. Ejecute el código para generar la gráfica."
   ]
  },
  {
   "cell_type": "markdown",
   "metadata": {},
   "source": [
    "- Analice las gráfica obtenidas, escriba su análisis y determine la estabilidad del sistema y el tipo de amortiguamiento.\n",
    "    - Escriba aquí su discusión.\n",
    "    - Puede usar viñetas o párrafos.\n",
    "    - Conserve las sangrías para facilitar la lectura."
   ]
  },
  {
   "cell_type": "code",
   "execution_count": 13,
   "metadata": {},
   "outputs": [],
   "source": [
    "## Aquí va el código extra que puede requerir para responder a las preguntas."
   ]
  },
  {
   "cell_type": "markdown",
   "metadata": {},
   "source": [
    "## Análisis modelo G: $ \\frac{d^{2}y}{dt^{2}} + 2\\frac{dy}{dt} + y(t) = x(t) $\n",
    "\n",
    "- Lleve la ecuación diferencial al dominio de las frecuencias usando la transformada de Laplace.\n",
    "$$ EscribaAquíLaEcuaciónTransformada $$\n",
    "\n",
    "- Encuentre la función de transferencia del sistema.\n",
    "\\begin{equation}\n",
    "EscribaAquíLaFunciónDeTransferencia\n",
    "\\end{equation}\n",
    "\n",
    "- Grafique el mapa de polos y ceros\n",
    "\n",
    "- Grafique la respuesta al escalón"
   ]
  },
  {
   "cell_type": "code",
   "execution_count": 14,
   "metadata": {},
   "outputs": [],
   "source": [
    "## Aquí va el código para generar la gráfica pedida. Ejecute el código para generar la gráfica."
   ]
  },
  {
   "cell_type": "markdown",
   "metadata": {},
   "source": [
    "- Analice las gráfica obtenidas, escriba su análisis y determine la estabilidad del sistema y el tipo de amortiguamiento.\n",
    "    - Escriba aquí su discusión.\n",
    "    - Puede usar viñetas o párrafos.\n",
    "    - Conserve las sangrías para facilitar la lectura."
   ]
  },
  {
   "cell_type": "code",
   "execution_count": 15,
   "metadata": {},
   "outputs": [],
   "source": [
    "## Aquí va el código extra que puede requerir para responder a las preguntas."
   ]
  },
  {
   "cell_type": "markdown",
   "metadata": {},
   "source": [
    "## Análisis modelo H: $ \\frac{d^{2}y}{dt^{2}} + 1\\frac{dy}{dt} + y(t) = x(t) $\n",
    "\n",
    "- Lleve la ecuación diferencial al dominio de las frecuencias usando la transformada de Laplace.\n",
    "$$ EscribaAquíLaEcuaciónTransformada $$\n",
    "\n",
    "- Encuentre la función de transferencia del sistema.\n",
    "\\begin{equation}\n",
    "EscribaAquíLaFunciónDeTransferencia\n",
    "\\end{equation}\n",
    "\n",
    "- Grafique el mapa de polos y ceros\n",
    "\n",
    "- Grafique la respuesta al escalón"
   ]
  },
  {
   "cell_type": "code",
   "execution_count": 16,
   "metadata": {},
   "outputs": [],
   "source": [
    "## Aquí va el código para generar la gráfica pedida. Ejecute el código para generar la gráfica."
   ]
  },
  {
   "cell_type": "markdown",
   "metadata": {},
   "source": [
    "- Analice las gráfica obtenidas, escriba su análisis y determine la estabilidad del sistema y el tipo de amortiguamiento.\n",
    "    - Escriba aquí su discusión.\n",
    "    - Puede usar viñetas o párrafos.\n",
    "    - Conserve las sangrías para facilitar la lectura."
   ]
  },
  {
   "cell_type": "code",
   "execution_count": 17,
   "metadata": {},
   "outputs": [],
   "source": [
    "## Aquí va el código extra que puede requerir para responder a las preguntas."
   ]
  },
  {
   "cell_type": "markdown",
   "metadata": {},
   "source": [
    "## Análisis modelo I: $ \\frac{d^{2}y}{dt^{2}} + 0.25\\frac{dy}{dt} + y(t) = x(t) $\n",
    "\n",
    "- Lleve la ecuación diferencial al dominio de las frecuencias usando la transformada de Laplace.\n",
    "$$ EscribaAquíLaEcuaciónTransformada $$\n",
    "\n",
    "- Encuentre la función de transferencia del sistema.\n",
    "\\begin{equation}\n",
    "EscribaAquíLaFunciónDeTransferencia\n",
    "\\end{equation}\n",
    "\n",
    "- Grafique el mapa de polos y ceros\n",
    "\n",
    "- Grafique la respuesta al escalón"
   ]
  },
  {
   "cell_type": "code",
   "execution_count": 18,
   "metadata": {},
   "outputs": [],
   "source": [
    "## Aquí va el código para generar la gráfica pedida. Ejecute el código para generar la gráfica."
   ]
  },
  {
   "cell_type": "markdown",
   "metadata": {},
   "source": [
    "- Analice las gráfica obtenidas, escriba su análisis y determine la estabilidad del sistema y el tipo de amortiguamiento.\n",
    "    - Escriba aquí su discusión.\n",
    "    - Puede usar viñetas o párrafos.\n",
    "    - Conserve las sangrías para facilitar la lectura."
   ]
  },
  {
   "cell_type": "code",
   "execution_count": 19,
   "metadata": {},
   "outputs": [],
   "source": [
    "## Aquí va el código extra que puede requerir para responder a las preguntas."
   ]
  },
  {
   "cell_type": "markdown",
   "metadata": {},
   "source": [
    "## Análisis modelo J: $ \\frac{d^{2}y}{dt^{2}} + 1\\frac{dy}{dt} + y(t) = x(t) $\n",
    "\n",
    "- Lleve la ecuación diferencial al dominio de las frecuencias usando la transformada de Laplace.\n",
    "$$ EscribaAquíLaEcuaciónTransformada $$\n",
    "\n",
    "- Encuentre la función de transferencia del sistema.\n",
    "\\begin{equation}\n",
    "EscribaAquíLaFunciónDeTransferencia\n",
    "\\end{equation}\n",
    "\n",
    "- Grafique el mapa de polos y ceros\n",
    "\n",
    "- Grafique la respuesta al escalón"
   ]
  },
  {
   "cell_type": "code",
   "execution_count": 20,
   "metadata": {},
   "outputs": [],
   "source": [
    "## Aquí va el código para generar la gráfica pedida. Ejecute el código para generar la gráfica."
   ]
  },
  {
   "cell_type": "markdown",
   "metadata": {},
   "source": [
    "- Analice las gráfica obtenidas, escriba su análisis y determine la estabilidad del sistema y el tipo de amortiguamiento.\n",
    "    - Escriba aquí su discusión.\n",
    "    - Puede usar viñetas o párrafos.\n",
    "    - Conserve las sangrías para facilitar la lectura."
   ]
  },
  {
   "cell_type": "code",
   "execution_count": 21,
   "metadata": {},
   "outputs": [],
   "source": [
    "## Aquí va el código extra que puede requerir para responder a las preguntas."
   ]
  },
  {
   "cell_type": "markdown",
   "metadata": {},
   "source": [
    "## Análisis de sistemas combinados\n",
    "\n",
    "Suponga que los sistemas $B$ e $I$ interactúan de manera que la salida de $B$ es la entrada de $I$.\n",
    "- ¿Cuál es la función de transferencia equivalente para estos sistemas conectados?\n",
    "- Grafique el mapa de polos y ceros\n",
    "- Grafique la respuesta al escalón"
   ]
  },
  {
   "cell_type": "code",
   "execution_count": 22,
   "metadata": {},
   "outputs": [],
   "source": [
    "## Aquí va el código para generar la gráfica pedida. Ejecute el código para generar la gráfica."
   ]
  },
  {
   "cell_type": "markdown",
   "metadata": {},
   "source": [
    "- Analice la gráfica obtenida, escriba su análisis y determine la estabilidad del sistema y el tipo de amortiguamiento.\n",
    "    - Escriba aquí su discusión.\n",
    "    - Puede usar viñetas o párrafos.\n",
    "    - Conserve las sangrías para facilitar la lectura."
   ]
  },
  {
   "cell_type": "markdown",
   "metadata": {},
   "source": [
    "## Análisis comparativo\n",
    "\n",
    "Con base en los resultados anteriores, realice un análisis comparativo y escriba sus observaciones\n",
    "\n",
    "- Escriba aquí sus respuestas\n",
    "- Puede usar viñetas"
   ]
  },
  {
   "cell_type": "markdown",
   "metadata": {},
   "source": [
    "## Conclusiones\n",
    "\n",
    "Escriba sus conclusiones\n",
    "\n",
    "- Use viñetas"
   ]
  }
 ],
 "metadata": {
  "kernelspec": {
   "display_name": "Python 3",
   "language": "python",
   "name": "python3"
  },
  "language_info": {
   "codemirror_mode": {
    "name": "ipython",
    "version": 3
   },
   "file_extension": ".py",
   "mimetype": "text/x-python",
   "name": "python",
   "nbconvert_exporter": "python",
   "pygments_lexer": "ipython3",
   "version": "3.7.3"
  },
  "latex_envs": {
   "bibliofile": "biblio.bib",
   "cite_by": "apalike",
   "current_citInitial": 1,
   "eqLabelWithNumbers": true,
   "eqNumInitial": 0
  }
 },
 "nbformat": 4,
 "nbformat_minor": 4
}
