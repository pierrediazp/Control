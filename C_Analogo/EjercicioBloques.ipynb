{
 "cells": [
  {
   "cell_type": "code",
   "execution_count": 1,
   "id": "bc5fcb6e",
   "metadata": {},
   "outputs": [],
   "source": [
    "import sympy\n",
    "sympy.init_printing()"
   ]
  },
  {
   "cell_type": "markdown",
   "id": "a14661cb",
   "metadata": {},
   "source": [
    "# Ejercicio: Diagramas de bloques\n",
    "\n",
    "1. Reducir el siguiente diagrama.\n",
    "![diagrama](figuras/ejercicio_bloques03.png)\n",
    "2. Realice el ejercicio en papel y verifique su resultado con `Sympy`.\n",
    "3. Documente el proceso y la comparación y suba un archivo."
   ]
  },
  {
   "cell_type": "markdown",
   "id": "cdf7744e",
   "metadata": {},
   "source": [
    "Escriba su desarrollo.\n",
    "\n",
    "- Puede usar viñetas\n",
    "- Puede usar ecuaciones\n",
    "\n",
    "$$Ecuaciones$$\n",
    "$$ Ecuaciones$$"
   ]
  },
  {
   "cell_type": "code",
   "execution_count": 2,
   "id": "5facad22",
   "metadata": {},
   "outputs": [],
   "source": [
    "## Escriba sus códigos"
   ]
  }
 ],
 "metadata": {
  "kernelspec": {
   "display_name": "Python 3",
   "language": "python",
   "name": "python3"
  },
  "language_info": {
   "codemirror_mode": {
    "name": "ipython",
    "version": 3
   },
   "file_extension": ".py",
   "mimetype": "text/x-python",
   "name": "python",
   "nbconvert_exporter": "python",
   "pygments_lexer": "ipython3",
   "version": "3.7.3"
  },
  "latex_envs": {
   "bibliofile": "biblio.bib",
   "cite_by": "apalike",
   "current_citInitial": 1,
   "eqLabelWithNumbers": true,
   "eqNumInitial": 0
  }
 },
 "nbformat": 4,
 "nbformat_minor": 5
}
