{
 "cells": [
  {
   "cell_type": "code",
   "execution_count": 1,
   "id": "54e3c0e4",
   "metadata": {},
   "outputs": [],
   "source": [
    "# Aquí van las librerías y funciones que va a usar\n",
    "\n",
    "\n",
    "import matplotlib.pyplot as plt\n",
    "import sympy as sym\n",
    "%matplotlib inline\n",
    "sym.init_printing()\n",
    "\n",
    "#!pip install control\n",
    "import control\n",
    "\n",
    "## Puede que requiera incorporar más librerías o definir nuevas funciones.  Hágalo a continuación\n"
   ]
  },
  {
   "cell_type": "markdown",
   "id": "95e10206",
   "metadata": {},
   "source": [
    "# Tarea\n",
    "\n",
    "Nombres: **Ponga aquí sus nombres completos**"
   ]
  },
  {
   "cell_type": "markdown",
   "id": "4abfc0ee",
   "metadata": {},
   "source": [
    "1. Analice el efecto de la realimentación para un proceso modelado por\n",
    "\n",
    "$$ G_p(s) = \\frac{0.75}{s^2 + 4s + 2}$$\n",
    "\n",
    "y una estrategia de contro definida por:\n",
    "\n",
    "$$G_c(s) = k_c$$\n",
    "\n",
    "- ¿El sistema $G_p$ es estable?\n",
    "- ¿Qué efecto tiene realimentar el sistema con el controlador definido?\n",
    "- ¿Puede identificar qué efecto tiene aumentar $k_c$ sobre el valor final de la señal controlada?\n",
    "- ¿Puede identificar qué efecto tiene aumentar $k_c$ sobre el valor final de la señal de error?\n",
    "\n"
   ]
  },
  {
   "cell_type": "code",
   "execution_count": 2,
   "id": "29e49ded",
   "metadata": {},
   "outputs": [],
   "source": [
    "## Escriba su código"
   ]
  },
  {
   "cell_type": "markdown",
   "id": "76e50709",
   "metadata": {},
   "source": [
    "Escriba sus análisis\n",
    "- si requiere, inserte más celdas\n",
    "- use viñetas"
   ]
  },
  {
   "cell_type": "code",
   "execution_count": 3,
   "id": "f197efa3",
   "metadata": {},
   "outputs": [],
   "source": [
    "## si requiere más celdas, insértelas"
   ]
  },
  {
   "cell_type": "markdown",
   "id": "52c06d19",
   "metadata": {},
   "source": [
    "2. Analice el efecto de la realimentación para un proceso modelado por\n",
    "\n",
    "$$ G_p(s) = \\frac{2}{s^3 + 2s^2 + 4s + 2}$$\n",
    "\n",
    "y una estrategia de contro definida por:\n",
    "\n",
    "$$G_c(s) = k_c$$\n",
    "\n",
    "- ¿El sistema $G_p$ es estable?\n",
    "- ¿Qué efecto tiene realimentar el sistema con el controlador definido?\n",
    "- ¿Puede identificar qué efecto tiene aumentar $k_c$ sobre el valor final de la señal controlada?\n",
    "- ¿Puede identificar qué efecto tiene aumentar $k_c$ sobre el valor final de la señal de error?"
   ]
  },
  {
   "cell_type": "code",
   "execution_count": 4,
   "id": "af8916fd",
   "metadata": {},
   "outputs": [],
   "source": [
    "## Escriba su código"
   ]
  },
  {
   "cell_type": "markdown",
   "id": "20a43ab6",
   "metadata": {},
   "source": [
    "Escriba sus análisis\n",
    "- si requiere, inserte más celdas\n",
    "- use viñetas"
   ]
  },
  {
   "cell_type": "code",
   "execution_count": 5,
   "id": "341ef9f4",
   "metadata": {},
   "outputs": [],
   "source": [
    "## si requiere más celdas, insértelas"
   ]
  },
  {
   "cell_type": "code",
   "execution_count": null,
   "id": "c9d0119e",
   "metadata": {},
   "outputs": [],
   "source": []
  }
 ],
 "metadata": {
  "kernelspec": {
   "display_name": "Python 3",
   "language": "python",
   "name": "python3"
  },
  "language_info": {
   "codemirror_mode": {
    "name": "ipython",
    "version": 3
   },
   "file_extension": ".py",
   "mimetype": "text/x-python",
   "name": "python",
   "nbconvert_exporter": "python",
   "pygments_lexer": "ipython3",
   "version": "3.7.3"
  },
  "latex_envs": {
   "bibliofile": "biblio.bib",
   "cite_by": "apalike",
   "current_citInitial": 1,
   "eqLabelWithNumbers": true,
   "eqNumInitial": 0
  }
 },
 "nbformat": 4,
 "nbformat_minor": 5
}
