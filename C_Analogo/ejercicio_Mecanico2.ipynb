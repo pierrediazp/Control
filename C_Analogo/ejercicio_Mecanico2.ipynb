{
 "cells": [
  {
   "cell_type": "markdown",
   "id": "c3802421",
   "metadata": {},
   "source": [
    "# Ejercicio: Modelo mecánico\n",
    "\n",
    "**Nombre**: Su nombre aquí."
   ]
  },
  {
   "cell_type": "markdown",
   "id": "a18d4cb0",
   "metadata": {},
   "source": [
    "Analice el diagrama propuesto a continuación.\n",
    "\n",
    "![figuras/mecanico2.png](figuras/mecanico2.png)\n",
    "\n",
    "Desarrolle los siguientes pasos:"
   ]
  },
  {
   "cell_type": "markdown",
   "id": "e7bc9fb8",
   "metadata": {},
   "source": [
    "1. Defina las ecuaciones diferenciales que relacionan $x_1$, $x_2$ y $u$\n",
    "2. Encuentre funciones de transferencia.\n",
    "3. Encuentre modelo en espacio de estados.\n",
    "4. Simule y analice cada tipo de modelo.\n"
   ]
  },
  {
   "cell_type": "code",
   "execution_count": null,
   "id": "616115cc",
   "metadata": {},
   "outputs": [],
   "source": []
  }
 ],
 "metadata": {
  "kernelspec": {
   "display_name": "Python 3 (ipykernel)",
   "language": "python",
   "name": "python3"
  },
  "language_info": {
   "codemirror_mode": {
    "name": "ipython",
    "version": 3
   },
   "file_extension": ".py",
   "mimetype": "text/x-python",
   "name": "python",
   "nbconvert_exporter": "python",
   "pygments_lexer": "ipython3",
   "version": "3.10.9"
  },
  "varInspector": {
   "cols": {
    "lenName": 16,
    "lenType": 16,
    "lenVar": 40
   },
   "kernels_config": {
    "python": {
     "delete_cmd_postfix": "",
     "delete_cmd_prefix": "del ",
     "library": "var_list.py",
     "varRefreshCmd": "print(var_dic_list())"
    },
    "r": {
     "delete_cmd_postfix": ") ",
     "delete_cmd_prefix": "rm(",
     "library": "var_list.r",
     "varRefreshCmd": "cat(var_dic_list()) "
    }
   },
   "types_to_exclude": [
    "module",
    "function",
    "builtin_function_or_method",
    "instance",
    "_Feature"
   ],
   "window_display": false
  }
 },
 "nbformat": 4,
 "nbformat_minor": 5
}
