{
 "cells": [
  {
   "cell_type": "code",
   "execution_count": 1,
   "id": "c805950a",
   "metadata": {},
   "outputs": [],
   "source": [
    "import sympy as sym\n",
    "sym.init_printing()\n",
    "%matplotlib inline"
   ]
  },
  {
   "cell_type": "markdown",
   "id": "192eebff",
   "metadata": {},
   "source": [
    "**Ejercicio**\n",
    "\n",
    "\n",
    "![circuito_mallas.png](figuras/circuito_mallas.png)\n",
    "\n",
    "Analice el circuito para encuentrar las expresiones matemáticas de los voltaje en cada nodo en función de $Vi$.\n",
    "\n",
    "1. Encuentre las expresiones de forma analítica.\n",
    "\n",
    "\\begin{align}\n",
    "V1 &= expresión\\\\\n",
    "V2 &= expresión\\\\\n",
    "... &= ... \\\\\n",
    "Vn &= expresión\\\\\n",
    "\\end{align}\n",
    "\n",
    "\n",
    "2. Encuentre las soluciones usando Python.\n",
    "\n",
    "\\begin{align}\n",
    "V1 &= expresión\\\\\n",
    "V2 &= expresión\\\\\n",
    "... &= ... \\\\\n",
    "Vn &= expresión\\\\\n",
    "\\end{align}\n",
    "\n"
   ]
  },
  {
   "cell_type": "markdown",
   "id": "d2c5cce7",
   "metadata": {},
   "source": [
    "Considerando que todas las resistencias son de $1 k\\Omega$, encuentre los voltajes para cuando $Vi = 15V$"
   ]
  },
  {
   "cell_type": "code",
   "execution_count": null,
   "id": "03cb4397",
   "metadata": {},
   "outputs": [],
   "source": [
    "# Celda para código"
   ]
  },
  {
   "cell_type": "markdown",
   "id": "b1272395",
   "metadata": {},
   "source": [
    "Considerando que todas las resistencias son de $5 k\\Omega$, encuentre los voltajes para cuando $Vi = 10V$"
   ]
  },
  {
   "cell_type": "code",
   "execution_count": null,
   "id": "4e9c86a2",
   "metadata": {},
   "outputs": [],
   "source": [
    "# Celda para código"
   ]
  },
  {
   "cell_type": "markdown",
   "id": "4616b408",
   "metadata": {},
   "source": [
    "Considerando que $ R1 = R2 = R4 = 5 k\\Omega$, $ R3 = R5 = R8 = 2 k\\Omega$ y $ R6 = R7 = 100 \\Omega$, encuentre los voltajes para cuando $Vi = 12V$"
   ]
  },
  {
   "cell_type": "code",
   "execution_count": null,
   "id": "d678771c",
   "metadata": {},
   "outputs": [],
   "source": [
    "# Celda para código"
   ]
  }
 ],
 "metadata": {
  "kernelspec": {
   "display_name": "Python 3",
   "language": "python",
   "name": "python3"
  },
  "language_info": {
   "codemirror_mode": {
    "name": "ipython",
    "version": 3
   },
   "file_extension": ".py",
   "mimetype": "text/x-python",
   "name": "python",
   "nbconvert_exporter": "python",
   "pygments_lexer": "ipython3",
   "version": "3.7.3"
  },
  "latex_envs": {
   "LaTeX_envs_menu_present": true,
   "autoclose": false,
   "autocomplete": true,
   "bibliofile": "biblio.bib",
   "cite_by": "apalike",
   "current_citInitial": 1,
   "eqLabelWithNumbers": true,
   "eqNumInitial": 0,
   "hotkeys": {
    "equation": "Ctrl-E",
    "itemize": "Ctrl-I"
   },
   "labels_anchors": false,
   "latex_user_defs": false,
   "report_style_numbering": false,
   "user_envs_cfg": false
  },
  "toc": {
   "base_numbering": 1,
   "nav_menu": {},
   "number_sections": true,
   "sideBar": true,
   "skip_h1_title": false,
   "title_cell": "Table of Contents",
   "title_sidebar": "Contents",
   "toc_cell": false,
   "toc_position": {},
   "toc_section_display": true,
   "toc_window_display": false
  },
  "varInspector": {
   "cols": {
    "lenName": 16,
    "lenType": 16,
    "lenVar": 40
   },
   "kernels_config": {
    "python": {
     "delete_cmd_postfix": "",
     "delete_cmd_prefix": "del ",
     "library": "var_list.py",
     "varRefreshCmd": "print(var_dic_list())"
    },
    "r": {
     "delete_cmd_postfix": ") ",
     "delete_cmd_prefix": "rm(",
     "library": "var_list.r",
     "varRefreshCmd": "cat(var_dic_list()) "
    }
   },
   "types_to_exclude": [
    "module",
    "function",
    "builtin_function_or_method",
    "instance",
    "_Feature"
   ],
   "window_display": false
  }
 },
 "nbformat": 4,
 "nbformat_minor": 5
}
