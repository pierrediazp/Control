{
 "cells": [
  {
   "cell_type": "markdown",
   "id": "c89c078f",
   "metadata": {},
   "source": [
    "# Ejercicio: Efectos de la realimentación\n",
    "\n",
    "\n",
    "**Nombres**"
   ]
  },
  {
   "cell_type": "markdown",
   "id": "945768a6",
   "metadata": {},
   "source": [
    "1. Considere un proceso modelado por\n",
    "\n",
    "$$ G_p(s) = \\frac{0.75}{s^2 + 4s + 2}$$\n",
    "\n",
    "y una estrategia de control definida por:\n",
    "\n",
    "$$G_c(s) = k_c$$\n",
    "\n",
    "- ¿El sistema $G_p$ es estable?\n",
    "- ¿Qué efecto tiene realimentar el sistema con el controlador definido?\n",
    "- ¿Qué efecto tiene aumentar $k_c$ sobre el valor final de la señal controlada ante una entrada escalón unitario?\n",
    "- ¿Qué efecto tiene aumentar $k_c$ sobre el valor final de la señal de error ante una entrada escalón unitario?\n",
    "- ¿Qué efecto tiene aumentar $k_c$ sobre la ubicación de los polos del sistema en lazo cerrado?"
   ]
  },
  {
   "cell_type": "code",
   "execution_count": 1,
   "id": "dc3e977e",
   "metadata": {},
   "outputs": [],
   "source": [
    "# Escriba su código"
   ]
  },
  {
   "cell_type": "markdown",
   "id": "2649bcf6",
   "metadata": {},
   "source": [
    "- Desarrolle los puntos"
   ]
  },
  {
   "cell_type": "markdown",
   "id": "63629ca0",
   "metadata": {},
   "source": [
    "-------------"
   ]
  },
  {
   "cell_type": "markdown",
   "id": "a907c6be",
   "metadata": {},
   "source": [
    "2. Considere un proceso modelado por\n",
    "\n",
    "$$ G_p(s) = \\frac{2}{s^3 + 2s^2 + 4s + 2}$$\n",
    "\n",
    "y una estrategia de control definida por:\n",
    "\n",
    "$$G_c(s) = k_c$$\n",
    "\n",
    "- ¿El sistema $G_p$ es estable?\n",
    "- ¿Qué efecto tiene realimentar el sistema con el controlador definido?\n",
    "- ¿Qué efecto tiene aumentar $k_c$ sobre el valor final de la señal controlada ante una entrada escalón unitario?\n",
    "- ¿Qué efecto tiene aumentar $k_c$ sobre el valor final de la señal de error ante una entrada escalón unitario?\n",
    "- ¿Qué efecto tiene aumentar $k_c$ sobre la ubicación de los polos del sistema en lazo cerrado?"
   ]
  },
  {
   "cell_type": "code",
   "execution_count": 2,
   "id": "4be84d6d",
   "metadata": {},
   "outputs": [],
   "source": [
    "# Escriba su código"
   ]
  },
  {
   "cell_type": "markdown",
   "id": "74043022",
   "metadata": {},
   "source": [
    "- Desarrolle los puntos"
   ]
  }
 ],
 "metadata": {
  "kernelspec": {
   "display_name": "Python 3",
   "language": "python",
   "name": "python3"
  },
  "language_info": {
   "codemirror_mode": {
    "name": "ipython",
    "version": 3
   },
   "file_extension": ".py",
   "mimetype": "text/x-python",
   "name": "python",
   "nbconvert_exporter": "python",
   "pygments_lexer": "ipython3",
   "version": "3.7.3"
  },
  "latex_envs": {
   "bibliofile": "biblio.bib",
   "cite_by": "apalike",
   "current_citInitial": 1,
   "eqLabelWithNumbers": true,
   "eqNumInitial": 0
  }
 },
 "nbformat": 4,
 "nbformat_minor": 5
}
