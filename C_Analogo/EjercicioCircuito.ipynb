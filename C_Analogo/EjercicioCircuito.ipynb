{
 "cells": [
  {
   "cell_type": "code",
   "execution_count": 1,
   "id": "c805950a",
   "metadata": {},
   "outputs": [],
   "source": [
    "import sympy as sym\n",
    "sym.init_printing()\n",
    "%matplotlib inline"
   ]
  },
  {
   "cell_type": "markdown",
   "id": "192eebff",
   "metadata": {},
   "source": [
    "**Ejercicio**\n",
    "\n",
    "\n",
    "![lowpass.PNG](figuras/lowpass2.PNG)\n",
    "\n",
    "A partir de este circuito encuentre un modelo que relacione el voltaje de salida $y(t)$ con el voltaje de entrada $x(t)$.\n"
   ]
  },
  {
   "cell_type": "markdown",
   "id": "cc15dccb",
   "metadata": {},
   "source": [
    "**Respuesta**\n",
    "\n",
    "Desarrolle sus procedimientos\n",
    "\n",
    "$$ v_{ca}(t) = v_{cb}(t)+v_{rb}(t) $$\n",
    "$$ x = v_{ra}(t) + v_{cb}(t)+v_{rb}(t) $$"
   ]
  },
  {
   "cell_type": "code",
   "execution_count": 2,
   "id": "61baf4ef",
   "metadata": {},
   "outputs": [],
   "source": [
    "# Celda para código si es necesario"
   ]
  },
  {
   "cell_type": "markdown",
   "id": "d2c5cce7",
   "metadata": {},
   "source": [
    "Considerando que todas las resistencias son de $1 k\\Omega$ y las capacitancias son de $100\\mu F$:\n",
    "\n",
    "¿cómo se comporta $y(t)$ ante una entrada escalón de amplitud 2?"
   ]
  },
  {
   "cell_type": "code",
   "execution_count": 3,
   "id": "03cb4397",
   "metadata": {},
   "outputs": [],
   "source": [
    "# Celda para código"
   ]
  },
  {
   "cell_type": "markdown",
   "id": "9efbf9ef",
   "metadata": {},
   "source": [
    "Escriba su análisis"
   ]
  },
  {
   "cell_type": "markdown",
   "id": "554e1d86",
   "metadata": {},
   "source": [
    "¿cómo se comporta $y(t)$ ante una entrada rampa?"
   ]
  },
  {
   "cell_type": "markdown",
   "id": "b1272395",
   "metadata": {},
   "source": [
    "Considerando que $Ra = 1 k\\Omega$, $Rb = 0.5 k\\Omega$ $Ca = 50\\mu F$ y $Cb = 200\\mu F$:\n",
    "\n",
    "¿cómo se comporta $y(t)$ ante una entrada escalón unitario?"
   ]
  },
  {
   "cell_type": "code",
   "execution_count": 4,
   "id": "4e9c86a2",
   "metadata": {},
   "outputs": [],
   "source": [
    "# Celda para código"
   ]
  },
  {
   "cell_type": "markdown",
   "id": "6f5280df",
   "metadata": {},
   "source": [
    "Escriba su análisis"
   ]
  },
  {
   "cell_type": "markdown",
   "id": "61e64c78",
   "metadata": {},
   "source": [
    "Considerando que $Ra = 1 k\\Omega$, $Rb = 0.5 k\\Omega$ $Ca = 50\\mu F$ y $Cb = 200\\mu F$:\n",
    "\n",
    "¿cómo se comporta $y(t)$ ante una entrada escalón unitario?"
   ]
  },
  {
   "cell_type": "code",
   "execution_count": 5,
   "id": "6f14350e",
   "metadata": {},
   "outputs": [],
   "source": [
    "# Celda para código"
   ]
  },
  {
   "cell_type": "markdown",
   "id": "fff189bb",
   "metadata": {},
   "source": [
    "Escriba su análisis"
   ]
  },
  {
   "cell_type": "markdown",
   "id": "ad1c8db7",
   "metadata": {},
   "source": [
    "¿cómo se comporta $y(t)$ ante una entrada rampa?"
   ]
  },
  {
   "cell_type": "code",
   "execution_count": 6,
   "id": "2307b948",
   "metadata": {},
   "outputs": [],
   "source": [
    "# Celda para código"
   ]
  },
  {
   "cell_type": "markdown",
   "id": "3d6d3be2",
   "metadata": {},
   "source": [
    "Escriba su análisis"
   ]
  }
 ],
 "metadata": {
  "kernelspec": {
   "display_name": "Python 3",
   "language": "python",
   "name": "python3"
  },
  "language_info": {
   "codemirror_mode": {
    "name": "ipython",
    "version": 3
   },
   "file_extension": ".py",
   "mimetype": "text/x-python",
   "name": "python",
   "nbconvert_exporter": "python",
   "pygments_lexer": "ipython3",
   "version": "3.7.3"
  },
  "latex_envs": {
   "bibliofile": "biblio.bib",
   "cite_by": "apalike",
   "current_citInitial": 1,
   "eqLabelWithNumbers": true,
   "eqNumInitial": 0
  }
 },
 "nbformat": 4,
 "nbformat_minor": 5
}
