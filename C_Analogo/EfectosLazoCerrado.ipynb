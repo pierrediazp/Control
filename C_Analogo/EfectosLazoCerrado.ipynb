{
 "cells": [
  {
   "cell_type": "code",
   "execution_count": 1,
   "id": "845287fa",
   "metadata": {},
   "outputs": [],
   "source": [
    "import numpy as np\n",
    "import matplotlib.pyplot as plt\n",
    "%matplotlib inline\n",
    "import control"
   ]
  },
  {
   "cell_type": "markdown",
   "id": "c0fbdab3",
   "metadata": {},
   "source": [
    "# Efectos de la realimentación\n",
    "\n",
    "## Objetivos\n",
    "- Determinar la estabilidad de sistemas de lazo abierto y lazo cerrado.\n",
    "- Verificar el efecto de cerrar un lazo de control sobre sistemas de  tiempo continuo.\n"
   ]
  },
  {
   "cell_type": "markdown",
   "id": "d8f7ea41",
   "metadata": {},
   "source": [
    "## Lazo cerrado\n",
    "\n",
    "\n",
    "Tomando como base el bucle típico de control de la siguiente figura.\n",
    "\n",
    "![bucle](figuras/bucle_Laplace.png)\n",
    "\n",
    "Puede deducirse que la función de transferencia desde la **referencia** $R(s)$ hasta la **controlada** $C(s)$.\n",
    "\n",
    "Observe que el error se define como:\n",
    "\\begin{equation}\n",
    "E(s) = R(s) - H(s) C(s)\n",
    "\\end{equation}\n",
    "La señal **controlada** corresponde a la transformación que realiza el **controlador**, el **actuador** y la **planta** sobre el **error**.\n",
    "\\begin{align}\n",
    "\\color{blue}{C(s)} &= \\left (G_c(s)G_a(s)G_p(s)  \\right )  E(s) \\\\\n",
    "\\color{blue}{C(s)} &= \\left (G_c(s)G_a(s)G_p(s) \\right ) \\left ( \\color{blue}{\\color{blue}{R(s)}} - H(s) \\color{blue}{C(s)} \\right ) \\\\\n",
    "\\color{blue}{C(s)} &= \\left (G_c(s)G_a(s)G_p(s) \\right ) \\color{blue}{\\color{blue}{R(s)}} - \\left (G_c(s)G_a(s)G_p(s)H(s) \\right )\\color{blue}{C(s)} \\\\\n",
    "\\end{align}\n",
    "\\begin{equation}\n",
    "\\color{blue}{C(s)} +  \\left (G_c(s)G_a(s)G_p(s)H(s) \\right )\\color{blue}{C(s)}  =  \\left (G_c(s)G_a(s)G_p(s) \\right ) \\color{blue}{R(s)}\n",
    "\\end{equation}\n",
    "\\begin{equation}\n",
    "\\color{blue}{C(s)} \\left ( 1 +  G_c(s)G_a(s)G_p(s)H(s)\\right ) =   \\left (G_c(s)G_a(s)G_p(s) \\right ) \\color{blue}{R(s)}\n",
    "\\end{equation}\n",
    "\n",
    "Así, la función de transferencia de lazo cerrado es:\n",
    "\n",
    "\\begin{equation}\n",
    "\\frac{C(s)}{R(s)} = \\frac{G_c(s)G_a(s)G_p(s)}{1 + G_c(s)G_a(s)G_p(s)H(s)}\n",
    "\\end{equation}\n",
    "\n",
    "Para efectos prácticos se reune en un solo modelo a los sistemas **Actuador** y **Planta**, pues estos dos sistemas conforman el **Proceso** que se debe controlar. Así, la función de transferencia de lazo cerrado será:\n",
    "\n",
    "\\begin{equation}\n",
    "\\frac{C(s)}{R(s)} = \\frac{G_c(s)G_p(s)}{1 + G_c(s)G_p(s)H(s)}\n",
    "\\end{equation}\n",
    "\n",
    "Tenga en cuenta que $G_p(s)$ incorpora las dinámicas de **Actuador** y **Planta**.\n",
    "\n",
    "El rol del **Sensor** requiere respuestas \"rápidas\" y \"precisas\".\n",
    "\n",
    "El sistema **Controlador** debe ser diseñado para lograr comportamientos deseados en el sistema en lazo cerrado, es decir, se moldea la forma de $C(s)$ a partir de $R(s)$ ajustando $G_c(s)$ de forma apropiada."
   ]
  },
  {
   "cell_type": "markdown",
   "id": "cda88f17",
   "metadata": {},
   "source": [
    "## Lazo abierto vs Lazo cerrado\n",
    "\n",
    "Las características más relevantes de la respuesta transitoria de un sistema está relacionada con la ubicación de sus polos.\n",
    "\n",
    "De las ecuaciones anteriores, puede observarse que los polos se reubican en lazo cerrado de acuerdo con el controlador. Para este analisis considere los modelos lineales definidos como divisiones de polinomios.\n",
    "\n",
    "\\begin{equation}\n",
    "\\frac{C(s)}{R(s)} = \\frac{G_c(s)G_p(s)}{1 + G_c(s)G_p(s)H(s)}\n",
    "\\end{equation}\n",
    "\n",
    "\\begin{equation}\n",
    "\\frac{C(s)}{R(s)} = \\frac{\\frac{N_c(s)}{D_c(s)}\\frac{N_p(s)}{D_p(s)}}{1 + \\frac{N_c(s)}{D_c(s)}\\frac{N_p(s)}{D_p(s)}H(s)}\n",
    "\\end{equation}\n",
    "\n",
    "Considere que el sensor es perfecto, es decir, $H(s)=1$.\n",
    "\n",
    "La función de transferencia de lazo cerrado es:\n",
    "\n",
    "\\begin{equation}\n",
    "\\frac{C(s)}{R(s)} = \\frac{\\frac{N_c(s)N_p(s)}{D_c(s)D_p(s)}}{\\frac{D_c(s)D_p(s) + N_c(s)N_p(s)}{D_c(s)D_p(s)}} = \\frac{N_c(s)N_p(s)}{D_c(s)D_p(s) + N_c(s)N_p(s)}\n",
    "\\end{equation}\n",
    "\n",
    "Mientras la función de transferencia de lazo abierto es:\n",
    "\n",
    "\\begin{equation}\n",
    "\\frac{C(s)}{R(s)} = \\frac{N_c(s)N_p(s)}{D_c(s)D_p(s)}\n",
    "\\end{equation}\n",
    "\n",
    "Observe que los numeradores se mantienen, esto indica que los ceros del sistema en lazo cerrado son los mismos que en lazo abierto.\n",
    "\n",
    "Observe que los denominadores cambian, esto indica que los polos del sistema en lazo cerrado cambian respecto al lazo abierto."
   ]
  },
  {
   "cell_type": "markdown",
   "id": "3546a9a2",
   "metadata": {},
   "source": [
    "**Ejemplo**\n",
    "\n",
    "Suponga un proceso modelado por:\n",
    "\n",
    "$$G_p(s) = \\frac{2}{4s - 3}$$\n",
    "$$G_p(s) = \\frac{-2/3}{\\frac{-4}{3}s + \\frac{3}{3}}$$\n",
    "$$G_p(s) = \\frac{-2/3}{\\frac{-4}{3}s + 1}$$\n",
    "\n",
    "\n",
    "\n",
    "y una estrategia de contro definida por:\n",
    "\n",
    "$$G_c(s) = k_c$$\n"
   ]
  },
  {
   "cell_type": "markdown",
   "id": "2e8beabb",
   "metadata": {},
   "source": [
    "polo del proceso es\n",
    "$$s=3/4$$"
   ]
  },
  {
   "cell_type": "markdown",
   "id": "a3233561",
   "metadata": {},
   "source": [
    "- ¿El sistema $G_p$ es estable?\n",
    "- ¿Qué efecto tiene realimentar el sistema con el controlador definido?\n",
    "\n",
    "En análisis se realizará a partir de las raíces del sistema teniendo en cuenta que la función de transferencia de lazo cerrado es:\n",
    "\n",
    "\\begin{equation}\n",
    "\\frac{C(s)}{R(s)} =  \\frac{N_c(s)N_p(s)}{D_c(s)D_p(s) + N_c(s)N_p(s)}\n",
    "\\end{equation}\n",
    "\n",
    "$$G_{LC}(s) = \\frac{2k_c}{4s - 3 + 2k_c}$$\n"
   ]
  },
  {
   "cell_type": "markdown",
   "id": "4f5a948c",
   "metadata": {},
   "source": [
    "Polo en lazo cerrado\n",
    "$$4s-3+2k_c=0$$\n",
    "$$s=\\frac{3-2k_c}{4}$$"
   ]
  },
  {
   "cell_type": "markdown",
   "id": "f61b0b95",
   "metadata": {},
   "source": [
    "El sistema en lazo cerrado sería estable si el polo tiene parte real negativa, por lo que debe garantizarse que $k_c>3/2$ para que el sistema se comporte de forma estable."
   ]
  },
  {
   "cell_type": "code",
   "execution_count": 2,
   "id": "63dddc2f",
   "metadata": {},
   "outputs": [
    {
     "data": {
      "text/latex": [
       "$$\\frac{2}{4 s - 3}$$"
      ],
      "text/plain": [
       "TransferFunction(array([2]), array([ 4, -3]))"
      ]
     },
     "execution_count": 2,
     "metadata": {},
     "output_type": "execute_result"
    }
   ],
   "source": [
    "# Se define la función de transferencia del proceso\n",
    "Gp = control.tf([2], [4,-3])\n",
    "Gp"
   ]
  },
  {
   "cell_type": "code",
   "execution_count": 4,
   "id": "4d7e3feb",
   "metadata": {},
   "outputs": [
    {
     "data": {
      "text/plain": [
       "array([0.75])"
      ]
     },
     "execution_count": 4,
     "metadata": {},
     "output_type": "execute_result"
    }
   ],
   "source": [
    "# Se hallan los polos del proceso\n",
    "polos = Gp.pole()\n",
    "polos"
   ]
  },
  {
   "cell_type": "code",
   "execution_count": 5,
   "id": "106aaf93",
   "metadata": {},
   "outputs": [
    {
     "data": {
      "text/plain": [
       "array([], dtype=float64)"
      ]
     },
     "execution_count": 5,
     "metadata": {},
     "output_type": "execute_result"
    }
   ],
   "source": [
    "# Se hallan los ceros del proceso\n",
    "ceros = Gp.zero()\n",
    "ceros"
   ]
  },
  {
   "cell_type": "code",
   "execution_count": 6,
   "id": "45bc7578",
   "metadata": {},
   "outputs": [
    {
     "data": {
      "image/png": "[encoded data removed]",
      "text/plain": [
       "<Figure size 432x288 with 1 Axes>"
      ]
     },
     "metadata": {
      "needs_background": "light"
     },
     "output_type": "display_data"
    }
   ],
   "source": [
    "# Se grafica el mapa de polos y ceros\n",
    "control.pzmap(Gp)\n",
    "plt.grid(True)"
   ]
  },
  {
   "cell_type": "markdown",
   "id": "3272554e",
   "metadata": {},
   "source": [
    "- El sistema no tiene ceros.\n",
    "- El sistema tiene un polo en $s = 0.75$.\n",
    "- La respuesta dinámica del sistema está dominada por $e^{0.75t}$.\n",
    "- Este sistema es inestable."
   ]
  },
  {
   "cell_type": "code",
   "execution_count": 9,
   "id": "de5fb1b1",
   "metadata": {},
   "outputs": [
    {
     "data": {
      "image/png": "[encoded data removed]",
      "text/plain": [
       "<Figure size 432x288 with 1 Axes>"
      ]
     },
     "metadata": {
      "needs_background": "light"
     },
     "output_type": "display_data"
    }
   ],
   "source": [
    "# Se grafica la respuesta al escalón\n",
    "ts = np.linspace(0, 20, 1000)\n",
    "_, y = control.step_response(Gp, ts)\n",
    "plt.plot(ts, y)\n",
    "plt.grid(True)"
   ]
  },
  {
   "cell_type": "markdown",
   "id": "9e7354a7",
   "metadata": {},
   "source": [
    "Se tomarán distintos escenarios para $G_c(s) = k_c$.\n"
   ]
  },
  {
   "cell_type": "code",
   "execution_count": 10,
   "id": "31731126",
   "metadata": {},
   "outputs": [],
   "source": [
    "Gc1 = 0.5\n",
    "Gc2 = 1.0\n",
    "Gc3 = 1.5\n",
    "Gc4 = 2.0\n",
    "Gc5 = 2.5\n",
    "Gc6 = 18.5\n",
    "Gc7 = 21.5e3"
   ]
  },
  {
   "cell_type": "code",
   "execution_count": 12,
   "id": "80620add",
   "metadata": {},
   "outputs": [
    {
     "data": {
      "text/latex": [
       "$$\\frac{1}{4 s - 2}$$"
      ],
      "text/plain": [
       "TransferFunction(array([1.]), array([ 4., -2.]))"
      ]
     },
     "execution_count": 12,
     "metadata": {},
     "output_type": "execute_result"
    }
   ],
   "source": [
    "# Caso 1\n",
    "G_LC1 = control.feedback(Gc1*Gp,1)\n",
    "_, y1 = control.step_response(G_LC1, ts)\n",
    "\n",
    "G_LC1"
   ]
  },
  {
   "cell_type": "code",
   "execution_count": 13,
   "id": "4b6d04a3",
   "metadata": {},
   "outputs": [
    {
     "data": {
      "text/latex": [
       "$$\\frac{2}{4 s - 1}$$"
      ],
      "text/plain": [
       "TransferFunction(array([2.]), array([ 4., -1.]))"
      ]
     },
     "execution_count": 13,
     "metadata": {},
     "output_type": "execute_result"
    }
   ],
   "source": [
    "# Caso 2\n",
    "G_LC2 = control.feedback(Gc2*Gp,1)\n",
    "_, y2 = control.step_response(G_LC2, ts)\n",
    "G_LC2"
   ]
  },
  {
   "cell_type": "code",
   "execution_count": 14,
   "id": "133e7c1e",
   "metadata": {},
   "outputs": [
    {
     "data": {
      "text/latex": [
       "$$\\frac{3}{4 s}$$"
      ],
      "text/plain": [
       "TransferFunction(array([3.]), array([4., 0.]))"
      ]
     },
     "execution_count": 14,
     "metadata": {},
     "output_type": "execute_result"
    }
   ],
   "source": [
    "# Caso 3\n",
    "G_LC3 = control.feedback(Gc3*Gp,1)\n",
    "_, y3 = control.step_response(G_LC3, ts)\n",
    "G_LC3"
   ]
  },
  {
   "cell_type": "code",
   "execution_count": 15,
   "id": "2317292f",
   "metadata": {},
   "outputs": [
    {
     "data": {
      "text/latex": [
       "$$\\frac{4}{4 s + 1}$$"
      ],
      "text/plain": [
       "TransferFunction(array([4.]), array([4., 1.]))"
      ]
     },
     "execution_count": 15,
     "metadata": {},
     "output_type": "execute_result"
    }
   ],
   "source": [
    "# Caso 4\n",
    "G_LC4 = control.feedback(Gc4*Gp,1)\n",
    "_, y4 = control.step_response(G_LC4, ts)\n",
    "G_LC4"
   ]
  },
  {
   "cell_type": "code",
   "execution_count": 16,
   "id": "c6ba16f6",
   "metadata": {},
   "outputs": [
    {
     "data": {
      "text/latex": [
       "$$\\frac{5}{4 s + 2}$$"
      ],
      "text/plain": [
       "TransferFunction(array([5.]), array([4., 2.]))"
      ]
     },
     "execution_count": 16,
     "metadata": {},
     "output_type": "execute_result"
    }
   ],
   "source": [
    "# Caso 5\n",
    "G_LC5 = control.feedback(Gc5*Gp,1)\n",
    "_, y5 = control.step_response(G_LC5, ts)\n",
    "G_LC5"
   ]
  },
  {
   "cell_type": "code",
   "execution_count": 17,
   "id": "a0f8e63e",
   "metadata": {},
   "outputs": [
    {
     "data": {
      "text/latex": [
       "$$\\frac{37}{4 s + 34}$$"
      ],
      "text/plain": [
       "TransferFunction(array([37.]), array([ 4., 34.]))"
      ]
     },
     "execution_count": 17,
     "metadata": {},
     "output_type": "execute_result"
    }
   ],
   "source": [
    "# Caso 6\n",
    "G_LC6 = control.feedback(Gc6*Gp,1)\n",
    "_, y6 = control.step_response(G_LC6, ts)\n",
    "G_LC6"
   ]
  },
  {
   "cell_type": "code",
   "execution_count": 18,
   "id": "2636ba50",
   "metadata": {},
   "outputs": [
    {
     "data": {
      "text/latex": [
       "$$\\frac{4.3 \\times 10^{4}}{4 s + 4.3 \\times 10^{4}}$$"
      ],
      "text/plain": [
       "TransferFunction(array([43000.]), array([4.0000e+00, 4.2997e+04]))"
      ]
     },
     "execution_count": 18,
     "metadata": {},
     "output_type": "execute_result"
    }
   ],
   "source": [
    "# Caso 7\n",
    "G_LC7 = control.feedback(Gc7*Gp,1)\n",
    "_, y7 = control.step_response(G_LC7, ts)\n",
    "G_LC7"
   ]
  },
  {
   "cell_type": "code",
   "execution_count": 20,
   "id": "7eb98a00",
   "metadata": {},
   "outputs": [
    {
     "data": {
      "image/png": "[encoded data removed]",
      "text/plain": [
       "<Figure size 432x288 with 1 Axes>"
      ]
     },
     "metadata": {
      "needs_background": "light"
     },
     "output_type": "display_data"
    }
   ],
   "source": [
    "# Se grafica el mapa de polos y ceros para todos los escenarios\n",
    "control.pzmap(Gp)\n",
    "control.pzmap(G_LC1)\n",
    "control.pzmap(G_LC2)\n",
    "control.pzmap(G_LC3)\n",
    "control.pzmap(G_LC4)\n",
    "control.pzmap(G_LC5)\n",
    "control.pzmap(G_LC6)\n",
    "# control.pzmap(G_LC7)\n",
    "plt.grid(True)"
   ]
  },
  {
   "cell_type": "code",
   "execution_count": 21,
   "id": "f66cd620",
   "metadata": {},
   "outputs": [
    {
     "data": {
      "image/png": "[encoded data removed]",
      "text/plain": [
       "<Figure size 432x288 with 1 Axes>"
      ]
     },
     "metadata": {
      "needs_background": "light"
     },
     "output_type": "display_data"
    }
   ],
   "source": [
    "# Se grafica la respuesta al escalón para todos los escenarios\n",
    "plt.plot(ts, y,ts, y1,ts, y2,ts, y3,ts, y4,ts, y5,ts, y6)\n",
    "plt.legend(['Proceso',\n",
    "            'k=' + str(Gc1),\n",
    "            'k=' + str(Gc2),\n",
    "            'k=' + str(Gc3),\n",
    "            'k=' + str(Gc4),\n",
    "            'k=' + str(Gc5),\n",
    "            'k=' + str(Gc6),\n",
    "            'k=' + str(Gc7)\n",
    "           ])\n",
    "plt.grid(True)"
   ]
  },
  {
   "cell_type": "code",
   "execution_count": 80,
   "id": "4a049900",
   "metadata": {
    "scrolled": true
   },
   "outputs": [
    {
     "data": {
      "image/png": "[encoded data removed]",
      "text/plain": [
       "<Figure size 432x288 with 1 Axes>"
      ]
     },
     "metadata": {
      "needs_background": "light"
     },
     "output_type": "display_data"
    }
   ],
   "source": [
    "# Se grafica la respuesta al escalón para los escenarios inestables\n",
    "#plt.plot(ts, y,ts, y1,ts, y2,ts, y3)\n",
    "plt.plot(ts, y1,ts, y2,ts, y3)\n",
    "plt.legend(['k=' + str(Gc1),\n",
    "            'k=' + str(Gc2),\n",
    "            'k=' + str(Gc3)])\n",
    "plt.grid(True)"
   ]
  },
  {
   "cell_type": "code",
   "execution_count": 22,
   "id": "bd3e2b44",
   "metadata": {},
   "outputs": [
    {
     "data": {
      "image/png": "[encoded data removed]",
      "text/plain": [
       "<Figure size 432x288 with 1 Axes>"
      ]
     },
     "metadata": {
      "needs_background": "light"
     },
     "output_type": "display_data"
    }
   ],
   "source": [
    "# Se grafica la respuesta al escalón para los escenarios inestables\n",
    "#plt.plot(ts, y,ts, y1,ts, y2,ts, y3)\n",
    "plt.plot(ts, y3)\n",
    "plt.legend(['k=' + str(Gc3)])\n",
    "plt.grid(True)"
   ]
  },
  {
   "cell_type": "code",
   "execution_count": 23,
   "id": "d9ef7230",
   "metadata": {},
   "outputs": [
    {
     "data": {
      "image/png": "[encoded data removed]",
      "text/plain": [
       "<Figure size 432x288 with 1 Axes>"
      ]
     },
     "metadata": {
      "needs_background": "light"
     },
     "output_type": "display_data"
    }
   ],
   "source": [
    "# La respuesta al escalón para los escenarios estables y el integrador\n",
    "plt.plot(ts, y3,ts, y4,ts, y5,ts,y6,ts,y7)\n",
    "plt.legend(['k=' + str(Gc3),\n",
    "            'k=' + str(Gc4),\n",
    "            'k=' + str(Gc5),\n",
    "            'k=' + str(Gc6),\n",
    "           'k=' + str(Gc7)])\n",
    "plt.grid(True)"
   ]
  },
  {
   "cell_type": "code",
   "execution_count": 24,
   "id": "f1b1e8a6",
   "metadata": {
    "scrolled": true
   },
   "outputs": [
    {
     "data": {
      "image/png": "[encoded data removed]",
      "text/plain": [
       "<Figure size 432x288 with 1 Axes>"
      ]
     },
     "metadata": {
      "needs_background": "light"
     },
     "output_type": "display_data"
    }
   ],
   "source": [
    "# La respuesta al escalón para los escenarios estables y el integrador\n",
    "plt.plot(ts, y4,ts, y5,ts,y6,ts,y7)\n",
    "plt.legend(['k=' + str(Gc4),\n",
    "            'k=' + str(Gc5),\n",
    "            'k=' + str(Gc6),\n",
    "            'k=' + str(Gc7)])\n",
    "plt.grid(True)"
   ]
  },
  {
   "cell_type": "code",
   "execution_count": 25,
   "id": "cfaede7e",
   "metadata": {},
   "outputs": [
    {
     "data": {
      "text/plain": [
       "(0, 2)"
      ]
     },
     "execution_count": 25,
     "metadata": {},
     "output_type": "execute_result"
    },
    {
     "data": {
      "image/png": "[encoded data removed]",
      "text/plain": [
       "<Figure size 432x288 with 1 Axes>"
      ]
     },
     "metadata": {
      "needs_background": "light"
     },
     "output_type": "display_data"
    }
   ],
   "source": [
    "# La respuesta al escalón para los escenarios estables y el integrador\n",
    "plt.plot(ts,y6,ts,y7)\n",
    "plt.legend(['k=' + str(Gc6),\n",
    "            'k=' + str(Gc7)])\n",
    "plt.grid(True)\n",
    "plt.xlim([0,2])"
   ]
  },
  {
   "cell_type": "markdown",
   "id": "a7886ac4",
   "metadata": {},
   "source": [
    "**Observaciones**\n",
    "\n",
    "- El proceso es de primer orden inestable.\n",
    "- El controlador de modelo $G_c(s) = k_c$ fue capaz de estabilizar al sistema a partir de un valor determinado de $k_c$\n",
    "- Una vez estable, el efecto de aumentar $k_c$ se aprecia en la reducción del tiempo de estabilización.\n",
    "\n",
    "**Preguntas**\n",
    "- ¿Puede identificar qué efecto tiene aumentar $k_c$ sobre el valor final de la señal controlada?\n",
    "- ¿Puede identificar qué efecto tiene aumentar $k_c$ sobre el valor final de la señal de error?"
   ]
  },
  {
   "cell_type": "code",
   "execution_count": null,
   "id": "b2651ec6",
   "metadata": {},
   "outputs": [],
   "source": []
  },
  {
   "cell_type": "code",
   "execution_count": null,
   "id": "5ad681ce",
   "metadata": {},
   "outputs": [],
   "source": []
  },
  {
   "cell_type": "code",
   "execution_count": null,
   "id": "95c88b00",
   "metadata": {},
   "outputs": [],
   "source": []
  }
 ],
 "metadata": {
  "kernelspec": {
   "display_name": "Python 3",
   "language": "python",
   "name": "python3"
  },
  "language_info": {
   "codemirror_mode": {
    "name": "ipython",
    "version": 3
   },
   "file_extension": ".py",
   "mimetype": "text/x-python",
   "name": "python",
   "nbconvert_exporter": "python",
   "pygments_lexer": "ipython3",
   "version": "3.7.3"
  },
  "latex_envs": {
   "LaTeX_envs_menu_present": true,
   "autoclose": false,
   "autocomplete": true,
   "bibliofile": "biblio.bib",
   "cite_by": "apalike",
   "current_citInitial": 1,
   "eqLabelWithNumbers": true,
   "eqNumInitial": 0,
   "hotkeys": {
    "equation": "Ctrl-E",
    "itemize": "Ctrl-I"
   },
   "labels_anchors": false,
   "latex_user_defs": false,
   "report_style_numbering": false,
   "user_envs_cfg": false
  },
  "toc": {
   "base_numbering": 1,
   "nav_menu": {},
   "number_sections": true,
   "sideBar": true,
   "skip_h1_title": false,
   "title_cell": "Table of Contents",
   "title_sidebar": "Contents",
   "toc_cell": false,
   "toc_position": {},
   "toc_section_display": true,
   "toc_window_display": false
  },
  "varInspector": {
   "cols": {
    "lenName": 16,
    "lenType": 16,
    "lenVar": 40
   },
   "kernels_config": {
    "python": {
     "delete_cmd_postfix": "",
     "delete_cmd_prefix": "del ",
     "library": "var_list.py",
     "varRefreshCmd": "print(var_dic_list())"
    },
    "r": {
     "delete_cmd_postfix": ") ",
     "delete_cmd_prefix": "rm(",
     "library": "var_list.r",
     "varRefreshCmd": "cat(var_dic_list()) "
    }
   },
   "types_to_exclude": [
    "module",
    "function",
    "builtin_function_or_method",
    "instance",
    "_Feature"
   ],
   "window_display": false
  }
 },
 "nbformat": 4,
 "nbformat_minor": 5
}
