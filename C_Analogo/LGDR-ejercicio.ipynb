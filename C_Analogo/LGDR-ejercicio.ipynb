{
 "cells": [
  {
   "cell_type": "code",
   "execution_count": 1,
   "id": "d8de2a7e",
   "metadata": {},
   "outputs": [],
   "source": [
    "import pandas as pd\n",
    "import sympy as sym\n",
    "sym.init_printing()\n",
    "%matplotlib inline\n",
    "\n",
    "import numpy as np\n",
    "import matplotlib.pyplot as plt\n",
    "import control"
   ]
  },
  {
   "cell_type": "markdown",
   "id": "5c3fecb0",
   "metadata": {},
   "source": [
    "# Tarea: LGDR\n",
    "**Nombre completo**:\n",
    "\n",
    "*Fulano de Tal*"
   ]
  },
  {
   "cell_type": "markdown",
   "id": "7b32f929",
   "metadata": {},
   "source": [
    "Considere el proceso modelado por\n",
    "\n",
    "$$G_p(s) =  \\frac{5}{s(s+4)(s+10)}$$\n",
    "\n",
    "Suponga que los polos dominantes en lazo cerrado están en $-3 \\pm j3$\n"
   ]
  },
  {
   "cell_type": "markdown",
   "id": "6f131074",
   "metadata": {},
   "source": [
    "1. Diseñe un compensador en adelanto que cumpla con el requerimiento."
   ]
  },
  {
   "cell_type": "code",
   "execution_count": 2,
   "id": "7d21b82e",
   "metadata": {},
   "outputs": [],
   "source": [
    "# código necesario para su desarrollo\n",
    "\n"
   ]
  },
  {
   "cell_type": "markdown",
   "id": "decc5bb0",
   "metadata": {},
   "source": [
    "Respuestas"
   ]
  },
  {
   "cell_type": "markdown",
   "id": "092484f3",
   "metadata": {},
   "source": [
    "2.Diseñe un compensador en atraso que disminuya a la décima parte el error de estado estable ante una entrada rampa."
   ]
  },
  {
   "cell_type": "code",
   "execution_count": 3,
   "id": "560bf3fd",
   "metadata": {},
   "outputs": [],
   "source": [
    "# código necesario para su desarrollo\n",
    "\n"
   ]
  },
  {
   "cell_type": "markdown",
   "id": "0c6fc7f8",
   "metadata": {},
   "source": [
    "Respuestas"
   ]
  },
  {
   "cell_type": "markdown",
   "id": "19c5dcf5",
   "metadata": {},
   "source": [
    "3. Analice y compare el LGDR del proceso con el del sistema controlado con el compensador en adelanto y el sistema controlado con el  compensador en adelanto-atraso."
   ]
  },
  {
   "cell_type": "code",
   "execution_count": 4,
   "id": "734ceaf4",
   "metadata": {},
   "outputs": [],
   "source": [
    "# código necesario para su desarrollo\n",
    "\n"
   ]
  },
  {
   "cell_type": "markdown",
   "id": "ec856f74",
   "metadata": {},
   "source": [
    "Respuestas"
   ]
  },
  {
   "cell_type": "markdown",
   "id": "8b81c7ba",
   "metadata": {},
   "source": [
    "4. Analice y compare la respuesta temporal del proceso con el del sistema controlado con el compensador en adelanto y el sistema controlado con el  compensador en adelanto-atraso."
   ]
  },
  {
   "cell_type": "code",
   "execution_count": 5,
   "id": "47140848",
   "metadata": {},
   "outputs": [],
   "source": [
    "# código necesario para su desarrollo\n",
    "\n"
   ]
  },
  {
   "cell_type": "markdown",
   "id": "7f5ca52e",
   "metadata": {},
   "source": [
    "Respuestas"
   ]
  },
  {
   "cell_type": "markdown",
   "id": "64131bc3",
   "metadata": {},
   "source": [
    "5. Conclusiones\n",
    "- conclusión 1.\n",
    "- conclusión 2."
   ]
  }
 ],
 "metadata": {
  "kernelspec": {
   "display_name": "Python 3",
   "language": "python",
   "name": "python3"
  },
  "language_info": {
   "codemirror_mode": {
    "name": "ipython",
    "version": 3
   },
   "file_extension": ".py",
   "mimetype": "text/x-python",
   "name": "python",
   "nbconvert_exporter": "python",
   "pygments_lexer": "ipython3",
   "version": "3.7.3"
  },
  "latex_envs": {
   "bibliofile": "biblio.bib",
   "cite_by": "apalike",
   "current_citInitial": 1,
   "eqLabelWithNumbers": true,
   "eqNumInitial": 0
  }
 },
 "nbformat": 4,
 "nbformat_minor": 5
}
