{
 "cells": [
  {
   "cell_type": "code",
   "execution_count": 1,
   "id": "315c08a8",
   "metadata": {},
   "outputs": [],
   "source": [
    "from sympy import MatrixSymbol, Matrix, Identity\n",
    "\n",
    "import sympy as sym\n",
    "\n",
    "sym.init_printing()\n",
    "%matplotlib inline\n",
    "\n",
    "import pandas as pd\n",
    "import numpy as np\n",
    "import matplotlib.pyplot as plt\n",
    "import control"
   ]
  },
  {
   "cell_type": "markdown",
   "id": "5439cd68",
   "metadata": {},
   "source": [
    "Considere el circuito que se muestra en la figura. Suponga que la entrada es el voltaje $x(t)$ y la salida es el voltaje $y(t)$. Suponga además que no hay energía almacenada en los elementos que almacenan energía en $t<0$. Además, considere que $x(t)=0 \\forall t<0$.\n",
    "\n",
    "![Circuito](figuras/lowpass.png)"
   ]
  },
  {
   "cell_type": "markdown",
   "id": "019944b3",
   "metadata": {},
   "source": [
    "\\begin{align}\n",
    "R i(t) + L \\frac{di}{dt} + \\frac{1}{C} \\int_{0}^{t} i(\\tau) d\\tau &= x(t) \\\\\n",
    "C R \\frac{d y(t)}{dt} + C L \\frac{d^2 y(t)}{dt^2} + y(t)& = x(t) \\\\\n",
    "\\end{align}"
   ]
  },
  {
   "cell_type": "markdown",
   "id": "c8197b42",
   "metadata": {},
   "source": [
    "La función de transferencia de un sistema cuya entrada es una señal $u$ y cuya salida es $y$ de un sistema corresponde a $\\frac{U(s)}{y(s)}$.\n",
    "\n",
    "Su representación en espacio de estados se muestra en el siguiente diagrama.\n",
    "\n",
    "![EspacioEstados](figuras/EspacioEstadosDiagrama.png)"
   ]
  },
  {
   "cell_type": "markdown",
   "id": "c60e6f61",
   "metadata": {},
   "source": [
    "- La entrada $u$ puede tener un efecto directo sobre la salida a través de $D$.\n",
    "- $X$ es un vector de señales internas del sistema.\n",
    "- $\\dot{X}$ es el vector de derivadas de $X$.\n",
    "- $u$ altera la derivada de $X$ a través de $B$.\n",
    "- $X$ realimenta a sus derivadas a través de $A$.\n",
    "- $X$ envía información desde el estado hacia la salida $y$ a través de $C$.\n",
    "\n",
    "$$\\dot{X} = A \\cdot X + B \\cdot u $$\n",
    "$$y =  C \\cdot X +  D \\cdot u $$"
   ]
  },
  {
   "cell_type": "markdown",
   "id": "f5ec684a",
   "metadata": {},
   "source": [
    "$$x_1=y(t) = \\frac{1}{C} \\int_{0}^{t} i(\\tau) d\\tau$$\n",
    "$$x_2=i(t)$$"
   ]
  },
  {
   "cell_type": "markdown",
   "id": "44dc8bab",
   "metadata": {},
   "source": [
    "$$\\dot{x}_1=\\frac{dy}{dt} = \\frac{1}{C} i(t) = \\frac{1}{C} x_2$$\n",
    "$$\\dot{x}_2=\\frac{di}{dt} = \\frac{1}{L}u - \\frac{1}{L}x_1 - \\frac{R}{L} \\cdot x_2 $$"
   ]
  },
  {
   "cell_type": "markdown",
   "id": "104bb809",
   "metadata": {},
   "source": [
    "$$ \\left [ \\matrix{\\dot{x}_1 \\\\ \\dot{x}_2} \\right ] = \\left [ \\matrix{ 0 & \\frac{1}{C} \\\\ -\\frac{1}{L} & -\\frac{R}{L} } \\right ]  \\left [ \\matrix{x_1 \\\\ x_2} \\right ] + \\left [ \\matrix{0 \\\\ \\frac{1}{L} } \\right ]u $$ \n",
    "\n",
    "$$y = \\left [ \\matrix{1 & 0} \\right ] \\left [ \\matrix{x_1 \\\\ x_2} \\right ]$$"
   ]
  },
  {
   "cell_type": "code",
   "execution_count": 2,
   "id": "b278ed00",
   "metadata": {},
   "outputs": [],
   "source": [
    "R,L,C,t = sym.symbols(['R','L','C','t'],real = True)\n",
    "s = sym.symbols('s',complex = True)"
   ]
  },
  {
   "cell_type": "code",
   "execution_count": 3,
   "id": "50763184",
   "metadata": {},
   "outputs": [],
   "source": [
    "A1 = Matrix([[0,(1/C)],[-(1/L),-(R/L)]])\n",
    "B1 = Matrix([[0],[1/L]])\n",
    "C1 = Matrix([[1,0]])\n",
    "D1 = Matrix([[0]])\n",
    "I = Matrix([[1,0],[0,1]])"
   ]
  },
  {
   "cell_type": "code",
   "execution_count": 4,
   "id": "7503b299",
   "metadata": {},
   "outputs": [
    {
     "data": {
      "image/png": "[encoded data removed]",
      "text/latex": [
       "$\\displaystyle \\frac{1}{C s \\left(L s + R\\right) + 1}$"
      ],
      "text/plain": [
       "        1        \n",
       "─────────────────\n",
       "C⋅s⋅(L⋅s + R) + 1"
      ]
     },
     "execution_count": 4,
     "metadata": {},
     "output_type": "execute_result"
    }
   ],
   "source": [
    "GS = C1*(s*I-A1).inv()*B1+D1\n",
    "GS[0,0].simplify()"
   ]
  },
  {
   "cell_type": "code",
   "execution_count": 5,
   "id": "5dd1112e",
   "metadata": {},
   "outputs": [
    {
     "data": {
      "image/png": "[encoded data removed]",
      "text/latex": [
       "$\\displaystyle \\left[\\begin{matrix}\\frac{1}{C L \\left(s \\left(s + \\frac{R}{L}\\right) + \\frac{1}{C L}\\right)}\\end{matrix}\\right]$"
      ],
      "text/plain": [
       "⎡          1          ⎤\n",
       "⎢─────────────────────⎥\n",
       "⎢    ⎛  ⎛    R⎞    1 ⎞⎥\n",
       "⎢C⋅L⋅⎜s⋅⎜s + ─⎟ + ───⎟⎥\n",
       "⎣    ⎝  ⎝    L⎠   C⋅L⎠⎦"
      ]
     },
     "execution_count": 5,
     "metadata": {},
     "output_type": "execute_result"
    }
   ],
   "source": [
    "GS"
   ]
  },
  {
   "cell_type": "code",
   "execution_count": 6,
   "id": "1fdbe242",
   "metadata": {},
   "outputs": [
    {
     "data": {
      "image/png": "[encoded data removed]",
      "text/latex": [
       "$\\displaystyle \\left\\{ C : 0.002, \\  L : 0.005, \\  R : 1\\right\\}$"
      ],
      "text/plain": [
       "{C: 0.002, L: 0.005, R: 1}"
      ]
     },
     "execution_count": 6,
     "metadata": {},
     "output_type": "execute_result"
    }
   ],
   "source": [
    "RLC = {R: 1,\n",
    "       L: 0.005,\n",
    "       C: .002}\n",
    "RLC"
   ]
  },
  {
   "cell_type": "code",
   "execution_count": 8,
   "id": "db298ae8",
   "metadata": {},
   "outputs": [
    {
     "data": {
      "text/latex": [
       "\\[\n",
       "\\left(\n",
       "\\begin{array}{rllrll|rll}\n",
       "0\\phantom{.}&\\hspace{-1em}&\\hspace{-1em}\\phantom{\\cdot}&500\\phantom{.}&\\hspace{-1em}&\\hspace{-1em}\\phantom{\\cdot}&0\\phantom{.}&\\hspace{-1em}&\\hspace{-1em}\\phantom{\\cdot}\\\\\n",
       "-200\\phantom{.}&\\hspace{-1em}&\\hspace{-1em}\\phantom{\\cdot}&-200\\phantom{.}&\\hspace{-1em}&\\hspace{-1em}\\phantom{\\cdot}&200\\phantom{.}&\\hspace{-1em}&\\hspace{-1em}\\phantom{\\cdot}\\\\\n",
       "\\hline\n",
       "1\\phantom{.}&\\hspace{-1em}&\\hspace{-1em}\\phantom{\\cdot}&0\\phantom{.}&\\hspace{-1em}&\\hspace{-1em}\\phantom{\\cdot}&0\\phantom{.}&\\hspace{-1em}&\\hspace{-1em}\\phantom{\\cdot}\\\\\n",
       "\\end{array}\\right)\n",
       "\\]"
      ],
      "text/plain": [
       "StateSpace(array([[   0.,  500.],\n",
       "       [-200., -200.]]), array([[  0.],\n",
       "       [200.]]), array([[1., 0.]]), array([[0.]]))"
      ]
     },
     "execution_count": 8,
     "metadata": {},
     "output_type": "execute_result"
    }
   ],
   "source": [
    "Gss1 = control.ss(A1.subs(RLC),B1.subs(RLC),C1.subs(RLC),D1.subs(RLC))\n",
    "Gss1"
   ]
  },
  {
   "cell_type": "code",
   "execution_count": 10,
   "id": "e7a54bd4",
   "metadata": {},
   "outputs": [
    {
     "data": {
      "text/plain": [
       "[<matplotlib.lines.Line2D at 0x144c9cb4668>]"
      ]
     },
     "execution_count": 10,
     "metadata": {},
     "output_type": "execute_result"
    },
    {
     "data": {
      "image/png": "[encoded data removed]",
      "text/plain": [
       "<Figure size 432x288 with 1 Axes>"
      ]
     },
     "metadata": {
      "needs_background": "light"
     },
     "output_type": "display_data"
    }
   ],
   "source": [
    "t,y = control.step_response(Gss1)\n",
    "plt.plot(t,y)"
   ]
  },
  {
   "cell_type": "code",
   "execution_count": null,
   "id": "c04adf65",
   "metadata": {},
   "outputs": [],
   "source": []
  }
 ],
 "metadata": {
  "kernelspec": {
   "display_name": "Python 3",
   "language": "python",
   "name": "python3"
  },
  "language_info": {
   "codemirror_mode": {
    "name": "ipython",
    "version": 3
   },
   "file_extension": ".py",
   "mimetype": "text/x-python",
   "name": "python",
   "nbconvert_exporter": "python",
   "pygments_lexer": "ipython3",
   "version": "3.7.3"
  },
  "latex_envs": {
   "LaTeX_envs_menu_present": true,
   "autoclose": false,
   "autocomplete": true,
   "bibliofile": "biblio.bib",
   "cite_by": "apalike",
   "current_citInitial": 1,
   "eqLabelWithNumbers": true,
   "eqNumInitial": 1,
   "hotkeys": {
    "equation": "Ctrl-E",
    "itemize": "Ctrl-I"
   },
   "labels_anchors": false,
   "latex_user_defs": false,
   "report_style_numbering": false,
   "user_envs_cfg": false
  },
  "varInspector": {
   "cols": {
    "lenName": 16,
    "lenType": 16,
    "lenVar": 40
   },
   "kernels_config": {
    "python": {
     "delete_cmd_postfix": "",
     "delete_cmd_prefix": "del ",
     "library": "var_list.py",
     "varRefreshCmd": "print(var_dic_list())"
    },
    "r": {
     "delete_cmd_postfix": ") ",
     "delete_cmd_prefix": "rm(",
     "library": "var_list.r",
     "varRefreshCmd": "cat(var_dic_list()) "
    }
   },
   "types_to_exclude": [
    "module",
    "function",
    "builtin_function_or_method",
    "instance",
    "_Feature"
   ],
   "window_display": false
  }
 },
 "nbformat": 4,
 "nbformat_minor": 5
}
